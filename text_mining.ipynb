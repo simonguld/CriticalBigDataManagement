{
 "cells": [
  {
   "cell_type": "code",
   "execution_count": 1,
   "id": "6acc119c",
   "metadata": {},
   "outputs": [
    {
     "name": "stderr",
     "output_type": "stream",
     "text": [
      "c:\\Users\\Simon Andersen\\miniconda3\\envs\\BigData\\lib\\site-packages\\tqdm\\auto.py:21: TqdmWarning: IProgress not found. Please update jupyter and ipywidgets. See https://ipywidgets.readthedocs.io/en/stable/user_install.html\n",
      "  from .autonotebook import tqdm as notebook_tqdm\n",
      "[nltk_data] Downloading package punkt to C:\\Users\\Simon\n",
      "[nltk_data]     Andersen\\AppData\\Roaming\\nltk_data...\n",
      "[nltk_data]   Package punkt is already up-to-date!\n",
      "[nltk_data] Downloading package wordnet to C:\\Users\\Simon\n",
      "[nltk_data]     Andersen\\AppData\\Roaming\\nltk_data...\n",
      "[nltk_data]   Package wordnet is already up-to-date!\n",
      "[nltk_data] Downloading package stopwords to C:\\Users\\Simon\n",
      "[nltk_data]     Andersen\\AppData\\Roaming\\nltk_data...\n",
      "[nltk_data]   Package stopwords is already up-to-date!\n"
     ]
    }
   ],
   "source": [
    "import os\n",
    "import shutil\n",
    "\n",
    "import numpy as np\n",
    "import pandas as pd\n",
    "import seaborn as sns\n",
    "import matplotlib.pyplot as plt\n",
    "\n",
    "from sklearn.decomposition import LatentDirichletAllocation\n",
    "from sklearn.datasets import make_multilabel_classification\n",
    "from transformers import pipeline\n",
    "from sklearn.feature_extraction.text import TfidfVectorizer\n",
    "from sklearn.feature_extraction.text import CountVectorizer\n",
    "from sklearn.decomposition import LatentDirichletAllocation\n",
    "from sklearn.feature_extraction.text import  CountVectorizer\n",
    "\n",
    "#!pip install  wordcloud\n",
    "from wordcloud import WordCloud\n",
    "\n",
    "import nltk\n",
    "from nltk.stem import WordNetLemmatizer\n",
    "from nltk.corpus import stopwords\n",
    "from nltk.tokenize import word_tokenize, RegexpTokenizer\n",
    "\n",
    "nltk.download('punkt');\n",
    "nltk.download('wordnet');\n",
    "nltk.download('stopwords');\n",
    "\n"
   ]
  },
  {
   "cell_type": "markdown",
   "id": "fc6fc38d",
   "metadata": {},
   "source": [
    "### Preprocessing\n",
    "\n",
    "#### Preprocessing is a huge chunk of the overall workload, as you may have noticed, and for text data, it involves some, but not usually all of the the following steps:\n",
    "\n",
    "Document level preprocessing:\n",
    "* Data cleaning (duplicate and noise removal)\n",
    "* Data construction (deriving the features)\n",
    "* Data reformatting and restructuring \n",
    "\n",
    "Word level preprocessing:\n",
    "* Word cleaning (Removal of illegal features and numbers, upper cases letters, mispellings etc)\n",
    "* Removal of irrelevant words (stopwords)\n",
    "* Tokenization\n",
    "* n-gram construction\n",
    "* Part-of-speech filtering\n",
    "* Lemmatization\n",
    "* Stemming\n",
    "* Vectorization (embedding words as vectors in a large dimensional space)\n",
    "\n",
    "\n",
    "\n",
    "\n"
   ]
  },
  {
   "cell_type": "code",
   "execution_count": 2,
   "id": "ac3032d7",
   "metadata": {},
   "outputs": [
    {
     "name": "stdout",
     "output_type": "stream",
     "text": [
      "Number of conversations:  300\n",
      "Number of rows in conversations.csv:  4039\n",
      "Number of speakers:  349\n",
      "Columns in conversations.csv:  ['id', 'timestamp', 'speaker', 'text']\n"
     ]
    }
   ],
   "source": [
    "data = pd.read_csv('data/conversations.csv')\n",
    "\n",
    "N_conv = len(data['id'].unique())\n",
    "Nrows = data.shape[0]\n",
    "Nspeakers = len(data['speaker'].unique())\n",
    "\n",
    "print('Number of conversations: ', N_conv)\n",
    "print('Number of rows in conversations.csv: ', Nrows)\n",
    "print('Number of speakers: ', Nspeakers)\n",
    "\n",
    "print(\"Columns in conversations.csv: \", list(data.columns))\n"
   ]
  },
  {
   "cell_type": "markdown",
   "id": "ab39408b",
   "metadata": {},
   "source": [
    "Since we would like to extract information from entire conversations (possibly differentiated whether it is the patient or doctor speaking), we group the data by conversation. To also group by speaker, use the outcommented line of code instead.\n",
    "\n",
    "Simply grouping by conversation means that each conversation takes up 1 row, and that our 'document' is a conversation"
   ]
  },
  {
   "cell_type": "code",
   "execution_count": 3,
   "id": "f553e0b3",
   "metadata": {},
   "outputs": [
    {
     "name": "stdout",
     "output_type": "stream",
     "text": [
      "                                     id  \\\n",
      "0  000890d3-ca87-4fcf-9825-877a1861588b   \n",
      "1  016f462d-35d3-432a-aa5c-c085c935e711   \n",
      "2  02ce4149-965a-4e5b-91c2-2a21b5ab50ee   \n",
      "3  038a4758-29f2-48a1-b88d-a9af221746a6   \n",
      "4  03b955fd-4771-4069-931d-dfa84f3be4e4   \n",
      "\n",
      "                                                text  index  \n",
      "0  ['Hello Isabelle! How have you been since our ...      0  \n",
      "1  ['Good morning, Vanya! How have you been since...      1  \n",
      "2  ['Hi Sophia! How are you doing today?', \"Hi Ra...      2  \n",
      "3  [\"Hi Ming! It's great to see you again. How ha...      3  \n",
      "4  [\"Hello Zoey! It's great to see you again for ...      4  \n"
     ]
    }
   ],
   "source": [
    "\n",
    "# Group data by conversation and speaker\n",
    "data = data.groupby(['id'])['text'].apply(list).reset_index(name='text').astype(str)\n",
    "\n",
    "# To make plots and printouts prettier, we'll make a shorthand for the conversation IDs\n",
    "# by defining a new column called conversation index, or index for short\n",
    "data['index'] = np.arange(len(data))\n",
    "\n",
    "# To also group by speaker, uncomment the following line\n",
    "#data = data.groupby(['id', 'speaker'])['text'].apply(list).reset_index(name='text').astype(str)\n",
    "\n",
    "print(data.head())"
   ]
  },
  {
   "cell_type": "code",
   "execution_count": 4,
   "id": "9ba51a58",
   "metadata": {},
   "outputs": [],
   "source": [
    "# Remove rows with empty text\n",
    "data = data.loc[data['text'].notna()]\n",
    "\n",
    "# Remove leading and trailing spaces and square brackets\n",
    "data['text'] = data['text'].map(lambda x: x.strip('[').strip(']').strip())"
   ]
  },
  {
   "cell_type": "code",
   "execution_count": 5,
   "id": "c021ad94",
   "metadata": {},
   "outputs": [
    {
     "data": {
      "text/plain": [
       "0    'Hello Isabelle! How have you been since our l...\n",
       "1    'Good morning, Vanya! How have you been since ...\n",
       "2    'Hi Sophia! How are you doing today?', \"Hi Raj...\n",
       "3    \"Hi Ming! It's great to see you again. How hav...\n",
       "4    \"Hello Zoey! It's great to see you again for o...\n",
       "5    \"Hi Cynthia! It's great to see you again. How ...\n",
       "6    'Hello Eva! How have you been since our last s...\n",
       "7    \"Hello Hans! It's great to meet you. How are y...\n",
       "8    'Hi Fiona! How are you doing today?', \"Hi Ali!...\n",
       "9    'Hello Anita! How have you been since our last...\n",
       "Name: text, dtype: object"
      ]
     },
     "execution_count": 5,
     "metadata": {},
     "output_type": "execute_result"
    }
   ],
   "source": [
    "# Let's have a look at the data\n",
    "data.loc[:,'text'].head(10)"
   ]
  },
  {
   "cell_type": "code",
   "execution_count": 6,
   "id": "5275ad45",
   "metadata": {},
   "outputs": [
    {
     "name": "stdout",
     "output_type": "stream",
     "text": [
      "List of words to be removed:  ['i', 'me', 'my', 'myself', 'we', 'our', 'ours', 'ourselves', 'you', \"you're\", \"you've\", \"you'll\", \"you'd\", 'your', 'yours', 'yourself', 'yourselves', 'he', 'him', 'his', 'himself', 'she', \"she's\", 'her', 'hers', 'herself', 'it', \"it's\", 'its', 'itself', 'they', 'them', 'their', 'theirs', 'themselves', 'what', 'which', 'who', 'whom', 'this', 'that', \"that'll\", 'these', 'those', 'am', 'is', 'are', 'was', 'were', 'be', 'been', 'being', 'have', 'has', 'had', 'having', 'do', 'does', 'did', 'doing', 'a', 'an', 'the', 'and', 'but', 'if', 'or', 'because', 'as', 'until', 'while', 'of', 'at', 'by', 'for', 'with', 'about', 'against', 'between', 'into', 'through', 'during', 'before', 'after', 'above', 'below', 'to', 'from', 'up', 'down', 'in', 'out', 'on', 'off', 'over', 'under', 'again', 'further', 'then', 'once', 'here', 'there', 'when', 'where', 'why', 'how', 'all', 'any', 'both', 'each', 'few', 'more', 'most', 'other', 'some', 'such', 'no', 'nor', 'not', 'only', 'own', 'same', 'so', 'than', 'too', 'very', 's', 't', 'can', 'will', 'just', 'don', \"don't\", 'should', \"should've\", 'now', 'd', 'll', 'm', 'o', 're', 've', 'y', 'ain', 'aren', \"aren't\", 'couldn', \"couldn't\", 'didn', \"didn't\", 'doesn', \"doesn't\", 'hadn', \"hadn't\", 'hasn', \"hasn't\", 'haven', \"haven't\", 'isn', \"isn't\", 'ma', 'mightn', \"mightn't\", 'mustn', \"mustn't\", 'needn', \"needn't\", 'shan', \"shan't\", 'shouldn', \"shouldn't\", 'wasn', \"wasn't\", 'weren', \"weren't\", 'won', \"won't\", 'wouldn', \"wouldn't\", 'hi', 'hello', 'welcome', 'yes']\n",
      "\n",
      "First five rows of the text column after preprocessing:\n",
      "\n",
      " 0    isabelle since last session kwame okay meet go...\n",
      "1    good morning vanya since last session good mor...\n",
      "2    sophia today raj well thank great thanks askin...\n",
      "3    ming great see since last meeting neil well th...\n",
      "4    zoey great see annual review terrence well tha...\n",
      "Name: text, dtype: object\n"
     ]
    }
   ],
   "source": [
    "# Remove common words such as me, our, you etc.\n",
    "stop_words = nltk.corpus.stopwords.words('english')\n",
    "\n",
    "# Add some more stopwords, i.e. words to be removed\n",
    "new_stopwords = ['hi', 'hello','welcome', 'yes']\n",
    "stop_words.extend(new_stopwords)\n",
    "\n",
    "from string import punctuation\n",
    "print(\"List of words to be removed: \", stop_words)\n",
    "\n",
    "# Decapitalize text\n",
    "data['text'] = data['text'].apply(lambda x: x.lower())\n",
    "# Remove numbers\n",
    "data['text'] = data['text'].apply(lambda x: ''.join([i for i in x if not i.isdigit()]))\n",
    "# Remove punctuation\n",
    "tokenizer = RegexpTokenizer(r'\\w+')\n",
    "data['text'] = data['text'].apply(lambda x: tokenizer.tokenize(x))\n",
    "# remove stop words\n",
    "data['text'] = data['text'].apply(lambda x: ' '.join([word for word in x if word not in (stop_words)]))\n",
    "\n",
    "print(\"\\nFirst five rows of the text column after preprocessing:\")\n",
    "print(\"\\n\",data['text'].head())\n",
    "\n"
   ]
  },
  {
   "cell_type": "code",
   "execution_count": 7,
   "id": "26fb8670",
   "metadata": {},
   "outputs": [],
   "source": [
    "# Define a function to find unique words in a text\n",
    "def find_unique_words(text, word_list):\n",
    "    for word in text.split():\n",
    "        if word not in word_list:\n",
    "            word_list.append(word)\n",
    "    return"
   ]
  },
  {
   "cell_type": "code",
   "execution_count": 8,
   "id": "fd997c50",
   "metadata": {},
   "outputs": [
    {
     "name": "stdout",
     "output_type": "stream",
     "text": [
      "Number of words in dataset:  44247\n",
      "Number of unique words in dataset:  3344\n",
      " The first 100 unique words:  ['abdominal', 'abilities', 'ability', 'able', 'abroad', 'absolutely', 'absorption', 'abundance', 'accept', 'acceptance', 'access', 'accessible', 'accidental', 'accidentally', 'accommodate', 'accommodates', 'accommodating', 'accomplish', 'accomplishment', 'accordingly', 'account', 'accountable', 'accurate', 'achievable', 'achieve', 'achieved', 'achievement', 'achievements', 'achieving', 'acid', 'acids', 'acknowledge', 'across', 'acting', 'action', 'active', 'actively', 'activities', 'activity', 'actually', 'acupuncture', 'adam', 'adapt', 'adapted', 'adapting', 'adapts', 'add', 'added', 'addiction', 'adding', 'addition', 'additional', 'additionally', 'additions', 'address', 'addresses', 'addressing', 'adequate', 'adherence', 'adjust', 'adjusted', 'adjusting', 'adjustment', 'adjustments', 'adjusts', 'admire', 'admit', 'adrenaline', 'adults', 'advance', 'advantage', 'adventure', 'advice', 'advised', 'advocate', 'aerobic', 'aerosols', 'affect', 'affected', 'affecting', 'affects', 'affordable', 'afghan', 'afraid', 'african', 'afternoon', 'afterwards', 'age', 'ago', 'agree', 'agriculture', 'ah', 'ahead', 'ahmed', 'aiden', 'aids', 'aim', 'aiming', 'air', 'airport']\n"
     ]
    }
   ],
   "source": [
    "# Let's find the no. of words and no. of unique words in the dataset\n",
    "\n",
    "# Number of words in dataset\n",
    "Nwords = data['text'].apply(lambda x: len(x.split()));\n",
    "unique_words_before_lemmatization = []\n",
    "\n",
    "for row in data['text']:\n",
    "    find_unique_words(row, unique_words_before_lemmatization)\n",
    "\n",
    "Nunique_words_before_lemmatization = len(unique_words_before_lemmatization);\n",
    "# sort unique words\n",
    "unique_words = sorted(unique_words_before_lemmatization);\n",
    "\n",
    "print(\"Number of words in dataset: \", Nwords.sum())\n",
    "print(\"Number of unique words in dataset: \", Nunique_words_before_lemmatization)\n",
    "print(\" The first 100 unique words: \", unique_words[:100])"
   ]
  },
  {
   "cell_type": "markdown",
   "id": "97d578eb",
   "metadata": {},
   "source": [
    "We see that different forms of the same words are present like e.g. ability and abilities. This introduces unnecessary redundancy, and we fix it by lemmatization below, i.e. reducing different words forms to their unconjugated 'base', like e.g. letting balls --> ball and   tried --> try. \n",
    "\n",
    "Another approach (which we won't use) is to reduce all words to their stem by using stemming (this approach will group different word classes together, letting e.g. analyze, analysis --> analy). "
   ]
  },
  {
   "cell_type": "code",
   "execution_count": 9,
   "id": "d59cd739",
   "metadata": {},
   "outputs": [
    {
     "name": "stdout",
     "output_type": "stream",
     "text": [
      "Number of unique words in dataset after lemmatization:  2601\n",
      "Through lemmatization, we have reduced the number of unique words by:  743\n",
      " The first 100 unique words after lemmatization:  ['abdominal', 'ability', 'able', 'abroad', 'absolutely', 'absorption', 'abundance', 'accept', 'acceptance', 'access', 'accessible', 'accidental', 'accidentally', 'accommodate', 'accomplish', 'accomplishment', 'accordingly', 'account', 'accountable', 'accurate', 'achievable', 'achieve', 'achievement', 'acid', 'acknowledge', 'across', 'act', 'action', 'active', 'actively', 'activity', 'actually', 'acupuncture', 'adam', 'adapt', 'add', 'addiction', 'addition', 'additional', 'additionally', 'address', 'adequate', 'adherence', 'adjust', 'adjustment', 'admire', 'admit', 'adrenaline', 'adult', 'advance', 'advantage', 'adventure', 'advice', 'advise', 'advocate', 'aerobic', 'aerosol', 'affect', 'affordable', 'afghan', 'afraid', 'african', 'afternoon', 'afterwards', 'age', 'ago', 'agree', 'agriculture', 'ah', 'ahead', 'ahmed', 'aid', 'aiden', 'aim', 'air', 'airport', 'aisha', 'alcohol', 'alcoholic', 'aldi', 'alejandro', 'alexander', 'algeria', 'ali', 'alicia', 'align', 'allergy', 'alleviate', 'allow', 'almond', 'almost', 'alone', 'along', 'alongside', 'already', 'alright', 'also', 'alter', 'alternative', 'altitude']\n"
     ]
    }
   ],
   "source": [
    "wordnet_lemmatizer = WordNetLemmatizer()\n",
    "\n",
    "# Lemmatize dataframe. It can only lemmatize one word class at the time, so we need to specify the word classes\n",
    "# (noun = n, verb = v, adjective = a, adverb = r, sattelite adjective = s) for each word in the text column\n",
    "word_classes = ['n', 'v', 'a', 'r', 's']\n",
    "for word_class in word_classes:\n",
    "    data['text'] = data['text'].apply(lambda x: ' '.join([wordnet_lemmatizer.lemmatize(word, word_class) for word in x.split()]))\n",
    "\n",
    "# Let's find the no. of unique words in the dataset after lemmatization\n",
    "unique_words = []\n",
    "\n",
    "for row in data['text']:\n",
    "    find_unique_words(row, unique_words)\n",
    "Nunique_words = len(unique_words);\n",
    "# sort unique words\n",
    "unique_words = sorted(unique_words);\n",
    "\n",
    "print(\"Number of unique words in dataset after lemmatization: \", Nunique_words)\n",
    "print(\"Through lemmatization, we have reduced the number of unique words by: \", Nunique_words_before_lemmatization - Nunique_words)\n",
    "print(\" The first 100 unique words after lemmatization: \", unique_words[:100])\n"
   ]
  },
  {
   "cell_type": "code",
   "execution_count": 10,
   "id": "4249bd09",
   "metadata": {},
   "outputs": [
    {
     "data": {
      "image/png": "[encoded data removed]",
      "text/plain": [
       "<PIL.Image.Image image mode=RGB size=400x200>"
      ]
     },
     "execution_count": 10,
     "metadata": {},
     "output_type": "execute_result"
    }
   ],
   "source": [
    "# Join the different processed titles together.\n",
    "long_string = ','.join(list(data['text'].values))\n",
    "# Create a WordCloud object\n",
    "wordcloud = WordCloud(background_color=\"white\", max_words=5000, contour_width=3, contour_color='steelblue')\n",
    "# Generate a word cloud\n",
    "wordcloud.generate(long_string)\n",
    "# Visualize the word cloud\n",
    "wordcloud.to_image()"
   ]
  },
  {
   "cell_type": "markdown",
   "id": "23e48a76",
   "metadata": {},
   "source": [
    "At this point, we can go back and remove any additional words that we deem irrelevant. Also, it is probably a good idea to remove the doctor and patient names as well, as they are irrelevant and quite frequent"
   ]
  },
  {
   "cell_type": "markdown",
   "id": "7fc471cb",
   "metadata": {},
   "source": [
    "### TF-IDF\n",
    "Let us construct a dataframe holding the tfidf score for all words. The tfidf score is a measure of the importance of each word, in the sense that 1) a word occurring in more documents is deemed more important 2) a word ocurring more frequently overall is deemed less important. Condition 2) reduces the importance of very common words.\n",
    "\n",
    "To do use, we use a vectorizer, which assigns a tuple (conv_id, token_id) to each token (word in this case), as well as a tfidf score."
   ]
  },
  {
   "cell_type": "code",
   "execution_count": 11,
   "id": "71018467",
   "metadata": {},
   "outputs": [
    {
     "name": "stdout",
     "output_type": "stream",
     "text": [
      "The TFIDF vector for the first row: \n",
      "   (0, 1568)\t0.04493845995638044\n",
      "  (0, 339)\t0.040870676013695546\n",
      "  (0, 2311)\t0.031918935828905676\n",
      "  (0, 2348)\t0.02477552478705962\n",
      "  (0, 2372)\t0.03214732814561372\n",
      "  (0, 650)\t0.0435627025355221\n",
      "  (0, 725)\t0.05316596915993369\n",
      "  (0, 129)\t0.042086996551970804\n",
      "  (0, 970)\t0.0424469474305596\n",
      "  (0, 1281)\t0.05175063143421985\n",
      "  (0, 1820)\t0.03588459298475393\n",
      "  (0, 2389)\t0.05915605340421464\n",
      "  (0, 1266)\t0.0343144361183155\n",
      "  (0, 242)\t0.05316596915993369\n",
      "  (0, 2563)\t0.02731178857086253\n",
      "  (0, 985)\t0.02348966338979585\n",
      "  (0, 962)\t0.04916198001373801\n",
      "  (0, 1118)\t0.055310109851448026\n",
      "  (0, 973)\t0.02835391573164724\n",
      "  (0, 1341)\t0.05950829343853036\n",
      "  (0, 2173)\t0.037866693720213146\n",
      "  (0, 1594)\t0.10410611790211162\n",
      "  (0, 978)\t0.08586306686456603\n",
      "  (0, 570)\t0.27058563927899343\n",
      "  (0, 2374)\t0.04375416283983878\n",
      "  :\t:\n",
      "  (0, 2567)\t0.09908618016404326\n",
      "  (0, 651)\t0.060735399997075445\n",
      "  (0, 1937)\t0.06338567790240937\n",
      "  (0, 1371)\t0.06379789064595374\n",
      "  (0, 1854)\t0.07155557739313725\n",
      "  (0, 565)\t0.047512286697598216\n",
      "  (0, 1706)\t0.10145641773325857\n",
      "  (0, 429)\t0.5205305895105581\n",
      "  (0, 537)\t0.20821223580422324\n",
      "  (0, 210)\t0.13529281963949671\n",
      "  (0, 551)\t0.07847289155728232\n",
      "  (0, 490)\t0.08239522380812869\n",
      "  (0, 1524)\t0.055962226524444714\n",
      "  (0, 2327)\t0.05346004458890569\n",
      "  (0, 2070)\t0.06689339373678463\n",
      "  (0, 313)\t0.33173382975609417\n",
      "  (0, 1900)\t0.16990143664911309\n",
      "  (0, 971)\t0.05405998547515325\n",
      "  (0, 1444)\t0.04576411041952884\n",
      "  (0, 1619)\t0.04916198001373801\n",
      "  (0, 1287)\t0.25234258824144784\n",
      "  (0, 2089)\t0.08208092269535695\n",
      "  (0, 1298)\t0.033938442129780165\n",
      "  (0, 2122)\t0.031357898025129644\n",
      "  (0, 1216)\t0.27058563927899343\n"
     ]
    }
   ],
   "source": [
    "# Convert the text column to a list of strings\n",
    "to=data['text'].tolist()\n",
    "# Store the conversation indices in a list (for later use)\n",
    "conv_idx = data.loc[:, 'index'].tolist()\n",
    "\n",
    "# Initialize the vectorizer\n",
    "tfidf_vectorizer = TfidfVectorizer()\n",
    "\n",
    "# Check if the list is empty\n",
    "if len(to) == 0:\n",
    "    print(\"The list is empty.\")\n",
    "else:\n",
    "    # Create the tf-idf matrix\n",
    "    tfidf_vector = tfidf_vectorizer.fit_transform(to)\n",
    "\n",
    "# Let us print the first row of the tf-idf matrix\n",
    "print(\"The TFIDF vector for the first row: \\n\", tfidf_vector[0])\n"
   ]
  },
  {
   "cell_type": "code",
   "execution_count": 12,
   "id": "88652bb8",
   "metadata": {},
   "outputs": [],
   "source": [
    "# Create a dataframe from the tf-idf matrix, with each column representation a word\n",
    "tfidf_df = pd.DataFrame(tfidf_vector.toarray(), index=conv_idx, columns=tfidf_vectorizer.get_feature_names_out())"
   ]
  },
  {
   "cell_type": "code",
   "execution_count": 13,
   "id": "4d22ad63",
   "metadata": {},
   "outputs": [
    {
     "name": "stdout",
     "output_type": "stream",
     "text": [
      "<class 'pandas.core.frame.DataFrame'>\n",
      "Index: 300 entries, 0 to 299\n",
      "Columns: 2597 entries, abdominal to zone\n",
      "dtypes: float64(2597)\n",
      "memory usage: 5.9 MB\n"
     ]
    }
   ],
   "source": [
    "tfidf_df.info()"
   ]
  },
  {
   "cell_type": "code",
   "execution_count": 14,
   "id": "e405ca2b",
   "metadata": {},
   "outputs": [],
   "source": [
    "# Add a row with the document frequency for each word (number of documents in which the word appears)\n",
    "tfidf_df.loc['Document_Frequency'] = (tfidf_df > 0).sum()"
   ]
  },
  {
   "cell_type": "code",
   "execution_count": 15,
   "id": "b76eba6d",
   "metadata": {},
   "outputs": [
    {
     "data": {
      "text/html": [
       "<div>\n",
       "<style scoped>\n",
       "    .dataframe tbody tr th:only-of-type {\n",
       "        vertical-align: middle;\n",
       "    }\n",
       "\n",
       "    .dataframe tbody tr th {\n",
       "        vertical-align: top;\n",
       "    }\n",
       "\n",
       "    .dataframe thead th {\n",
       "        text-align: right;\n",
       "    }\n",
       "</style>\n",
       "<table border=\"1\" class=\"dataframe\">\n",
       "  <thead>\n",
       "    <tr style=\"text-align: right;\">\n",
       "      <th></th>\n",
       "      <th>abdominal</th>\n",
       "      <th>ability</th>\n",
       "      <th>able</th>\n",
       "      <th>abroad</th>\n",
       "      <th>absolutely</th>\n",
       "      <th>absorption</th>\n",
       "      <th>abundance</th>\n",
       "      <th>accept</th>\n",
       "      <th>acceptance</th>\n",
       "      <th>access</th>\n",
       "      <th>...</th>\n",
       "      <th>yusuf</th>\n",
       "      <th>zainab</th>\n",
       "      <th>zen</th>\n",
       "      <th>zereshk</th>\n",
       "      <th>zest</th>\n",
       "      <th>zhang</th>\n",
       "      <th>zinc</th>\n",
       "      <th>zoe</th>\n",
       "      <th>zoey</th>\n",
       "      <th>zone</th>\n",
       "    </tr>\n",
       "  </thead>\n",
       "  <tbody>\n",
       "    <tr>\n",
       "      <th>296</th>\n",
       "      <td>0.0</td>\n",
       "      <td>0.0</td>\n",
       "      <td>0.000000</td>\n",
       "      <td>0.0</td>\n",
       "      <td>0.000000</td>\n",
       "      <td>0.0</td>\n",
       "      <td>0.0</td>\n",
       "      <td>0.0</td>\n",
       "      <td>0.0</td>\n",
       "      <td>0.0</td>\n",
       "      <td>...</td>\n",
       "      <td>0.0</td>\n",
       "      <td>0.0</td>\n",
       "      <td>0.0</td>\n",
       "      <td>0.0</td>\n",
       "      <td>0.0</td>\n",
       "      <td>0.0</td>\n",
       "      <td>0.0</td>\n",
       "      <td>0.0</td>\n",
       "      <td>0.0</td>\n",
       "      <td>0.0</td>\n",
       "    </tr>\n",
       "    <tr>\n",
       "      <th>297</th>\n",
       "      <td>0.0</td>\n",
       "      <td>0.0</td>\n",
       "      <td>0.070521</td>\n",
       "      <td>0.0</td>\n",
       "      <td>0.000000</td>\n",
       "      <td>0.0</td>\n",
       "      <td>0.0</td>\n",
       "      <td>0.0</td>\n",
       "      <td>0.0</td>\n",
       "      <td>0.0</td>\n",
       "      <td>...</td>\n",
       "      <td>0.0</td>\n",
       "      <td>0.0</td>\n",
       "      <td>0.0</td>\n",
       "      <td>0.0</td>\n",
       "      <td>0.0</td>\n",
       "      <td>0.0</td>\n",
       "      <td>0.0</td>\n",
       "      <td>0.0</td>\n",
       "      <td>0.0</td>\n",
       "      <td>0.0</td>\n",
       "    </tr>\n",
       "    <tr>\n",
       "      <th>298</th>\n",
       "      <td>0.0</td>\n",
       "      <td>0.0</td>\n",
       "      <td>0.000000</td>\n",
       "      <td>0.0</td>\n",
       "      <td>0.051202</td>\n",
       "      <td>0.0</td>\n",
       "      <td>0.0</td>\n",
       "      <td>0.0</td>\n",
       "      <td>0.0</td>\n",
       "      <td>0.0</td>\n",
       "      <td>...</td>\n",
       "      <td>0.0</td>\n",
       "      <td>0.0</td>\n",
       "      <td>0.0</td>\n",
       "      <td>0.0</td>\n",
       "      <td>0.0</td>\n",
       "      <td>0.0</td>\n",
       "      <td>0.0</td>\n",
       "      <td>0.0</td>\n",
       "      <td>0.0</td>\n",
       "      <td>0.0</td>\n",
       "    </tr>\n",
       "    <tr>\n",
       "      <th>299</th>\n",
       "      <td>0.0</td>\n",
       "      <td>0.0</td>\n",
       "      <td>0.000000</td>\n",
       "      <td>0.0</td>\n",
       "      <td>0.000000</td>\n",
       "      <td>0.0</td>\n",
       "      <td>0.0</td>\n",
       "      <td>0.0</td>\n",
       "      <td>0.0</td>\n",
       "      <td>0.0</td>\n",
       "      <td>...</td>\n",
       "      <td>0.0</td>\n",
       "      <td>0.0</td>\n",
       "      <td>0.0</td>\n",
       "      <td>0.0</td>\n",
       "      <td>0.0</td>\n",
       "      <td>0.0</td>\n",
       "      <td>0.0</td>\n",
       "      <td>0.0</td>\n",
       "      <td>0.0</td>\n",
       "      <td>0.0</td>\n",
       "    </tr>\n",
       "    <tr>\n",
       "      <th>Document_Frequency</th>\n",
       "      <td>8.0</td>\n",
       "      <td>7.0</td>\n",
       "      <td>74.000000</td>\n",
       "      <td>1.0</td>\n",
       "      <td>74.000000</td>\n",
       "      <td>4.0</td>\n",
       "      <td>1.0</td>\n",
       "      <td>1.0</td>\n",
       "      <td>1.0</td>\n",
       "      <td>1.0</td>\n",
       "      <td>...</td>\n",
       "      <td>1.0</td>\n",
       "      <td>1.0</td>\n",
       "      <td>1.0</td>\n",
       "      <td>1.0</td>\n",
       "      <td>1.0</td>\n",
       "      <td>1.0</td>\n",
       "      <td>2.0</td>\n",
       "      <td>2.0</td>\n",
       "      <td>1.0</td>\n",
       "      <td>1.0</td>\n",
       "    </tr>\n",
       "  </tbody>\n",
       "</table>\n",
       "<p>5 rows × 2597 columns</p>\n",
       "</div>"
      ],
      "text/plain": [
       "                    abdominal  ability       able  abroad  absolutely  \\\n",
       "296                       0.0      0.0   0.000000     0.0    0.000000   \n",
       "297                       0.0      0.0   0.070521     0.0    0.000000   \n",
       "298                       0.0      0.0   0.000000     0.0    0.051202   \n",
       "299                       0.0      0.0   0.000000     0.0    0.000000   \n",
       "Document_Frequency        8.0      7.0  74.000000     1.0   74.000000   \n",
       "\n",
       "                    absorption  abundance  accept  acceptance  access  ...  \\\n",
       "296                        0.0        0.0     0.0         0.0     0.0  ...   \n",
       "297                        0.0        0.0     0.0         0.0     0.0  ...   \n",
       "298                        0.0        0.0     0.0         0.0     0.0  ...   \n",
       "299                        0.0        0.0     0.0         0.0     0.0  ...   \n",
       "Document_Frequency         4.0        1.0     1.0         1.0     1.0  ...   \n",
       "\n",
       "                    yusuf  zainab  zen  zereshk  zest  zhang  zinc  zoe  zoey  \\\n",
       "296                   0.0     0.0  0.0      0.0   0.0    0.0   0.0  0.0   0.0   \n",
       "297                   0.0     0.0  0.0      0.0   0.0    0.0   0.0  0.0   0.0   \n",
       "298                   0.0     0.0  0.0      0.0   0.0    0.0   0.0  0.0   0.0   \n",
       "299                   0.0     0.0  0.0      0.0   0.0    0.0   0.0  0.0   0.0   \n",
       "Document_Frequency    1.0     1.0  1.0      1.0   1.0    1.0   2.0  2.0   1.0   \n",
       "\n",
       "                    zone  \n",
       "296                  0.0  \n",
       "297                  0.0  \n",
       "298                  0.0  \n",
       "299                  0.0  \n",
       "Document_Frequency   1.0  \n",
       "\n",
       "[5 rows x 2597 columns]"
      ]
     },
     "execution_count": 15,
     "metadata": {},
     "output_type": "execute_result"
    }
   ],
   "source": [
    "# Let's have a look\n",
    "tfidf_df.tail()"
   ]
  },
  {
   "cell_type": "code",
   "execution_count": 16,
   "id": "8ccd27a4",
   "metadata": {},
   "outputs": [],
   "source": [
    "# To find the tf-idf score for a specific word (and their document frequency), simply do\n",
    "\n",
    "tfidf_slice = tfidf_df[['health', 'stress', 'sleep']]\n"
   ]
  },
  {
   "cell_type": "code",
   "execution_count": 17,
   "id": "cd3eab52",
   "metadata": {},
   "outputs": [
    {
     "data": {
      "text/html": [
       "<div>\n",
       "<style scoped>\n",
       "    .dataframe tbody tr th:only-of-type {\n",
       "        vertical-align: middle;\n",
       "    }\n",
       "\n",
       "    .dataframe tbody tr th {\n",
       "        vertical-align: top;\n",
       "    }\n",
       "\n",
       "    .dataframe thead th {\n",
       "        text-align: right;\n",
       "    }\n",
       "</style>\n",
       "<table border=\"1\" class=\"dataframe\">\n",
       "  <thead>\n",
       "    <tr style=\"text-align: right;\">\n",
       "      <th></th>\n",
       "      <th>health</th>\n",
       "      <th>stress</th>\n",
       "      <th>sleep</th>\n",
       "    </tr>\n",
       "  </thead>\n",
       "  <tbody>\n",
       "    <tr>\n",
       "      <th>0</th>\n",
       "      <td>0.000000</td>\n",
       "      <td>0.0</td>\n",
       "      <td>0.0</td>\n",
       "    </tr>\n",
       "    <tr>\n",
       "      <th>1</th>\n",
       "      <td>0.100584</td>\n",
       "      <td>0.0</td>\n",
       "      <td>0.0</td>\n",
       "    </tr>\n",
       "    <tr>\n",
       "      <th>2</th>\n",
       "      <td>0.000000</td>\n",
       "      <td>0.0</td>\n",
       "      <td>0.0</td>\n",
       "    </tr>\n",
       "    <tr>\n",
       "      <th>3</th>\n",
       "      <td>0.000000</td>\n",
       "      <td>0.0</td>\n",
       "      <td>0.0</td>\n",
       "    </tr>\n",
       "    <tr>\n",
       "      <th>4</th>\n",
       "      <td>0.034899</td>\n",
       "      <td>0.0</td>\n",
       "      <td>0.0</td>\n",
       "    </tr>\n",
       "    <tr>\n",
       "      <th>...</th>\n",
       "      <td>...</td>\n",
       "      <td>...</td>\n",
       "      <td>...</td>\n",
       "    </tr>\n",
       "    <tr>\n",
       "      <th>296</th>\n",
       "      <td>0.000000</td>\n",
       "      <td>0.0</td>\n",
       "      <td>0.0</td>\n",
       "    </tr>\n",
       "    <tr>\n",
       "      <th>297</th>\n",
       "      <td>0.000000</td>\n",
       "      <td>0.0</td>\n",
       "      <td>0.0</td>\n",
       "    </tr>\n",
       "    <tr>\n",
       "      <th>298</th>\n",
       "      <td>0.035509</td>\n",
       "      <td>0.0</td>\n",
       "      <td>0.0</td>\n",
       "    </tr>\n",
       "    <tr>\n",
       "      <th>299</th>\n",
       "      <td>0.000000</td>\n",
       "      <td>0.0</td>\n",
       "      <td>0.0</td>\n",
       "    </tr>\n",
       "    <tr>\n",
       "      <th>Document_Frequency</th>\n",
       "      <td>155.000000</td>\n",
       "      <td>47.0</td>\n",
       "      <td>22.0</td>\n",
       "    </tr>\n",
       "  </tbody>\n",
       "</table>\n",
       "<p>301 rows × 3 columns</p>\n",
       "</div>"
      ],
      "text/plain": [
       "                        health  stress  sleep\n",
       "0                     0.000000     0.0    0.0\n",
       "1                     0.100584     0.0    0.0\n",
       "2                     0.000000     0.0    0.0\n",
       "3                     0.000000     0.0    0.0\n",
       "4                     0.034899     0.0    0.0\n",
       "...                        ...     ...    ...\n",
       "296                   0.000000     0.0    0.0\n",
       "297                   0.000000     0.0    0.0\n",
       "298                   0.035509     0.0    0.0\n",
       "299                   0.000000     0.0    0.0\n",
       "Document_Frequency  155.000000    47.0   22.0\n",
       "\n",
       "[301 rows x 3 columns]"
      ]
     },
     "execution_count": 17,
     "metadata": {},
     "output_type": "execute_result"
    }
   ],
   "source": [
    "# We see that only 'health' is present in the first/last 5 rows and occurs in 203 documents\n",
    "tfidf_slice"
   ]
  },
  {
   "cell_type": "markdown",
   "id": "839d1ec3",
   "metadata": {},
   "source": [
    "From tfidf_df we'll construct another Pandas dataframe, where each row contains the conversation id, the word, and its\n",
    "tfidf score. This enables us to analyze the word importances on a word level as opposed to a document level"
   ]
  },
  {
   "cell_type": "code",
   "execution_count": 18,
   "id": "0bac8920",
   "metadata": {},
   "outputs": [],
   "source": [
    "# Drop the row with the document frequency\n",
    "tfidf_by_word = tfidf_df.drop('Document_Frequency', errors='ignore')\n",
    "# Reshape the dataframe\n",
    "tfidf_by_word = tfidf_by_word.stack().reset_index().rename(columns={0:'tfidf', 'level_0': 'conv_idx','level_1': 'term'})"
   ]
  },
  {
   "cell_type": "code",
   "execution_count": 19,
   "id": "386f7015",
   "metadata": {},
   "outputs": [
    {
     "name": "stdout",
     "output_type": "stream",
     "text": [
      "<class 'pandas.core.frame.DataFrame'>\n",
      "RangeIndex: 779100 entries, 0 to 779099\n",
      "Data columns (total 3 columns):\n",
      " #   Column    Non-Null Count   Dtype  \n",
      "---  ------    --------------   -----  \n",
      " 0   conv_idx  779100 non-null  int64  \n",
      " 1   term      779100 non-null  object \n",
      " 2   tfidf     779100 non-null  float64\n",
      "dtypes: float64(1), int64(1), object(1)\n",
      "memory usage: 17.8+ MB\n"
     ]
    }
   ],
   "source": [
    "tfidf_by_word.info()\n"
   ]
  },
  {
   "cell_type": "code",
   "execution_count": 20,
   "id": "368f9806",
   "metadata": {},
   "outputs": [
    {
     "data": {
      "text/html": [
       "<div>\n",
       "<style scoped>\n",
       "    .dataframe tbody tr th:only-of-type {\n",
       "        vertical-align: middle;\n",
       "    }\n",
       "\n",
       "    .dataframe tbody tr th {\n",
       "        vertical-align: top;\n",
       "    }\n",
       "\n",
       "    .dataframe thead th {\n",
       "        text-align: right;\n",
       "    }\n",
       "</style>\n",
       "<table border=\"1\" class=\"dataframe\">\n",
       "  <thead>\n",
       "    <tr style=\"text-align: right;\">\n",
       "      <th></th>\n",
       "      <th>conv_idx</th>\n",
       "      <th>term</th>\n",
       "      <th>tfidf</th>\n",
       "    </tr>\n",
       "  </thead>\n",
       "  <tbody>\n",
       "    <tr>\n",
       "      <th>0</th>\n",
       "      <td>0</td>\n",
       "      <td>abdominal</td>\n",
       "      <td>0.0</td>\n",
       "    </tr>\n",
       "    <tr>\n",
       "      <th>1</th>\n",
       "      <td>0</td>\n",
       "      <td>ability</td>\n",
       "      <td>0.0</td>\n",
       "    </tr>\n",
       "    <tr>\n",
       "      <th>2</th>\n",
       "      <td>0</td>\n",
       "      <td>able</td>\n",
       "      <td>0.0</td>\n",
       "    </tr>\n",
       "    <tr>\n",
       "      <th>3</th>\n",
       "      <td>0</td>\n",
       "      <td>abroad</td>\n",
       "      <td>0.0</td>\n",
       "    </tr>\n",
       "    <tr>\n",
       "      <th>4</th>\n",
       "      <td>0</td>\n",
       "      <td>absolutely</td>\n",
       "      <td>0.0</td>\n",
       "    </tr>\n",
       "    <tr>\n",
       "      <th>5</th>\n",
       "      <td>0</td>\n",
       "      <td>absorption</td>\n",
       "      <td>0.0</td>\n",
       "    </tr>\n",
       "    <tr>\n",
       "      <th>6</th>\n",
       "      <td>0</td>\n",
       "      <td>abundance</td>\n",
       "      <td>0.0</td>\n",
       "    </tr>\n",
       "    <tr>\n",
       "      <th>7</th>\n",
       "      <td>0</td>\n",
       "      <td>accept</td>\n",
       "      <td>0.0</td>\n",
       "    </tr>\n",
       "    <tr>\n",
       "      <th>8</th>\n",
       "      <td>0</td>\n",
       "      <td>acceptance</td>\n",
       "      <td>0.0</td>\n",
       "    </tr>\n",
       "    <tr>\n",
       "      <th>9</th>\n",
       "      <td>0</td>\n",
       "      <td>access</td>\n",
       "      <td>0.0</td>\n",
       "    </tr>\n",
       "  </tbody>\n",
       "</table>\n",
       "</div>"
      ],
      "text/plain": [
       "   conv_idx        term  tfidf\n",
       "0         0   abdominal    0.0\n",
       "1         0     ability    0.0\n",
       "2         0        able    0.0\n",
       "3         0      abroad    0.0\n",
       "4         0  absolutely    0.0\n",
       "5         0  absorption    0.0\n",
       "6         0   abundance    0.0\n",
       "7         0      accept    0.0\n",
       "8         0  acceptance    0.0\n",
       "9         0      access    0.0"
      ]
     },
     "execution_count": 20,
     "metadata": {},
     "output_type": "execute_result"
    }
   ],
   "source": [
    "# Let's have a look\n",
    "tfidf_by_word.head(10)"
   ]
  },
  {
   "cell_type": "code",
   "execution_count": 21,
   "id": "925d88a2",
   "metadata": {},
   "outputs": [
    {
     "data": {
      "text/html": [
       "<div>\n",
       "<style scoped>\n",
       "    .dataframe tbody tr th:only-of-type {\n",
       "        vertical-align: middle;\n",
       "    }\n",
       "\n",
       "    .dataframe tbody tr th {\n",
       "        vertical-align: top;\n",
       "    }\n",
       "\n",
       "    .dataframe thead th {\n",
       "        text-align: right;\n",
       "    }\n",
       "</style>\n",
       "<table border=\"1\" class=\"dataframe\">\n",
       "  <thead>\n",
       "    <tr style=\"text-align: right;\">\n",
       "      <th></th>\n",
       "      <th>conv_idx</th>\n",
       "      <th>term</th>\n",
       "      <th>tfidf</th>\n",
       "    </tr>\n",
       "  </thead>\n",
       "  <tbody>\n",
       "    <tr>\n",
       "      <th>237861</th>\n",
       "      <td>91</td>\n",
       "      <td>nan</td>\n",
       "      <td>1.000000</td>\n",
       "    </tr>\n",
       "    <tr>\n",
       "      <th>13535</th>\n",
       "      <td>5</td>\n",
       "      <td>cynthia</td>\n",
       "      <td>0.733655</td>\n",
       "    </tr>\n",
       "    <tr>\n",
       "      <th>650313</th>\n",
       "      <td>250</td>\n",
       "      <td>hike</td>\n",
       "      <td>0.727245</td>\n",
       "    </tr>\n",
       "    <tr>\n",
       "      <th>207473</th>\n",
       "      <td>79</td>\n",
       "      <td>takashi</td>\n",
       "      <td>0.716783</td>\n",
       "    </tr>\n",
       "    <tr>\n",
       "      <th>597023</th>\n",
       "      <td>229</td>\n",
       "      <td>takashi</td>\n",
       "      <td>0.712717</td>\n",
       "    </tr>\n",
       "    <tr>\n",
       "      <th>285753</th>\n",
       "      <td>110</td>\n",
       "      <td>ali</td>\n",
       "      <td>0.687953</td>\n",
       "    </tr>\n",
       "    <tr>\n",
       "      <th>142604</th>\n",
       "      <td>54</td>\n",
       "      <td>tim</td>\n",
       "      <td>0.687705</td>\n",
       "    </tr>\n",
       "    <tr>\n",
       "      <th>9060</th>\n",
       "      <td>3</td>\n",
       "      <td>keto</td>\n",
       "      <td>0.684714</td>\n",
       "    </tr>\n",
       "    <tr>\n",
       "      <th>725791</th>\n",
       "      <td>279</td>\n",
       "      <td>jake</td>\n",
       "      <td>0.674242</td>\n",
       "    </tr>\n",
       "    <tr>\n",
       "      <th>131422</th>\n",
       "      <td>50</td>\n",
       "      <td>nigel</td>\n",
       "      <td>0.672211</td>\n",
       "    </tr>\n",
       "  </tbody>\n",
       "</table>\n",
       "</div>"
      ],
      "text/plain": [
       "        conv_idx     term     tfidf\n",
       "237861        91      nan  1.000000\n",
       "13535          5  cynthia  0.733655\n",
       "650313       250     hike  0.727245\n",
       "207473        79  takashi  0.716783\n",
       "597023       229  takashi  0.712717\n",
       "285753       110      ali  0.687953\n",
       "142604        54      tim  0.687705\n",
       "9060           3     keto  0.684714\n",
       "725791       279     jake  0.674242\n",
       "131422        50    nigel  0.672211"
      ]
     },
     "execution_count": 21,
     "metadata": {},
     "output_type": "execute_result"
    }
   ],
   "source": [
    "#  Using the new dataframe, we can e.g. find thewords with the highest TF–IDF score for every document,\n",
    "# from which it becomes evident that we need to get rid of some nans as well as the speaker names\n",
    "tfidf_by_word.sort_values(by=['tfidf'], ascending=[False]).head(10) #.groupby(['conv_id']).head(2)\n"
   ]
  },
  {
   "cell_type": "code",
   "execution_count": 23,
   "id": "db526cb1",
   "metadata": {},
   "outputs": [
    {
     "data": {
      "text/plain": [
       "'nan nan nan nan nan nan nan nan nan nan nan'"
      ]
     },
     "execution_count": 23,
     "metadata": {},
     "output_type": "execute_result"
    }
   ],
   "source": [
    "data.loc[91, 'text']"
   ]
  },
  {
   "cell_type": "markdown",
   "id": "325790af",
   "metadata": {},
   "source": [
    "Let's visualize the top 10 words with the highest tf–idf score for the first 10 conversations using a heat map"
   ]
  },
  {
   "cell_type": "code",
   "execution_count": 22,
   "id": "76c1d6bb",
   "metadata": {},
   "outputs": [
    {
     "data": {
      "image/png": "[encoded data removed]",
      "text/plain": [
       "<Figure size 1000x700 with 2 Axes>"
      ]
     },
     "metadata": {},
     "output_type": "display_data"
    }
   ],
   "source": [
    "\n",
    "# Define the number of words and conversations to be considered\n",
    "Nwords = 5\n",
    "Nconversations = 10\n",
    "\n",
    "top_tfidf = tfidf_by_word.sort_values(by=['conv_idx','tfidf'], ascending=[True,False]).groupby(['conv_idx']).head(10)\n",
    "\n",
    "# Only consider the first 5 conversations\n",
    "top_tfidf = top_tfidf.iloc[:Nwords*Nconversations]\n",
    "\n",
    "# Function to get top N words by TF-IDF score\n",
    "def get_top_n_words(df, n=10):\n",
    "    return df.nlargest(n, 'tfidf')\n",
    "\n",
    "# Get top 10 words for each conversation\n",
    "top_words_per_conversation = top_tfidf.groupby('conv_idx', group_keys=False).apply(get_top_n_words)\n",
    "\n",
    "# Create a pivot table for heatmap\n",
    "pivot_table = top_words_per_conversation.pivot(index='term', columns='conv_idx', values='tfidf')\n",
    "\n",
    "# Create the heatmap\n",
    "plt.figure(figsize=(10, 7))\n",
    "sns.heatmap(pivot_table, annot=True, cmap='YlGnBu', cbar=True)\n",
    "plt.xlabel('Conversation Index')\n",
    "plt.ylabel('Word')\n",
    "plt.title('TF-IDF Scores for Top Words in Conversations')\n",
    "plt.show()"
   ]
  },
  {
   "cell_type": "markdown",
   "id": "2e6a8ad4",
   "metadata": {},
   "source": [
    "Excercises:\n",
    "\n",
    "1) Look at the word cloud and add words to the stop list that you think are irrelevant and want to remove.\n",
    "2) Add the speaker names to the stop list (they are frequent and don't add information)\n",
    "2) Get rid of the words 'nan' that somehow snuck into our data.\n",
    "4) Repeat excercise 1, but this time use the topic visualiztion to find out which words are irrelevant\n",
    "\n",
    "\n",
    "HINT: Loop through each row in the text column, and print the row / save the row index if 'nan ' is one of the words. The space after nan makes sure not include words like nancy e.g."
   ]
  },
  {
   "cell_type": "code",
   "execution_count": null,
   "id": "38f6f00a",
   "metadata": {},
   "outputs": [],
   "source": []
  }
 ],
 "metadata": {
  "kernelspec": {
   "display_name": "Python 3 (ipykernel)",
   "language": "python",
   "name": "python3"
  },
  "language_info": {
   "codemirror_mode": {
    "name": "ipython",
    "version": 3
   },
   "file_extension": ".py",
   "mimetype": "text/x-python",
   "name": "python",
   "nbconvert_exporter": "python",
   "pygments_lexer": "ipython3",
   "version": "3.10.12"
  }
 },
 "nbformat": 4,
 "nbformat_minor": 5
}
