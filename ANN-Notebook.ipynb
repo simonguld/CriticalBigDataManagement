{
 "cells": [
  {
   "cell_type": "markdown",
   "id": "7913887e",
   "metadata": {},
   "source": [
    "# ANN Notebook part 1 - Classification and Regression\n",
    "*by*: **Nikolaj Krebs Pedersen - nped@itu.dk**\n",
    "\n",
    "This notebook explores how to create Artificial Neural Networks for both classification and regression. For this notebook, we will use the preprocessed data from \"PCA // Clustering // Classification\" by Anton Golles. First, we will go through Data prep then Classification followed by Regression."
   ]
  },
  {
   "cell_type": "code",
   "execution_count": 71,
   "id": "45df2d2c",
   "metadata": {},
   "outputs": [],
   "source": [
    "import pandas as pd\n",
    "import numpy as np \n",
    "import matplotlib.pyplot as plt \n",
    "import seaborn as sns\n",
    "from sklearn.metrics import confusion_matrix, classification_report\n",
    "from sklearn.metrics import accuracy_score\n",
    "from sklearn.preprocessing import StandardScaler\n",
    "from sklearn.model_selection import train_test_split\n",
    "import tensorflow as tf\n",
    "from tensorflow import keras\n",
    "from tensorflow.keras.layers import Dense\n",
    "from sklearn import preprocessing\n",
    "#pip install tensorflow\n",
    "\n",
    "# Data handling and manipulation library\n",
    "import pandas as pd\n",
    "# Data visualization library based on matplotlib\n",
    "import seaborn as sns\n",
    "# Basic plotting library in Python\n",
    "import matplotlib.pyplot as plt\n",
    "# Cross-validation function to evaluate model performance\n",
    "from sklearn.model_selection import cross_val_score\n",
    "# Library for numerical operations in Python\n",
    "import numpy as np\n",
    "# Preprocessing tool to standardize features (mean=0, variance=1)\n",
    "from sklearn.preprocessing import StandardScaler\n",
    "# Principal Component Analysis (PCA) for dimensionality reduction\n",
    "from sklearn.decomposition import PCA\n",
    "# Visualization tool for the elbow method to determine the optimal number of clusters\n",
    "from yellowbrick.cluster.elbow import kelbow_visualizer\n",
    "from yellowbrick.cluster import KElbowVisualizer\n",
    "# Calculates the Silhouette Score which measures the quality of clusters\n",
    "from sklearn.metrics import silhouette_score\n",
    "# KMeans clustering algorithm\n",
    "from sklearn.cluster import KMeans\n",
    "# Library for interactive plotting \n",
    "import plotly\n",
    "# Module for creating various chart types (like scatter plots)\n",
    "import plotly.graph_objects as go\n",
    "# Simplified module for creating visualizations in Plotly\n",
    "import plotly.express as px\n",
    "# k-Nearest Neighbors classifier\n",
    "from sklearn.neighbors import KNeighborsClassifier\n",
    "# Splits data into random train and test subsets\n",
    "from sklearn.model_selection import train_test_split\n",
    "# Generates a confusion matrix\n",
    "from sklearn.metrics import confusion_matrix\n",
    "from sklearn.preprocessing import LabelEncoder\n",
    "\n",
    "import os\n"
   ]
  },
  {
   "cell_type": "markdown",
   "id": "aa37b7da",
   "metadata": {},
   "source": [
    "## Data prep\n",
    "First, we will load data from the previous notebook \"PCA // Clustering // Classification\" by Anton Golles. The cleaned data can be found within that notebook. To transfer the dataframe i used the pandas function: .to_csv:\n",
    "\n",
    "df.to_csv('cleaned_data.csv')"
   ]
  },
  {
   "cell_type": "markdown",
   "id": "97b94382",
   "metadata": {},
   "source": [
    "I created a LabelEncoder function that allows for the labelling of columns. Changing columns to have numeric values. Data point needs to be transformed into numeric to create tensors used for Neural Networks."
   ]
  },
  {
   "cell_type": "code",
   "execution_count": 72,
   "id": "bdd878ce",
   "metadata": {},
   "outputs": [],
   "source": [
    "df = pd.read_csv('data/descriptives.csv')\n"
   ]
  },
  {
   "cell_type": "code",
   "execution_count": 73,
   "id": "a19e251b",
   "metadata": {},
   "outputs": [
    {
     "data": {
      "text/plain": [
       "(300, 44)"
      ]
     },
     "execution_count": 73,
     "metadata": {},
     "output_type": "execute_result"
    }
   ],
   "source": [
    "df.shape"
   ]
  },
  {
   "cell_type": "code",
   "execution_count": 74,
   "id": "74a0e720",
   "metadata": {},
   "outputs": [],
   "source": [
    "df.drop(['health_related_activities','name','patient_id','activities','average_sleep_duration',\n",
    "        'systolic','diastolic','conversation_id','current_country_of_residence','drug_usage'], axis=1, inplace=True)"
   ]
  },
  {
   "cell_type": "code",
   "execution_count": 75,
   "id": "abde2d4a",
   "metadata": {},
   "outputs": [],
   "source": [
    "# Convert the 'gender' column to binary: Male as 1 and Female as 0\n",
    "df['gender'] = df['gender'].map({'Male': 1, 'Female': 0})\n",
    "\n",
    "# Use LabelEncoder to convert 'ethnicity' to numerical labels\n",
    "labelencoder = LabelEncoder()\n",
    "df['ethnicity'] = labelencoder.fit_transform(df['ethnicity'])\n",
    "\n",
    "\n",
    "# Use LabelEncoder to convert 'country_of_birth' to numerical labels\n",
    "df['country_of_birth'] = labelencoder.fit_transform(df['country_of_birth'])\n",
    "\n",
    "# Convert 'smoking_status' to boolean and then to integer (True as 1 and False as 0)\n",
    "df['smoking_status'] = df['smoking_status'].astype(bool)\n",
    "df['smoking_status'] = df['smoking_status'].astype(int)\n",
    "\n",
    "# Remove missing values in 'height' and remove ' cm' suffix, then convert to integer\n",
    "df.dropna(subset=['height'], inplace=True)\n",
    "df['height'] = df['height'].str.replace(' cm', '')\n",
    "df['height'] = df['height'].astype(int)\n",
    "\n",
    "# Remove ' kg' suffix from 'weight' and convert to float\n",
    "df['weight'] = df['weight'].str.replace(' kg', '')\n",
    "df['weight'] = df['weight'].astype(float)\n",
    "\n",
    "# Use LabelEncoder to convert other columns to numerical labels\n",
    "# These columns include 'diet_type', 'specific_preferences', 'challenges', etc.\n",
    "df['diet_type'] = labelencoder.fit_transform(df['diet_type'])\n",
    "\n",
    "df['specific_preferences'] = labelencoder.fit_transform(df['specific_preferences'])\n",
    "\n",
    "df['challenges'] = labelencoder.fit_transform(df['challenges'])\n",
    "\n",
    "df['mother'] = labelencoder.fit_transform(df['mother'])\n",
    "\n",
    "df['father'] = labelencoder.fit_transform(df['father'])\n",
    "\n",
    "df['current_city_of_residence'] = labelencoder.fit_transform(df['current_city_of_residence'])\n",
    "\n",
    "df['state_name'] = labelencoder.fit_transform(df['state_name'])\n",
    "\n",
    "df['state_code'] = labelencoder.fit_transform(df['state_code'])\n",
    "\n",
    "df['housing_type'] = labelencoder.fit_transform(df['housing_type'])\n",
    "\n",
    "df['housing_tenure'] = labelencoder.fit_transform(df['housing_tenure'])\n",
    "\n",
    "df['marital_status'] = labelencoder.fit_transform(df['marital_status'])\n",
    "\n",
    "df['sexual_orientation'] = labelencoder.fit_transform(df['sexual_orientation'])\n",
    "\n",
    "df['average_blood_pressure'] = labelencoder.fit_transform(df['average_blood_pressure'])\n",
    "\n",
    "# Create dictionaries to map custom ordered categorical data to numerical values\n",
    "alcohol_consumption_order = {'Low': 0, 'Moderate': 1}\n",
    "stress_level_order = {'Low': 0, 'Moderate': 1}\n",
    "physical_activity_order = {'Moderate': 0, 'High': 1}\n",
    "\n",
    "# Map the ordered categorical data to numerical data using the created dictionaries\n",
    "df['alcohol_consumption'] = df['alcohol_consumption'].map(alcohol_consumption_order)\n",
    "df['stress_level'] = df['stress_level'].map(stress_level_order)\n",
    "df['physical_activity'] = df['physical_activity'].map(physical_activity_order)\n",
    "\n",
    "# replace NAN values in all non binary columns with mean\n",
    "non_binary_cols = []\n",
    "for col in df.columns:\n",
    "    unique_vals = df[col].dropna().unique()\n",
    "    if len(unique_vals) > 2:\n",
    "        non_binary_cols.append(col)\n",
    "\n",
    "# Fill NaN values only for non-binary columns with their respective mean values\n",
    "df[non_binary_cols] = df[non_binary_cols].apply(lambda x: x.fillna(x.mean()), axis=0)\n",
    "\n",
    "df.dropna(inplace=True)"
   ]
  },
  {
   "cell_type": "markdown",
   "id": "ce04da48",
   "metadata": {},
   "source": [
    "## ANN - Classification\n",
    "The following section will present the creation of an ANN that is used for classification.\n",
    "\n",
    "We will try an solve the same issues as presented in the last exercise.\n",
    "1. Start by defining the independent variables and the dependent variable\n",
    "2. Split the dataset into test and train (this is done in the same way as any other method)\n",
    "3. Creation of ANN model - including input layer, hidden layers, and output layer\n",
    "4. Then train (fit) the model \n",
    "5. Evaluate results\n",
    "6. Investigate optimization of the model (Hyperparameter tuning) "
   ]
  },
  {
   "cell_type": "code",
   "execution_count": 107,
   "id": "f275f3f3",
   "metadata": {},
   "outputs": [],
   "source": [
    "X = df.drop(['stress_level'], axis=1).values\n",
    "y = df['stress_level'].values\n",
    "\n",
    "X_transformed = StandardScaler().fit_transform(X) #scale the data using StandardScaler()"
   ]
  },
  {
   "cell_type": "code",
   "execution_count": 108,
   "id": "2e4a451d",
   "metadata": {},
   "outputs": [],
   "source": [
    "X_train, X_test, y_train, y_test = train_test_split(X_transformed, y, test_size=0.33, random_state=42)"
   ]
  },
  {
   "cell_type": "code",
   "execution_count": 109,
   "id": "b52d6106",
   "metadata": {},
   "outputs": [
    {
     "name": "stdout",
     "output_type": "stream",
     "text": [
      "X_train.shape: (198, 33)\n",
      "X_test.shape: (99, 33)\n",
      "y_train.shape: (198,)\n",
      "y_test.shape: (99,)\n"
     ]
    }
   ],
   "source": [
    "print('X_train.shape:',X_train.shape)\n",
    "print('X_test.shape:',X_test.shape)\n",
    "print('y_train.shape:',y_train.shape)\n",
    "print('y_test.shape:',y_test.shape)"
   ]
  },
  {
   "cell_type": "code",
   "execution_count": 110,
   "id": "2c79f427",
   "metadata": {},
   "outputs": [],
   "source": [
    "model = keras.models.Sequential() #Make instance of a keras sequential model\n",
    "model.add(keras.layers.Input(shape=X_train.shape[1])) #create input layer - takes the shape from X_train\n",
    "model.add(keras.layers.Dense(30, activation='relu')) #Hidden layer 1 - Relu\n",
    "model.add(keras.layers.Dense(15, activation='relu')) #Hidden layer 3 - Relu\n",
    "model.add(keras.layers.Dense(1, activation='sigmoid')) #Output layer - sigmoid (binary)"
   ]
  },
  {
   "cell_type": "code",
   "execution_count": 111,
   "id": "0ef5cc19",
   "metadata": {},
   "outputs": [
    {
     "name": "stdout",
     "output_type": "stream",
     "text": [
      "Model: \"sequential_35\"\n",
      "_________________________________________________________________\n",
      " Layer (type)                Output Shape              Param #   \n",
      "=================================================================\n",
      " dense_227 (Dense)           (None, 30)                1020      \n",
      "                                                                 \n",
      " dense_228 (Dense)           (None, 15)                465       \n",
      "                                                                 \n",
      " dense_229 (Dense)           (None, 1)                 16        \n",
      "                                                                 \n",
      "=================================================================\n",
      "Total params: 1,501\n",
      "Trainable params: 1,501\n",
      "Non-trainable params: 0\n",
      "_________________________________________________________________\n"
     ]
    }
   ],
   "source": [
    "model.summary()"
   ]
  },
  {
   "cell_type": "code",
   "execution_count": 112,
   "id": "54942099",
   "metadata": {},
   "outputs": [],
   "source": [
    "#Compile the model\n",
    "\n",
    "model.compile(loss='binary_crossentropy',optimizer='adam',metrics=['acc', 'AUC']) \n",
    "#Determine loss = 'binary_crossentropy'\n",
    "#Determine the optimizer as adam\n",
    "#Determine metrics as accuracy"
   ]
  },
  {
   "cell_type": "markdown",
   "id": "94a61952",
   "metadata": {},
   "source": [
    "1. loss is Loss Function and defines training process\n",
    "2. optimizer is a function that modifies the weights and learning rate to increase the performance.\n",
    "3. metrics is determine how to evaluate the model performance\n",
    "\n",
    "4. batch_size is a number that determines the samples processed before the model is updated\n",
    "5. epochs is determine the number of iterations/cycles the model should go through\n",
    "6. validation_split splits the given data into another validation dataset used to tune the model and increase performance"
   ]
  },
  {
   "cell_type": "code",
   "execution_count": 113,
   "id": "732566cf",
   "metadata": {
    "scrolled": true
   },
   "outputs": [
    {
     "name": "stdout",
     "output_type": "stream",
     "text": [
      "Epoch 1/10\n",
      "5/5 [==============================] - 1s 59ms/step - loss: 0.9623 - acc: 0.4621 - auc: 0.5080 - val_loss: 0.7805 - val_acc: 0.5758 - val_auc: 0.5746\n",
      "Epoch 2/10\n",
      "5/5 [==============================] - 0s 11ms/step - loss: 0.8725 - acc: 0.4773 - auc: 0.5285 - val_loss: 0.7415 - val_acc: 0.6061 - val_auc: 0.5801\n",
      "Epoch 3/10\n",
      "5/5 [==============================] - 0s 12ms/step - loss: 0.8098 - acc: 0.5227 - auc: 0.5471 - val_loss: 0.7154 - val_acc: 0.5909 - val_auc: 0.5839\n",
      "Epoch 4/10\n",
      "5/5 [==============================] - 0s 12ms/step - loss: 0.7628 - acc: 0.5227 - auc: 0.5647 - val_loss: 0.6982 - val_acc: 0.5758 - val_auc: 0.5829\n",
      "Epoch 5/10\n",
      "5/5 [==============================] - 0s 12ms/step - loss: 0.7274 - acc: 0.5530 - auc: 0.5880 - val_loss: 0.6877 - val_acc: 0.5909 - val_auc: 0.5904\n",
      "Epoch 6/10\n",
      "5/5 [==============================] - 0s 11ms/step - loss: 0.7019 - acc: 0.5682 - auc: 0.6068 - val_loss: 0.6813 - val_acc: 0.6061 - val_auc: 0.5918\n",
      "Epoch 7/10\n",
      "5/5 [==============================] - 0s 12ms/step - loss: 0.6757 - acc: 0.5909 - auc: 0.6455 - val_loss: 0.6779 - val_acc: 0.6061 - val_auc: 0.5969\n",
      "Epoch 8/10\n",
      "5/5 [==============================] - 0s 14ms/step - loss: 0.6573 - acc: 0.6212 - auc: 0.6770 - val_loss: 0.6760 - val_acc: 0.6061 - val_auc: 0.6048\n",
      "Epoch 9/10\n",
      "5/5 [==============================] - 0s 13ms/step - loss: 0.6409 - acc: 0.6515 - auc: 0.7019 - val_loss: 0.6738 - val_acc: 0.5758 - val_auc: 0.6132\n",
      "Epoch 10/10\n",
      "5/5 [==============================] - 0s 13ms/step - loss: 0.6260 - acc: 0.6742 - auc: 0.7221 - val_loss: 0.6737 - val_acc: 0.5909 - val_auc: 0.6156\n"
     ]
    }
   ],
   "source": [
    "history = model.fit(X_train, y_train, batch_size=32, epochs=10, validation_split=0.33,)"
   ]
  },
  {
   "cell_type": "code",
   "execution_count": 114,
   "id": "22c3adf9",
   "metadata": {},
   "outputs": [
    {
     "name": "stdout",
     "output_type": "stream",
     "text": [
      "dict_keys(['loss', 'acc', 'auc', 'val_loss', 'val_acc', 'val_auc'])\n"
     ]
    },
    {
     "data": {
      "image/png": "[encoded data removed]",
      "text/plain": [
       "<Figure size 800x550 with 1 Axes>"
      ]
     },
     "metadata": {},
     "output_type": "display_data"
    },
    {
     "name": "stdout",
     "output_type": "stream",
     "text": [
      "dict_keys(['loss', 'acc', 'auc', 'val_loss', 'val_acc', 'val_auc'])\n"
     ]
    },
    {
     "data": {
      "image/png": "[encoded data removed]",
      "text/plain": [
       "<Figure size 800x550 with 1 Axes>"
      ]
     },
     "metadata": {},
     "output_type": "display_data"
    }
   ],
   "source": [
    "print(history.history.keys())\n",
    "# \"Loss\"\n",
    "plt.plot(history.history['acc'])\n",
    "plt.plot(history.history['val_acc'])\n",
    "plt.title('model loss')\n",
    "plt.ylabel('AUC')\n",
    "plt.xlabel('epoch')\n",
    "plt.legend(['train', 'validation'], loc='upper left')\n",
    "plt.show()\n",
    "\n",
    "print(history.history.keys())\n",
    "# \"Loss\"\n",
    "plt.plot(history.history['auc'])\n",
    "plt.plot(history.history['val_auc'])\n",
    "plt.title('model loss')\n",
    "plt.ylabel('AUC')\n",
    "plt.xlabel('epoch')\n",
    "plt.legend(['train', 'validation'], loc='upper left')\n",
    "plt.show()"
   ]
  },
  {
   "cell_type": "code",
   "execution_count": 85,
   "id": "ca42bce8",
   "metadata": {},
   "outputs": [
    {
     "name": "stdout",
     "output_type": "stream",
     "text": [
      "4/4 [==============================] - 0s 2ms/step\n"
     ]
    },
    {
     "data": {
      "image/png": "[encoded data removed]",
      "text/plain": [
       "<Figure size 1500x600 with 1 Axes>"
      ]
     },
     "metadata": {},
     "output_type": "display_data"
    }
   ],
   "source": [
    "y_pred = model.predict(X_test) \n",
    "\n",
    "plt.figure(figsize=(15,6))\n",
    "\n",
    "for res, c, name in zip([0,1], ['r', 'b'], ['False', 'True']):\n",
    "    plt.scatter(X_train[:,0][y_train==res],X_train[:,1][y_train==res],c=c, label=name+' train', alpha=.3)\n",
    "#color_mapping = [{0:'red',1:'green',2:'blue'}[i] for i in y_pred]\n",
    "\n",
    "\n",
    "for res, c, name in zip([0,1], ['r', 'b'], ['False', 'True']):\n",
    "    plt.scatter(X_test[:,0][y_test==res],X_test[:,1][y_test==res],c=c, label=name+' test')\n",
    "\n",
    "plt.legend()\n",
    "plt.title('Classification ANN');"
   ]
  },
  {
   "cell_type": "code",
   "execution_count": 86,
   "id": "adeb89d9",
   "metadata": {},
   "outputs": [
    {
     "data": {
      "text/plain": [
       "0.6060606060606061"
      ]
     },
     "execution_count": 86,
     "metadata": {},
     "output_type": "execute_result"
    }
   ],
   "source": [
    "accuracy_score(y_test, y_pred.round())"
   ]
  },
  {
   "cell_type": "code",
   "execution_count": 87,
   "id": "d3152f1e",
   "metadata": {},
   "outputs": [
    {
     "name": "stdout",
     "output_type": "stream",
     "text": [
      "              precision    recall  f1-score   support\n",
      "\n",
      "         0.0       0.51      0.88      0.65        41\n",
      "         1.0       0.83      0.41      0.55        58\n",
      "\n",
      "    accuracy                           0.61        99\n",
      "   macro avg       0.67      0.65      0.60        99\n",
      "weighted avg       0.70      0.61      0.59        99\n",
      "\n"
     ]
    }
   ],
   "source": [
    "print(classification_report(y_test, y_pred.round()))"
   ]
  },
  {
   "cell_type": "markdown",
   "id": "1426f262",
   "metadata": {},
   "source": [
    "With this architecture, we can see that we got an accuracy of 0.79. When we conducted KNN we got an accuracy of 0.77.\n",
    "\n",
    "To further train our model we can continue to run through the .fit method, as it continues to train the model and possibly increase accuracy.\n",
    "\n",
    "Instead of manually running the method we can implement the callback function: Earlystopping. It allows for the model to stop training when the model does not see an increase within the training. These parameters are determined by \"monitor\" and \"patience\""
   ]
  },
  {
   "cell_type": "code",
   "execution_count": 88,
   "id": "8be8e017",
   "metadata": {
    "scrolled": true
   },
   "outputs": [
    {
     "name": "stdout",
     "output_type": "stream",
     "text": [
      "Epoch 1/100\n",
      "5/5 [==============================] - 1s 67ms/step - loss: 0.7323 - acc: 0.5000 - auc: 0.5119 - val_loss: 0.7536 - val_acc: 0.4242 - val_auc: 0.4567\n",
      "Epoch 2/100\n",
      "5/5 [==============================] - 0s 12ms/step - loss: 0.7013 - acc: 0.5606 - auc: 0.5728 - val_loss: 0.7437 - val_acc: 0.4545 - val_auc: 0.4786\n",
      "Epoch 3/100\n",
      "5/5 [==============================] - 0s 12ms/step - loss: 0.6800 - acc: 0.5682 - auc: 0.6144 - val_loss: 0.7344 - val_acc: 0.4697 - val_auc: 0.5051\n",
      "Epoch 4/100\n",
      "5/5 [==============================] - 0s 12ms/step - loss: 0.6609 - acc: 0.6061 - auc: 0.6546 - val_loss: 0.7233 - val_acc: 0.5303 - val_auc: 0.5210\n",
      "Epoch 5/100\n",
      "5/5 [==============================] - 0s 12ms/step - loss: 0.6435 - acc: 0.6439 - auc: 0.6947 - val_loss: 0.7106 - val_acc: 0.5303 - val_auc: 0.5471\n",
      "Epoch 6/100\n",
      "5/5 [==============================] - 0s 12ms/step - loss: 0.6269 - acc: 0.7045 - auc: 0.7338 - val_loss: 0.6994 - val_acc: 0.5758 - val_auc: 0.5685\n",
      "Epoch 7/100\n",
      "5/5 [==============================] - 0s 12ms/step - loss: 0.6108 - acc: 0.7348 - auc: 0.7651 - val_loss: 0.6899 - val_acc: 0.5758 - val_auc: 0.5871\n",
      "Epoch 8/100\n",
      "5/5 [==============================] - 0s 22ms/step - loss: 0.5969 - acc: 0.7576 - auc: 0.7939 - val_loss: 0.6802 - val_acc: 0.5909 - val_auc: 0.6062\n",
      "Epoch 9/100\n",
      "5/5 [==============================] - 0s 12ms/step - loss: 0.5818 - acc: 0.7652 - auc: 0.8218 - val_loss: 0.6721 - val_acc: 0.5758 - val_auc: 0.6249\n",
      "Epoch 10/100\n",
      "5/5 [==============================] - 0s 12ms/step - loss: 0.5679 - acc: 0.7727 - auc: 0.8394 - val_loss: 0.6649 - val_acc: 0.5909 - val_auc: 0.6519\n",
      "Epoch 11/100\n",
      "5/5 [==============================] - 0s 13ms/step - loss: 0.5531 - acc: 0.8030 - auc: 0.8656 - val_loss: 0.6566 - val_acc: 0.5909 - val_auc: 0.6729\n",
      "Epoch 12/100\n",
      "5/5 [==============================] - 0s 13ms/step - loss: 0.5402 - acc: 0.8182 - auc: 0.8836 - val_loss: 0.6501 - val_acc: 0.6061 - val_auc: 0.6836\n",
      "Epoch 13/100\n",
      "5/5 [==============================] - 0s 13ms/step - loss: 0.5263 - acc: 0.8258 - auc: 0.9023 - val_loss: 0.6421 - val_acc: 0.6061 - val_auc: 0.7004\n",
      "Epoch 14/100\n",
      "5/5 [==============================] - 0s 14ms/step - loss: 0.5132 - acc: 0.8333 - auc: 0.9139 - val_loss: 0.6323 - val_acc: 0.6515 - val_auc: 0.7255\n",
      "Epoch 15/100\n",
      "5/5 [==============================] - 0s 13ms/step - loss: 0.4997 - acc: 0.8485 - auc: 0.9259 - val_loss: 0.6201 - val_acc: 0.6667 - val_auc: 0.7428\n",
      "Epoch 16/100\n",
      "5/5 [==============================] - 0s 12ms/step - loss: 0.4848 - acc: 0.8636 - auc: 0.9364 - val_loss: 0.6073 - val_acc: 0.6667 - val_auc: 0.7656\n",
      "Epoch 17/100\n",
      "5/5 [==============================] - 0s 13ms/step - loss: 0.4703 - acc: 0.8636 - auc: 0.9443 - val_loss: 0.5948 - val_acc: 0.7121 - val_auc: 0.7810\n",
      "Epoch 18/100\n",
      "5/5 [==============================] - 0s 12ms/step - loss: 0.4553 - acc: 0.8939 - auc: 0.9528 - val_loss: 0.5819 - val_acc: 0.7273 - val_auc: 0.7968\n",
      "Epoch 19/100\n",
      "5/5 [==============================] - 0s 12ms/step - loss: 0.4409 - acc: 0.9015 - auc: 0.9609 - val_loss: 0.5691 - val_acc: 0.7576 - val_auc: 0.8145\n",
      "Epoch 20/100\n",
      "5/5 [==============================] - 0s 13ms/step - loss: 0.4256 - acc: 0.9167 - auc: 0.9688 - val_loss: 0.5560 - val_acc: 0.7576 - val_auc: 0.8318\n",
      "Epoch 21/100\n",
      "5/5 [==============================] - 0s 13ms/step - loss: 0.4099 - acc: 0.9318 - auc: 0.9728 - val_loss: 0.5431 - val_acc: 0.7727 - val_auc: 0.8425\n",
      "Epoch 22/100\n",
      "5/5 [==============================] - 0s 12ms/step - loss: 0.3937 - acc: 0.9470 - auc: 0.9777 - val_loss: 0.5300 - val_acc: 0.7879 - val_auc: 0.8555\n",
      "Epoch 23/100\n",
      "5/5 [==============================] - 0s 11ms/step - loss: 0.3767 - acc: 0.9545 - auc: 0.9827 - val_loss: 0.5150 - val_acc: 0.8182 - val_auc: 0.8649\n",
      "Epoch 24/100\n",
      "5/5 [==============================] - 0s 12ms/step - loss: 0.3594 - acc: 0.9621 - auc: 0.9856 - val_loss: 0.4997 - val_acc: 0.8182 - val_auc: 0.8709\n",
      "Epoch 25/100\n",
      "5/5 [==============================] - 0s 12ms/step - loss: 0.3419 - acc: 0.9621 - auc: 0.9893 - val_loss: 0.4848 - val_acc: 0.8182 - val_auc: 0.8802\n",
      "Epoch 26/100\n",
      "5/5 [==============================] - 0s 12ms/step - loss: 0.3242 - acc: 0.9621 - auc: 0.9915 - val_loss: 0.4707 - val_acc: 0.8182 - val_auc: 0.8882\n",
      "Epoch 27/100\n",
      "5/5 [==============================] - 0s 12ms/step - loss: 0.3070 - acc: 0.9697 - auc: 0.9939 - val_loss: 0.4575 - val_acc: 0.8182 - val_auc: 0.8984\n",
      "Epoch 28/100\n",
      "5/5 [==============================] - 0s 14ms/step - loss: 0.2907 - acc: 0.9697 - auc: 0.9952 - val_loss: 0.4440 - val_acc: 0.8333 - val_auc: 0.9087\n",
      "Epoch 29/100\n",
      "5/5 [==============================] - 0s 19ms/step - loss: 0.2736 - acc: 0.9773 - auc: 0.9959 - val_loss: 0.4316 - val_acc: 0.8333 - val_auc: 0.9171\n",
      "Epoch 30/100\n",
      "5/5 [==============================] - 0s 13ms/step - loss: 0.2576 - acc: 0.9773 - auc: 0.9966 - val_loss: 0.4183 - val_acc: 0.8333 - val_auc: 0.9250\n",
      "Epoch 31/100\n",
      "5/5 [==============================] - 0s 12ms/step - loss: 0.2424 - acc: 0.9773 - auc: 0.9972 - val_loss: 0.4038 - val_acc: 0.8333 - val_auc: 0.9278\n",
      "Epoch 32/100\n",
      "5/5 [==============================] - 0s 12ms/step - loss: 0.2283 - acc: 0.9773 - auc: 0.9978 - val_loss: 0.3906 - val_acc: 0.8333 - val_auc: 0.9338\n",
      "Epoch 33/100\n",
      "5/5 [==============================] - 0s 14ms/step - loss: 0.2141 - acc: 0.9848 - auc: 0.9989 - val_loss: 0.3805 - val_acc: 0.8333 - val_auc: 0.9380\n",
      "Epoch 34/100\n",
      "5/5 [==============================] - 0s 11ms/step - loss: 0.2020 - acc: 0.9848 - auc: 0.9989 - val_loss: 0.3705 - val_acc: 0.8333 - val_auc: 0.9422\n",
      "Epoch 35/100\n",
      "5/5 [==============================] - 0s 11ms/step - loss: 0.1902 - acc: 0.9848 - auc: 0.9989 - val_loss: 0.3603 - val_acc: 0.8333 - val_auc: 0.9464\n",
      "Epoch 36/100\n",
      "5/5 [==============================] - 0s 11ms/step - loss: 0.1789 - acc: 0.9848 - auc: 0.9991 - val_loss: 0.3486 - val_acc: 0.8333 - val_auc: 0.9492\n",
      "Epoch 37/100\n",
      "5/5 [==============================] - 0s 10ms/step - loss: 0.1670 - acc: 0.9848 - auc: 0.9993 - val_loss: 0.3385 - val_acc: 0.8333 - val_auc: 0.9520\n",
      "Epoch 38/100\n",
      "5/5 [==============================] - 0s 11ms/step - loss: 0.1572 - acc: 0.9848 - auc: 0.9995 - val_loss: 0.3283 - val_acc: 0.8485 - val_auc: 0.9548\n",
      "Epoch 39/100\n",
      "5/5 [==============================] - 0s 11ms/step - loss: 0.1472 - acc: 0.9848 - auc: 0.9997 - val_loss: 0.3199 - val_acc: 0.8485 - val_auc: 0.9590\n",
      "Epoch 40/100\n",
      "5/5 [==============================] - 0s 11ms/step - loss: 0.1382 - acc: 0.9848 - auc: 0.9998 - val_loss: 0.3126 - val_acc: 0.8485 - val_auc: 0.9590\n",
      "Epoch 41/100\n",
      "5/5 [==============================] - 0s 12ms/step - loss: 0.1298 - acc: 0.9848 - auc: 0.9998 - val_loss: 0.3048 - val_acc: 0.8485 - val_auc: 0.9627\n",
      "Epoch 42/100\n",
      "5/5 [==============================] - 0s 12ms/step - loss: 0.1219 - acc: 0.9848 - auc: 0.9998 - val_loss: 0.2996 - val_acc: 0.8485 - val_auc: 0.9637\n",
      "Epoch 43/100\n",
      "5/5 [==============================] - 0s 14ms/step - loss: 0.1143 - acc: 0.9848 - auc: 0.9998 - val_loss: 0.2925 - val_acc: 0.8485 - val_auc: 0.9641\n"
     ]
    }
   ],
   "source": [
    "model = keras.models.Sequential()\n",
    "model.add(keras.layers.Input(shape=X_train.shape[1]))\n",
    "model.add(keras.layers.Dense(30, activation='relu'))\n",
    "model.add(keras.layers.Dense(15, activation='relu'))\n",
    "model.add(keras.layers.Dense(1, activation='sigmoid'))\n",
    "model.compile(loss='binary_crossentropy',optimizer='adam',metrics=['acc', 'AUC'])\n",
    "\n",
    "history = model.fit(X_train, y_train, batch_size=32, epochs=100, validation_split=0.33,\n",
    "                  callbacks=[keras.callbacks.EarlyStopping(monitor='acc', patience=10)])"
   ]
  },
  {
   "cell_type": "code",
   "execution_count": 89,
   "id": "3e0e23d9",
   "metadata": {},
   "outputs": [
    {
     "name": "stdout",
     "output_type": "stream",
     "text": [
      "dict_keys(['loss', 'acc', 'auc', 'val_loss', 'val_acc', 'val_auc'])\n"
     ]
    },
    {
     "data": {
      "image/png": "[encoded data removed]",
      "text/plain": [
       "<Figure size 800x550 with 1 Axes>"
      ]
     },
     "metadata": {},
     "output_type": "display_data"
    },
    {
     "name": "stdout",
     "output_type": "stream",
     "text": [
      "dict_keys(['loss', 'acc', 'auc', 'val_loss', 'val_acc', 'val_auc'])\n"
     ]
    },
    {
     "data": {
      "image/png": "[encoded data removed]",
      "text/plain": [
       "<Figure size 800x550 with 1 Axes>"
      ]
     },
     "metadata": {},
     "output_type": "display_data"
    }
   ],
   "source": [
    "print(history.history.keys())\n",
    "# \"Loss\"\n",
    "plt.plot(history.history['acc'])\n",
    "plt.plot(history.history['val_acc'])\n",
    "plt.title('model loss')\n",
    "plt.ylabel('AUC')\n",
    "plt.xlabel('epoch')\n",
    "plt.legend(['train', 'validation'], loc='upper left')\n",
    "plt.show()\n",
    "\n",
    "print(history.history.keys())\n",
    "# \"Loss\"\n",
    "plt.plot(history.history['auc'])\n",
    "plt.plot(history.history['val_auc'])\n",
    "plt.title('model loss')\n",
    "plt.ylabel('AUC')\n",
    "plt.xlabel('epoch')\n",
    "plt.legend(['train', 'validation'], loc='upper left')\n",
    "plt.show()"
   ]
  },
  {
   "cell_type": "code",
   "execution_count": 90,
   "id": "21fa6688",
   "metadata": {},
   "outputs": [
    {
     "name": "stdout",
     "output_type": "stream",
     "text": [
      "4/4 [==============================] - 0s 1ms/step\n"
     ]
    },
    {
     "data": {
      "image/png": "[encoded data removed]",
      "text/plain": [
       "<Figure size 1500x600 with 1 Axes>"
      ]
     },
     "metadata": {},
     "output_type": "display_data"
    }
   ],
   "source": [
    "y_pred = model.predict(X_test) \n",
    "\n",
    "plt.figure(figsize=(15,6))\n",
    "\n",
    "for res, c, name in zip([0,1], ['r', 'b'], ['False', 'True']):\n",
    "    plt.scatter(X_train[:,0][y_train==res],X_train[:,1][y_train==res],c=c, label=name+' train', alpha=.3)\n",
    "#color_mapping = [{0:'red',1:'green',2:'blue'}[i] for i in y_pred]\n",
    "\n",
    "\n",
    "for res, c, name in zip([0,1], ['r', 'b'], ['False', 'True']):\n",
    "    plt.scatter(X_test[:,0][y_test==res],X_test[:,1][y_test==res],c=c, label=name+' test')\n",
    "\n",
    "plt.legend()\n",
    "plt.title('Classification ANN');"
   ]
  },
  {
   "cell_type": "code",
   "execution_count": 91,
   "id": "2bc2fed3",
   "metadata": {},
   "outputs": [
    {
     "data": {
      "text/plain": [
       "0.8888888888888888"
      ]
     },
     "execution_count": 91,
     "metadata": {},
     "output_type": "execute_result"
    }
   ],
   "source": [
    "accuracy_score(y_test, y_pred.round())"
   ]
  },
  {
   "cell_type": "markdown",
   "id": "285510d9",
   "metadata": {},
   "source": [
    "Increase of 0.02 accuracy"
   ]
  },
  {
   "cell_type": "code",
   "execution_count": 92,
   "id": "062bf976",
   "metadata": {},
   "outputs": [
    {
     "name": "stdout",
     "output_type": "stream",
     "text": [
      "              precision    recall  f1-score   support\n",
      "\n",
      "         0.0       0.80      0.98      0.88        41\n",
      "         1.0       0.98      0.83      0.90        58\n",
      "\n",
      "    accuracy                           0.89        99\n",
      "   macro avg       0.89      0.90      0.89        99\n",
      "weighted avg       0.91      0.89      0.89        99\n",
      "\n"
     ]
    }
   ],
   "source": [
    "print(classification_report(y_test, y_pred.round()))"
   ]
  },
  {
   "cell_type": "markdown",
   "id": "bf861e23",
   "metadata": {},
   "source": [
    "## Hyperparameter tuning with Random Search\n",
    "To further increase the performance of the ANN we will look into hyperparameters and see what we can change to increase accuracy. Following what is described in ** the hyperparameters that have the most impact are number of \"hidden layers\", number of \"neurons\", and \"learning_rate\n",
    "\n",
    "1. We will create a function that creates an ANN model\n",
    "2. Determine a dictionary that contains all hyperparameters we wish to investigate\n",
    "3. Conduct Random Search\n",
    "4. Evaluate best parameters\n",
    "5. Create a new model, train it, and evaluate"
   ]
  },
  {
   "cell_type": "code",
   "execution_count": 93,
   "id": "b6e56164",
   "metadata": {},
   "outputs": [],
   "source": [
    "def model_builder(n_hidden=1,n_neurons=30,learning_rate=3e-3):\n",
    "    model = keras.models.Sequential()\n",
    "    model.add(keras.layers.Input(shape=X_train.shape[1]))\n",
    "    for layer in range(n_hidden):\n",
    "        model.add(keras.layers.Dense(n_neurons, activation='relu'))\n",
    "    model.add(keras.layers.Dense(1, activation='sigmoid'))\n",
    "    optimizer = keras.optimizers.Adam(lr=learning_rate)\n",
    "    model.compile(loss='binary_crossentropy',optimizer='adam',metrics=['acc', 'AUC'])\n",
    "    return model"
   ]
  },
  {
   "cell_type": "code",
   "execution_count": 94,
   "id": "07571c12",
   "metadata": {},
   "outputs": [],
   "source": [
    "from sklearn.model_selection import RandomizedSearchCV"
   ]
  },
  {
   "cell_type": "code",
   "execution_count": 95,
   "id": "0cdc59fa",
   "metadata": {},
   "outputs": [],
   "source": [
    "paramiters = {'n_hidden': np.arange(1,10), 'n_neurons': np.arange(1,300),\n",
    "             'learning_rate': np.arange(3e-4 ,  3e-2)}"
   ]
  },
  {
   "cell_type": "code",
   "execution_count": 96,
   "id": "e6e78904",
   "metadata": {},
   "outputs": [
    {
     "name": "stderr",
     "output_type": "stream",
     "text": [
      "C:\\Users\\Simon Andersen\\AppData\\Local\\Temp\\ipykernel_6876\\974583189.py:1: DeprecationWarning: KerasClassifier is deprecated, use Sci-Keras (https://github.com/adriangb/scikeras) instead. See https://www.adriangb.com/scikeras/stable/migration.html for help migrating.\n",
      "  wrapper = keras.wrappers.scikit_learn.KerasClassifier(model_builder)\n"
     ]
    }
   ],
   "source": [
    "wrapper = keras.wrappers.scikit_learn.KerasClassifier(model_builder)"
   ]
  },
  {
   "cell_type": "code",
   "execution_count": 97,
   "id": "d528aae1",
   "metadata": {},
   "outputs": [],
   "source": [
    "random_search = RandomizedSearchCV(estimator=wrapper,\n",
    "                                   param_distributions=paramiters,\n",
    "                                   n_iter=10,cv=3)"
   ]
  },
  {
   "cell_type": "code",
   "execution_count": 98,
   "id": "0904c655",
   "metadata": {
    "scrolled": true
   },
   "outputs": [
    {
     "name": "stderr",
     "output_type": "stream",
     "text": [
      "WARNING:absl:`lr` is deprecated in Keras optimizer, please use `learning_rate` or use the legacy optimizer, e.g.,tf.keras.optimizers.legacy.Adam.\n"
     ]
    },
    {
     "name": "stdout",
     "output_type": "stream",
     "text": [
      "Epoch 1/100\n"
     ]
    },
    {
     "name": "stdout",
     "output_type": "stream",
     "text": [
      "3/3 [==============================] - 2s 158ms/step - loss: 0.7167 - acc: 0.5000 - auc: 0.6460 - val_loss: 0.7371 - val_acc: 0.5682 - val_auc: 0.3337\n",
      "Epoch 2/100\n",
      "3/3 [==============================] - 0s 23ms/step - loss: 0.6710 - acc: 0.5227 - auc: 0.7372 - val_loss: 0.7177 - val_acc: 0.5455 - val_auc: 0.3789\n",
      "Epoch 3/100\n",
      "3/3 [==============================] - 0s 23ms/step - loss: 0.6348 - acc: 0.5909 - auc: 0.8057 - val_loss: 0.6996 - val_acc: 0.5455 - val_auc: 0.4379\n",
      "Epoch 4/100\n",
      "3/3 [==============================] - 0s 26ms/step - loss: 0.6048 - acc: 0.6477 - auc: 0.8501 - val_loss: 0.6828 - val_acc: 0.5455 - val_auc: 0.5053\n",
      "Epoch 5/100\n",
      "3/3 [==============================] - 0s 23ms/step - loss: 0.5785 - acc: 0.6705 - auc: 0.8842 - val_loss: 0.6666 - val_acc: 0.5682 - val_auc: 0.5632\n",
      "Epoch 6/100\n",
      "3/3 [==============================] - 0s 24ms/step - loss: 0.5554 - acc: 0.7500 - auc: 0.9106 - val_loss: 0.6501 - val_acc: 0.5455 - val_auc: 0.6179\n",
      "Epoch 7/100\n",
      "3/3 [==============================] - 0s 24ms/step - loss: 0.5305 - acc: 0.7841 - auc: 0.9310 - val_loss: 0.6337 - val_acc: 0.6136 - val_auc: 0.6779\n",
      "Epoch 8/100\n",
      "3/3 [==============================] - 0s 25ms/step - loss: 0.5060 - acc: 0.8068 - auc: 0.9532 - val_loss: 0.6174 - val_acc: 0.6364 - val_auc: 0.7211\n",
      "Epoch 9/100\n",
      "3/3 [==============================] - 0s 38ms/step - loss: 0.4815 - acc: 0.8295 - auc: 0.9661 - val_loss: 0.6004 - val_acc: 0.6591 - val_auc: 0.7558\n",
      "Epoch 10/100\n",
      "3/3 [==============================] - 0s 24ms/step - loss: 0.4571 - acc: 0.8636 - auc: 0.9762 - val_loss: 0.5842 - val_acc: 0.6364 - val_auc: 0.7726\n",
      "Epoch 11/100\n",
      "3/3 [==============================] - 0s 20ms/step - loss: 0.4321 - acc: 0.9091 - auc: 0.9837 - val_loss: 0.5675 - val_acc: 0.6364 - val_auc: 0.7884\n",
      "Epoch 12/100\n",
      "3/3 [==============================] - 0s 21ms/step - loss: 0.4072 - acc: 0.9432 - auc: 0.9884 - val_loss: 0.5504 - val_acc: 0.6818 - val_auc: 0.8021\n",
      "Epoch 13/100\n",
      "3/3 [==============================] - 0s 22ms/step - loss: 0.3808 - acc: 0.9545 - auc: 0.9943 - val_loss: 0.5336 - val_acc: 0.7273 - val_auc: 0.8253\n",
      "Epoch 14/100\n",
      "3/3 [==============================] - 0s 23ms/step - loss: 0.3555 - acc: 0.9545 - auc: 0.9969 - val_loss: 0.5167 - val_acc: 0.7045 - val_auc: 0.8526\n",
      "Epoch 15/100\n",
      "3/3 [==============================] - 0s 26ms/step - loss: 0.3289 - acc: 0.9659 - auc: 0.9974 - val_loss: 0.5000 - val_acc: 0.7273 - val_auc: 0.8642\n",
      "Epoch 16/100\n",
      "3/3 [==============================] - 0s 26ms/step - loss: 0.3040 - acc: 0.9659 - auc: 0.9984 - val_loss: 0.4829 - val_acc: 0.7727 - val_auc: 0.8789\n",
      "Epoch 17/100\n",
      "3/3 [==============================] - 0s 23ms/step - loss: 0.2790 - acc: 0.9659 - auc: 0.9984 - val_loss: 0.4665 - val_acc: 0.7727 - val_auc: 0.8874\n",
      "Epoch 18/100\n",
      "3/3 [==============================] - 0s 22ms/step - loss: 0.2538 - acc: 0.9659 - auc: 0.9990 - val_loss: 0.4503 - val_acc: 0.7727 - val_auc: 0.8968\n",
      "Epoch 19/100\n",
      "3/3 [==============================] - 0s 23ms/step - loss: 0.2303 - acc: 0.9659 - auc: 0.9990 - val_loss: 0.4345 - val_acc: 0.7727 - val_auc: 0.9021\n",
      "Epoch 20/100\n",
      "3/3 [==============================] - 0s 24ms/step - loss: 0.2077 - acc: 0.9773 - auc: 0.9995 - val_loss: 0.4186 - val_acc: 0.7955 - val_auc: 0.9074\n",
      "Epoch 21/100\n",
      "3/3 [==============================] - 0s 25ms/step - loss: 0.1852 - acc: 0.9886 - auc: 0.9995 - val_loss: 0.4038 - val_acc: 0.7955 - val_auc: 0.9126\n",
      "Epoch 22/100\n",
      "3/3 [==============================] - 0s 23ms/step - loss: 0.1645 - acc: 0.9886 - auc: 1.0000 - val_loss: 0.3884 - val_acc: 0.7955 - val_auc: 0.9179\n",
      "Epoch 23/100\n",
      "3/3 [==============================] - 0s 23ms/step - loss: 0.1450 - acc: 0.9886 - auc: 1.0000 - val_loss: 0.3738 - val_acc: 0.7955 - val_auc: 0.9274\n",
      "Epoch 24/100\n",
      "3/3 [==============================] - 0s 24ms/step - loss: 0.1278 - acc: 0.9886 - auc: 1.0000 - val_loss: 0.3601 - val_acc: 0.8182 - val_auc: 0.9305\n",
      "Epoch 25/100\n",
      "3/3 [==============================] - 0s 21ms/step - loss: 0.1109 - acc: 0.9886 - auc: 1.0000 - val_loss: 0.3479 - val_acc: 0.8182 - val_auc: 0.9305\n",
      "Epoch 26/100\n",
      "3/3 [==============================] - 0s 23ms/step - loss: 0.0966 - acc: 0.9886 - auc: 1.0000 - val_loss: 0.3355 - val_acc: 0.8182 - val_auc: 0.9305\n",
      "Epoch 27/100\n",
      "3/3 [==============================] - 0s 23ms/step - loss: 0.0837 - acc: 1.0000 - auc: 1.0000 - val_loss: 0.3245 - val_acc: 0.8182 - val_auc: 0.9337\n",
      "Epoch 28/100\n",
      "3/3 [==============================] - 0s 23ms/step - loss: 0.0720 - acc: 1.0000 - auc: 1.0000 - val_loss: 0.3145 - val_acc: 0.8182 - val_auc: 0.9389\n",
      "Epoch 29/100\n",
      "3/3 [==============================] - 0s 23ms/step - loss: 0.0631 - acc: 1.0000 - auc: 1.0000 - val_loss: 0.3050 - val_acc: 0.8182 - val_auc: 0.9442\n",
      "Epoch 30/100\n",
      "3/3 [==============================] - 0s 39ms/step - loss: 0.0540 - acc: 1.0000 - auc: 1.0000 - val_loss: 0.2959 - val_acc: 0.8409 - val_auc: 0.9463\n",
      "Epoch 31/100\n",
      "3/3 [==============================] - 0s 20ms/step - loss: 0.0468 - acc: 1.0000 - auc: 1.0000 - val_loss: 0.2867 - val_acc: 0.8409 - val_auc: 0.9505\n",
      "Epoch 32/100\n",
      "3/3 [==============================] - 0s 21ms/step - loss: 0.0405 - acc: 1.0000 - auc: 1.0000 - val_loss: 0.2784 - val_acc: 0.8409 - val_auc: 0.9537\n",
      "Epoch 33/100\n",
      "3/3 [==============================] - 0s 22ms/step - loss: 0.0353 - acc: 1.0000 - auc: 1.0000 - val_loss: 0.2703 - val_acc: 0.8636 - val_auc: 0.9568\n",
      "Epoch 34/100\n",
      "3/3 [==============================] - 0s 23ms/step - loss: 0.0308 - acc: 1.0000 - auc: 1.0000 - val_loss: 0.2632 - val_acc: 0.8636 - val_auc: 0.9600\n",
      "Epoch 35/100\n",
      "3/3 [==============================] - 0s 25ms/step - loss: 0.0270 - acc: 1.0000 - auc: 1.0000 - val_loss: 0.2562 - val_acc: 0.8864 - val_auc: 0.9600\n",
      "Epoch 36/100\n",
      "3/3 [==============================] - 0s 22ms/step - loss: 0.0238 - acc: 1.0000 - auc: 1.0000 - val_loss: 0.2499 - val_acc: 0.8864 - val_auc: 0.9600\n",
      "Epoch 37/100\n",
      "3/3 [==============================] - 0s 22ms/step - loss: 0.0212 - acc: 1.0000 - auc: 1.0000 - val_loss: 0.2441 - val_acc: 0.8864 - val_auc: 0.9642\n",
      "3/3 [==============================] - 0s 4ms/step - loss: 0.3732 - acc: 0.9091 - auc: 0.9253\n"
     ]
    },
    {
     "name": "stderr",
     "output_type": "stream",
     "text": [
      "WARNING:absl:`lr` is deprecated in Keras optimizer, please use `learning_rate` or use the legacy optimizer, e.g.,tf.keras.optimizers.legacy.Adam.\n"
     ]
    },
    {
     "name": "stdout",
     "output_type": "stream",
     "text": [
      "Epoch 1/100\n",
      "3/3 [==============================] - 1s 134ms/step - loss: 0.7676 - acc: 0.4773 - auc: 0.5623 - val_loss: 0.6879 - val_acc: 0.5909 - val_auc: 0.5558\n",
      "Epoch 2/100\n",
      "3/3 [==============================] - 0s 19ms/step - loss: 0.7047 - acc: 0.4773 - auc: 0.6519 - val_loss: 0.6729 - val_acc: 0.6364 - val_auc: 0.5747\n",
      "Epoch 3/100\n",
      "3/3 [==============================] - 0s 20ms/step - loss: 0.6647 - acc: 0.5455 - auc: 0.7178 - val_loss: 0.6625 - val_acc: 0.6591 - val_auc: 0.6074\n",
      "Epoch 4/100\n",
      "3/3 [==============================] - 0s 19ms/step - loss: 0.6294 - acc: 0.6591 - auc: 0.7822 - val_loss: 0.6520 - val_acc: 0.5909 - val_auc: 0.6674\n",
      "Epoch 5/100\n",
      "3/3 [==============================] - 0s 20ms/step - loss: 0.6026 - acc: 0.7614 - auc: 0.8354 - val_loss: 0.6415 - val_acc: 0.6364 - val_auc: 0.7011\n",
      "Epoch 6/100\n",
      "3/3 [==============================] - 0s 19ms/step - loss: 0.5810 - acc: 0.7614 - auc: 0.8623 - val_loss: 0.6297 - val_acc: 0.6364 - val_auc: 0.7621\n",
      "Epoch 7/100\n",
      "3/3 [==============================] - 0s 20ms/step - loss: 0.5556 - acc: 0.8068 - auc: 0.9013 - val_loss: 0.6145 - val_acc: 0.6818 - val_auc: 0.8063\n",
      "Epoch 8/100\n",
      "3/3 [==============================] - 0s 20ms/step - loss: 0.5306 - acc: 0.8409 - auc: 0.9326 - val_loss: 0.5956 - val_acc: 0.6818 - val_auc: 0.8379\n",
      "Epoch 9/100\n",
      "3/3 [==============================] - 0s 20ms/step - loss: 0.5059 - acc: 0.8523 - auc: 0.9499 - val_loss: 0.5746 - val_acc: 0.7045 - val_auc: 0.8695\n",
      "Epoch 10/100\n",
      "3/3 [==============================] - 0s 20ms/step - loss: 0.4798 - acc: 0.8523 - auc: 0.9625 - val_loss: 0.5540 - val_acc: 0.7500 - val_auc: 0.8853\n",
      "Epoch 11/100\n",
      "3/3 [==============================] - 0s 19ms/step - loss: 0.4529 - acc: 0.8864 - auc: 0.9685 - val_loss: 0.5340 - val_acc: 0.8182 - val_auc: 0.9032\n",
      "Epoch 12/100\n",
      "3/3 [==============================] - 0s 20ms/step - loss: 0.4254 - acc: 0.9091 - auc: 0.9721 - val_loss: 0.5158 - val_acc: 0.8182 - val_auc: 0.9137\n",
      "Epoch 13/100\n",
      "3/3 [==============================] - 0s 19ms/step - loss: 0.3975 - acc: 0.9091 - auc: 0.9791 - val_loss: 0.4981 - val_acc: 0.8409 - val_auc: 0.9211\n",
      "Epoch 14/100\n",
      "3/3 [==============================] - 0s 19ms/step - loss: 0.3704 - acc: 0.9205 - auc: 0.9835 - val_loss: 0.4794 - val_acc: 0.8182 - val_auc: 0.9242\n",
      "Epoch 15/100\n",
      "3/3 [==============================] - 0s 19ms/step - loss: 0.3422 - acc: 0.9205 - auc: 0.9871 - val_loss: 0.4634 - val_acc: 0.8409 - val_auc: 0.9274\n",
      "Epoch 16/100\n",
      "3/3 [==============================] - 0s 19ms/step - loss: 0.3140 - acc: 0.9432 - auc: 0.9897 - val_loss: 0.4486 - val_acc: 0.8182 - val_auc: 0.9253\n",
      "Epoch 17/100\n",
      "3/3 [==============================] - 0s 20ms/step - loss: 0.2859 - acc: 0.9545 - auc: 0.9956 - val_loss: 0.4344 - val_acc: 0.8182 - val_auc: 0.9316\n",
      "Epoch 18/100\n",
      "3/3 [==============================] - 0s 21ms/step - loss: 0.2584 - acc: 0.9773 - auc: 0.9964 - val_loss: 0.4211 - val_acc: 0.8182 - val_auc: 0.9379\n",
      "Epoch 19/100\n",
      "3/3 [==============================] - 0s 30ms/step - loss: 0.2309 - acc: 0.9773 - auc: 0.9974 - val_loss: 0.4084 - val_acc: 0.7955 - val_auc: 0.9432\n",
      "Epoch 20/100\n",
      "3/3 [==============================] - 0s 22ms/step - loss: 0.2050 - acc: 0.9773 - auc: 0.9979 - val_loss: 0.3963 - val_acc: 0.7955 - val_auc: 0.9453\n",
      "Epoch 21/100\n",
      "3/3 [==============================] - 0s 19ms/step - loss: 0.1815 - acc: 0.9886 - auc: 0.9990 - val_loss: 0.3847 - val_acc: 0.7955 - val_auc: 0.9474\n",
      "Epoch 22/100\n",
      "3/3 [==============================] - 0s 20ms/step - loss: 0.1600 - acc: 0.9886 - auc: 0.9995 - val_loss: 0.3723 - val_acc: 0.8182 - val_auc: 0.9484\n",
      "Epoch 23/100\n",
      "3/3 [==============================] - 0s 21ms/step - loss: 0.1391 - acc: 0.9886 - auc: 1.0000 - val_loss: 0.3599 - val_acc: 0.8182 - val_auc: 0.9495\n",
      "Epoch 24/100\n",
      "3/3 [==============================] - 0s 23ms/step - loss: 0.1208 - acc: 0.9886 - auc: 1.0000 - val_loss: 0.3531 - val_acc: 0.7955 - val_auc: 0.9474\n",
      "Epoch 25/100\n",
      "3/3 [==============================] - 0s 22ms/step - loss: 0.1039 - acc: 0.9886 - auc: 1.0000 - val_loss: 0.3455 - val_acc: 0.7955 - val_auc: 0.9474\n",
      "Epoch 26/100\n",
      "3/3 [==============================] - 0s 21ms/step - loss: 0.0902 - acc: 0.9886 - auc: 1.0000 - val_loss: 0.3394 - val_acc: 0.7955 - val_auc: 0.9474\n",
      "Epoch 27/100\n",
      "3/3 [==============================] - 0s 21ms/step - loss: 0.0766 - acc: 1.0000 - auc: 1.0000 - val_loss: 0.3339 - val_acc: 0.7955 - val_auc: 0.9516\n",
      "Epoch 28/100\n",
      "3/3 [==============================] - 0s 22ms/step - loss: 0.0662 - acc: 1.0000 - auc: 1.0000 - val_loss: 0.3283 - val_acc: 0.7955 - val_auc: 0.9537\n",
      "Epoch 29/100\n",
      "3/3 [==============================] - 0s 22ms/step - loss: 0.0565 - acc: 1.0000 - auc: 1.0000 - val_loss: 0.3242 - val_acc: 0.7955 - val_auc: 0.9547\n",
      "Epoch 30/100\n",
      "3/3 [==============================] - 0s 22ms/step - loss: 0.0488 - acc: 1.0000 - auc: 1.0000 - val_loss: 0.3235 - val_acc: 0.8182 - val_auc: 0.9600\n",
      "Epoch 31/100\n",
      "3/3 [==============================] - 0s 23ms/step - loss: 0.0419 - acc: 1.0000 - auc: 1.0000 - val_loss: 0.3221 - val_acc: 0.8409 - val_auc: 0.9579\n",
      "Epoch 32/100\n",
      "3/3 [==============================] - 0s 22ms/step - loss: 0.0356 - acc: 1.0000 - auc: 1.0000 - val_loss: 0.3211 - val_acc: 0.8409 - val_auc: 0.9579\n",
      "Epoch 33/100\n",
      "3/3 [==============================] - 0s 24ms/step - loss: 0.0310 - acc: 1.0000 - auc: 1.0000 - val_loss: 0.3209 - val_acc: 0.8409 - val_auc: 0.9589\n",
      "Epoch 34/100\n",
      "3/3 [==============================] - 0s 22ms/step - loss: 0.0270 - acc: 1.0000 - auc: 1.0000 - val_loss: 0.3200 - val_acc: 0.8409 - val_auc: 0.9589\n",
      "Epoch 35/100\n",
      "3/3 [==============================] - 0s 22ms/step - loss: 0.0235 - acc: 1.0000 - auc: 1.0000 - val_loss: 0.3185 - val_acc: 0.8409 - val_auc: 0.9589\n",
      "Epoch 36/100\n",
      "3/3 [==============================] - 0s 23ms/step - loss: 0.0206 - acc: 1.0000 - auc: 1.0000 - val_loss: 0.3163 - val_acc: 0.8409 - val_auc: 0.9600\n",
      "Epoch 37/100\n",
      "3/3 [==============================] - 0s 22ms/step - loss: 0.0181 - acc: 1.0000 - auc: 1.0000 - val_loss: 0.3158 - val_acc: 0.8409 - val_auc: 0.9621\n",
      "3/3 [==============================] - 0s 4ms/step - loss: 0.3017 - acc: 0.8788 - auc: 0.9472\n"
     ]
    },
    {
     "name": "stderr",
     "output_type": "stream",
     "text": [
      "WARNING:absl:`lr` is deprecated in Keras optimizer, please use `learning_rate` or use the legacy optimizer, e.g.,tf.keras.optimizers.legacy.Adam.\n"
     ]
    },
    {
     "name": "stdout",
     "output_type": "stream",
     "text": [
      "Epoch 1/100\n",
      "3/3 [==============================] - 2s 129ms/step - loss: 0.7005 - acc: 0.4318 - auc: 0.4715 - val_loss: 0.6717 - val_acc: 0.6136 - val_auc: 0.6716\n",
      "Epoch 2/100\n",
      "3/3 [==============================] - 0s 21ms/step - loss: 0.6690 - acc: 0.5795 - auc: 0.6353 - val_loss: 0.6617 - val_acc: 0.7045 - val_auc: 0.7316\n",
      "Epoch 3/100\n",
      "3/3 [==============================] - 0s 20ms/step - loss: 0.6443 - acc: 0.6591 - auc: 0.7611 - val_loss: 0.6526 - val_acc: 0.7500 - val_auc: 0.7632\n",
      "Epoch 4/100\n",
      "3/3 [==============================] - 0s 20ms/step - loss: 0.6193 - acc: 0.7955 - auc: 0.8723 - val_loss: 0.6432 - val_acc: 0.7500 - val_auc: 0.7811\n",
      "Epoch 5/100\n",
      "3/3 [==============================] - 0s 21ms/step - loss: 0.5959 - acc: 0.8636 - auc: 0.9249 - val_loss: 0.6330 - val_acc: 0.7500 - val_auc: 0.7958\n",
      "Epoch 6/100\n",
      "3/3 [==============================] - 0s 20ms/step - loss: 0.5730 - acc: 0.8977 - auc: 0.9545 - val_loss: 0.6215 - val_acc: 0.7500 - val_auc: 0.8095\n",
      "Epoch 7/100\n",
      "3/3 [==============================] - 0s 20ms/step - loss: 0.5483 - acc: 0.9205 - auc: 0.9704 - val_loss: 0.6099 - val_acc: 0.7045 - val_auc: 0.8284\n",
      "Epoch 8/100\n",
      "3/3 [==============================] - 0s 19ms/step - loss: 0.5244 - acc: 0.9318 - auc: 0.9785 - val_loss: 0.5969 - val_acc: 0.6818 - val_auc: 0.8274\n",
      "Epoch 9/100\n",
      "3/3 [==============================] - 0s 21ms/step - loss: 0.4985 - acc: 0.9545 - auc: 0.9843 - val_loss: 0.5851 - val_acc: 0.6818 - val_auc: 0.8379\n",
      "Epoch 10/100\n",
      "3/3 [==============================] - 0s 21ms/step - loss: 0.4729 - acc: 0.9545 - auc: 0.9877 - val_loss: 0.5727 - val_acc: 0.6818 - val_auc: 0.8442\n",
      "Epoch 11/100\n",
      "3/3 [==============================] - 0s 20ms/step - loss: 0.4453 - acc: 0.9545 - auc: 0.9911 - val_loss: 0.5599 - val_acc: 0.6818 - val_auc: 0.8453\n",
      "Epoch 12/100\n",
      "3/3 [==============================] - 0s 20ms/step - loss: 0.4190 - acc: 0.9545 - auc: 0.9932 - val_loss: 0.5456 - val_acc: 0.7045 - val_auc: 0.8516\n",
      "Epoch 13/100\n",
      "3/3 [==============================] - 0s 25ms/step - loss: 0.3900 - acc: 0.9545 - auc: 0.9942 - val_loss: 0.5330 - val_acc: 0.7045 - val_auc: 0.8558\n",
      "Epoch 14/100\n",
      "3/3 [==============================] - 0s 22ms/step - loss: 0.3611 - acc: 0.9659 - auc: 0.9958 - val_loss: 0.5211 - val_acc: 0.7273 - val_auc: 0.8589\n",
      "Epoch 15/100\n",
      "3/3 [==============================] - 0s 20ms/step - loss: 0.3314 - acc: 0.9773 - auc: 0.9969 - val_loss: 0.5094 - val_acc: 0.7273 - val_auc: 0.8589\n",
      "Epoch 16/100\n",
      "3/3 [==============================] - 0s 20ms/step - loss: 0.3012 - acc: 0.9773 - auc: 0.9979 - val_loss: 0.4993 - val_acc: 0.7500 - val_auc: 0.8621\n",
      "Epoch 17/100\n",
      "3/3 [==============================] - 0s 20ms/step - loss: 0.2721 - acc: 0.9773 - auc: 0.9990 - val_loss: 0.4902 - val_acc: 0.7500 - val_auc: 0.8611\n",
      "Epoch 18/100\n",
      "3/3 [==============================] - 0s 22ms/step - loss: 0.2447 - acc: 0.9886 - auc: 0.9990 - val_loss: 0.4821 - val_acc: 0.7500 - val_auc: 0.8537\n",
      "Epoch 19/100\n",
      "3/3 [==============================] - 0s 21ms/step - loss: 0.2176 - acc: 0.9886 - auc: 0.9995 - val_loss: 0.4730 - val_acc: 0.7500 - val_auc: 0.8516\n",
      "Epoch 20/100\n",
      "3/3 [==============================] - 0s 23ms/step - loss: 0.1931 - acc: 0.9886 - auc: 1.0000 - val_loss: 0.4646 - val_acc: 0.7500 - val_auc: 0.8516\n",
      "Epoch 21/100\n",
      "3/3 [==============================] - 0s 23ms/step - loss: 0.1704 - acc: 0.9886 - auc: 1.0000 - val_loss: 0.4578 - val_acc: 0.7500 - val_auc: 0.8526\n",
      "Epoch 22/100\n",
      "3/3 [==============================] - 0s 22ms/step - loss: 0.1490 - acc: 0.9886 - auc: 1.0000 - val_loss: 0.4518 - val_acc: 0.7500 - val_auc: 0.8589\n",
      "Epoch 23/100\n",
      "3/3 [==============================] - 0s 22ms/step - loss: 0.1303 - acc: 0.9886 - auc: 1.0000 - val_loss: 0.4457 - val_acc: 0.7500 - val_auc: 0.8642\n",
      "Epoch 24/100\n",
      "3/3 [==============================] - 0s 21ms/step - loss: 0.1130 - acc: 0.9886 - auc: 1.0000 - val_loss: 0.4388 - val_acc: 0.7727 - val_auc: 0.8716\n",
      "Epoch 25/100\n",
      "3/3 [==============================] - 0s 21ms/step - loss: 0.0976 - acc: 1.0000 - auc: 1.0000 - val_loss: 0.4329 - val_acc: 0.7727 - val_auc: 0.8800\n",
      "Epoch 26/100\n",
      "3/3 [==============================] - 0s 22ms/step - loss: 0.0849 - acc: 1.0000 - auc: 1.0000 - val_loss: 0.4273 - val_acc: 0.7955 - val_auc: 0.8884\n",
      "Epoch 27/100\n",
      "3/3 [==============================] - 0s 41ms/step - loss: 0.0732 - acc: 1.0000 - auc: 1.0000 - val_loss: 0.4220 - val_acc: 0.8182 - val_auc: 0.8926\n",
      "Epoch 28/100\n",
      "3/3 [==============================] - 0s 23ms/step - loss: 0.0634 - acc: 1.0000 - auc: 1.0000 - val_loss: 0.4167 - val_acc: 0.8182 - val_auc: 0.8979\n",
      "Epoch 29/100\n",
      "3/3 [==============================] - 0s 21ms/step - loss: 0.0548 - acc: 1.0000 - auc: 1.0000 - val_loss: 0.4128 - val_acc: 0.8409 - val_auc: 0.9042\n",
      "Epoch 30/100\n",
      "3/3 [==============================] - 0s 20ms/step - loss: 0.0479 - acc: 1.0000 - auc: 1.0000 - val_loss: 0.4095 - val_acc: 0.8409 - val_auc: 0.9042\n",
      "Epoch 31/100\n",
      "3/3 [==============================] - 0s 22ms/step - loss: 0.0418 - acc: 1.0000 - auc: 1.0000 - val_loss: 0.4065 - val_acc: 0.8409 - val_auc: 0.9053\n",
      "Epoch 32/100\n",
      "3/3 [==============================] - 0s 24ms/step - loss: 0.0368 - acc: 1.0000 - auc: 1.0000 - val_loss: 0.4042 - val_acc: 0.8409 - val_auc: 0.9063\n",
      "Epoch 33/100\n",
      "3/3 [==============================] - 0s 23ms/step - loss: 0.0322 - acc: 1.0000 - auc: 1.0000 - val_loss: 0.4025 - val_acc: 0.8409 - val_auc: 0.9116\n",
      "Epoch 34/100\n",
      "3/3 [==============================] - 0s 22ms/step - loss: 0.0288 - acc: 1.0000 - auc: 1.0000 - val_loss: 0.3997 - val_acc: 0.8409 - val_auc: 0.9126\n",
      "Epoch 35/100\n",
      "3/3 [==============================] - 0s 21ms/step - loss: 0.0254 - acc: 1.0000 - auc: 1.0000 - val_loss: 0.3986 - val_acc: 0.8409 - val_auc: 0.9158\n",
      "3/3 [==============================] - 0s 4ms/step - loss: 0.2503 - acc: 0.8939 - auc: 0.9823\n"
     ]
    },
    {
     "name": "stderr",
     "output_type": "stream",
     "text": [
      "WARNING:absl:`lr` is deprecated in Keras optimizer, please use `learning_rate` or use the legacy optimizer, e.g.,tf.keras.optimizers.legacy.Adam.\n"
     ]
    },
    {
     "name": "stdout",
     "output_type": "stream",
     "text": [
      "Epoch 1/100\n",
      "3/3 [==============================] - 2s 172ms/step - loss: 0.6945 - acc: 0.4318 - auc: 0.4344 - val_loss: 0.6867 - val_acc: 0.5682 - val_auc: 0.6453\n",
      "Epoch 2/100\n",
      "3/3 [==============================] - 0s 24ms/step - loss: 0.6803 - acc: 0.7386 - auc: 0.8780 - val_loss: 0.6797 - val_acc: 0.6591 - val_auc: 0.7147\n",
      "Epoch 3/100\n",
      "3/3 [==============================] - 0s 22ms/step - loss: 0.6581 - acc: 0.8409 - auc: 0.9646 - val_loss: 0.6615 - val_acc: 0.6818 - val_auc: 0.7389\n",
      "Epoch 4/100\n",
      "3/3 [==============================] - 0s 23ms/step - loss: 0.6062 - acc: 0.8864 - auc: 0.9837 - val_loss: 0.6222 - val_acc: 0.7273 - val_auc: 0.7789\n",
      "Epoch 5/100\n",
      "3/3 [==============================] - 0s 38ms/step - loss: 0.5026 - acc: 0.9318 - auc: 0.9922 - val_loss: 0.5506 - val_acc: 0.7955 - val_auc: 0.8347\n",
      "Epoch 6/100\n",
      "3/3 [==============================] - 0s 22ms/step - loss: 0.3435 - acc: 0.9545 - auc: 0.9840 - val_loss: 0.4734 - val_acc: 0.8182 - val_auc: 0.8779\n",
      "Epoch 7/100\n",
      "3/3 [==============================] - 0s 21ms/step - loss: 0.1658 - acc: 1.0000 - auc: 1.0000 - val_loss: 0.5037 - val_acc: 0.7727 - val_auc: 0.9000\n",
      "Epoch 8/100\n",
      "3/3 [==============================] - 0s 20ms/step - loss: 0.0493 - acc: 1.0000 - auc: 1.0000 - val_loss: 0.4115 - val_acc: 0.8636 - val_auc: 0.9126\n",
      "Epoch 9/100\n",
      "3/3 [==============================] - 0s 20ms/step - loss: 0.0115 - acc: 1.0000 - auc: 1.0000 - val_loss: 0.4825 - val_acc: 0.8864 - val_auc: 0.9105\n",
      "Epoch 10/100\n",
      "3/3 [==============================] - 0s 20ms/step - loss: 6.7737e-04 - acc: 1.0000 - auc: 1.0000 - val_loss: 0.8649 - val_acc: 0.8182 - val_auc: 0.9242\n",
      "Epoch 11/100\n",
      "3/3 [==============================] - 0s 20ms/step - loss: 1.4147e-04 - acc: 1.0000 - auc: 1.0000 - val_loss: 1.5140 - val_acc: 0.7500 - val_auc: 0.8632\n",
      "Epoch 12/100\n",
      "3/3 [==============================] - 0s 21ms/step - loss: 2.1805e-04 - acc: 1.0000 - auc: 1.0000 - val_loss: 2.1282 - val_acc: 0.7273 - val_auc: 0.8421\n",
      "Epoch 13/100\n",
      "3/3 [==============================] - 0s 20ms/step - loss: 1.5866e-04 - acc: 1.0000 - auc: 1.0000 - val_loss: 2.4215 - val_acc: 0.7273 - val_auc: 0.8421\n",
      "Epoch 14/100\n",
      "3/3 [==============================] - 0s 20ms/step - loss: 4.5189e-05 - acc: 1.0000 - auc: 1.0000 - val_loss: 2.5693 - val_acc: 0.7273 - val_auc: 0.8421\n",
      "Epoch 15/100\n",
      "3/3 [==============================] - 0s 20ms/step - loss: 1.3697e-05 - acc: 1.0000 - auc: 1.0000 - val_loss: 2.6557 - val_acc: 0.7500 - val_auc: 0.8158\n",
      "Epoch 16/100\n",
      "3/3 [==============================] - 0s 20ms/step - loss: 5.6114e-06 - acc: 1.0000 - auc: 1.0000 - val_loss: 2.7062 - val_acc: 0.7500 - val_auc: 0.8158\n",
      "Epoch 17/100\n",
      "3/3 [==============================] - 0s 22ms/step - loss: 2.6209e-06 - acc: 1.0000 - auc: 1.0000 - val_loss: 2.7365 - val_acc: 0.7500 - val_auc: 0.8158\n",
      "3/3 [==============================] - 0s 4ms/step - loss: 2.1996 - acc: 0.8182 - auc: 0.8664\n"
     ]
    },
    {
     "name": "stderr",
     "output_type": "stream",
     "text": [
      "WARNING:absl:`lr` is deprecated in Keras optimizer, please use `learning_rate` or use the legacy optimizer, e.g.,tf.keras.optimizers.legacy.Adam.\n"
     ]
    },
    {
     "name": "stdout",
     "output_type": "stream",
     "text": [
      "Epoch 1/100\n",
      "3/3 [==============================] - 3s 159ms/step - loss: 0.6888 - acc: 0.5114 - auc: 0.6282 - val_loss: 0.6984 - val_acc: 0.4318 - val_auc: 0.5400\n",
      "Epoch 2/100\n",
      "3/3 [==============================] - 0s 23ms/step - loss: 0.6643 - acc: 0.5568 - auc: 0.8721 - val_loss: 0.6956 - val_acc: 0.4545 - val_auc: 0.6042\n",
      "Epoch 3/100\n",
      "3/3 [==============================] - 0s 24ms/step - loss: 0.6161 - acc: 0.8182 - auc: 0.9375 - val_loss: 0.6806 - val_acc: 0.5455 - val_auc: 0.6737\n",
      "Epoch 4/100\n",
      "3/3 [==============================] - 0s 25ms/step - loss: 0.5373 - acc: 0.8864 - auc: 0.9602 - val_loss: 0.6754 - val_acc: 0.5227 - val_auc: 0.7368\n",
      "Epoch 5/100\n",
      "3/3 [==============================] - 0s 25ms/step - loss: 0.4181 - acc: 0.9545 - auc: 0.9770 - val_loss: 0.5749 - val_acc: 0.7045 - val_auc: 0.7916\n",
      "Epoch 6/100\n",
      "3/3 [==============================] - 0s 21ms/step - loss: 0.2822 - acc: 0.9432 - auc: 0.9897 - val_loss: 0.5452 - val_acc: 0.7045 - val_auc: 0.8316\n",
      "Epoch 7/100\n",
      "3/3 [==============================] - 0s 20ms/step - loss: 0.1346 - acc: 0.9659 - auc: 0.9979 - val_loss: 0.5041 - val_acc: 0.7273 - val_auc: 0.8916\n",
      "Epoch 8/100\n",
      "3/3 [==============================] - 0s 20ms/step - loss: 0.0445 - acc: 0.9886 - auc: 0.9995 - val_loss: 0.4028 - val_acc: 0.8636 - val_auc: 0.9232\n",
      "Epoch 9/100\n",
      "3/3 [==============================] - 0s 20ms/step - loss: 0.0122 - acc: 1.0000 - auc: 1.0000 - val_loss: 0.4131 - val_acc: 0.8636 - val_auc: 0.9421\n",
      "Epoch 10/100\n",
      "3/3 [==============================] - 0s 22ms/step - loss: 7.2803e-04 - acc: 1.0000 - auc: 1.0000 - val_loss: 0.6146 - val_acc: 0.8182 - val_auc: 0.9474\n",
      "Epoch 11/100\n",
      "3/3 [==============================] - 0s 21ms/step - loss: 3.6029e-04 - acc: 1.0000 - auc: 1.0000 - val_loss: 0.8969 - val_acc: 0.7955 - val_auc: 0.9579\n",
      "Epoch 12/100\n",
      "3/3 [==============================] - 0s 21ms/step - loss: 2.1228e-04 - acc: 1.0000 - auc: 1.0000 - val_loss: 1.0628 - val_acc: 0.7955 - val_auc: 0.9326\n",
      "Epoch 13/100\n",
      "3/3 [==============================] - 0s 20ms/step - loss: 6.2742e-05 - acc: 1.0000 - auc: 1.0000 - val_loss: 1.1601 - val_acc: 0.7955 - val_auc: 0.9400\n",
      "Epoch 14/100\n",
      "3/3 [==============================] - 0s 21ms/step - loss: 2.4741e-05 - acc: 1.0000 - auc: 1.0000 - val_loss: 1.2039 - val_acc: 0.7955 - val_auc: 0.9200\n",
      "Epoch 15/100\n",
      "3/3 [==============================] - 0s 26ms/step - loss: 1.2931e-05 - acc: 1.0000 - auc: 1.0000 - val_loss: 1.2121 - val_acc: 0.7955 - val_auc: 0.9200\n",
      "Epoch 16/100\n",
      "3/3 [==============================] - 0s 24ms/step - loss: 7.9000e-06 - acc: 1.0000 - auc: 1.0000 - val_loss: 1.2007 - val_acc: 0.8182 - val_auc: 0.9400\n",
      "Epoch 17/100\n",
      "3/3 [==============================] - 0s 22ms/step - loss: 4.3202e-06 - acc: 1.0000 - auc: 1.0000 - val_loss: 1.1849 - val_acc: 0.8182 - val_auc: 0.9400\n",
      "Epoch 18/100\n",
      "3/3 [==============================] - 0s 21ms/step - loss: 2.6026e-06 - acc: 1.0000 - auc: 1.0000 - val_loss: 1.1689 - val_acc: 0.8182 - val_auc: 0.9400\n",
      "Epoch 19/100\n",
      "3/3 [==============================] - 0s 20ms/step - loss: 1.7648e-06 - acc: 1.0000 - auc: 1.0000 - val_loss: 1.1544 - val_acc: 0.8409 - val_auc: 0.9400\n",
      "3/3 [==============================] - 0s 4ms/step - loss: 1.8521 - acc: 0.7879 - auc: 0.8186\n"
     ]
    },
    {
     "name": "stderr",
     "output_type": "stream",
     "text": [
      "WARNING:absl:`lr` is deprecated in Keras optimizer, please use `learning_rate` or use the legacy optimizer, e.g.,tf.keras.optimizers.legacy.Adam.\n"
     ]
    },
    {
     "name": "stdout",
     "output_type": "stream",
     "text": [
      "Epoch 1/100\n",
      "3/3 [==============================] - 2s 146ms/step - loss: 0.6896 - acc: 0.6250 - auc: 0.5500 - val_loss: 0.6945 - val_acc: 0.4318 - val_auc: 0.7263\n",
      "Epoch 2/100\n",
      "3/3 [==============================] - 0s 22ms/step - loss: 0.6643 - acc: 0.5682 - auc: 0.8043 - val_loss: 0.6926 - val_acc: 0.4545 - val_auc: 0.7526\n",
      "Epoch 3/100\n",
      "3/3 [==============================] - 0s 20ms/step - loss: 0.6116 - acc: 0.7386 - auc: 0.9367 - val_loss: 0.6795 - val_acc: 0.6136 - val_auc: 0.7621\n",
      "Epoch 4/100\n",
      "3/3 [==============================] - 0s 18ms/step - loss: 0.5263 - acc: 0.8182 - auc: 0.9628 - val_loss: 0.6876 - val_acc: 0.6136 - val_auc: 0.7916\n",
      "Epoch 5/100\n",
      "3/3 [==============================] - 0s 20ms/step - loss: 0.3964 - acc: 0.8977 - auc: 0.9846 - val_loss: 0.6751 - val_acc: 0.6818 - val_auc: 0.8305\n",
      "Epoch 6/100\n",
      "3/3 [==============================] - 0s 20ms/step - loss: 0.2392 - acc: 0.9659 - auc: 0.9948 - val_loss: 0.6501 - val_acc: 0.7955 - val_auc: 0.8579\n",
      "Epoch 7/100\n",
      "3/3 [==============================] - 0s 21ms/step - loss: 0.0976 - acc: 1.0000 - auc: 1.0000 - val_loss: 0.8232 - val_acc: 0.8409 - val_auc: 0.8884\n",
      "Epoch 8/100\n",
      "3/3 [==============================] - 0s 19ms/step - loss: 0.0296 - acc: 1.0000 - auc: 1.0000 - val_loss: 1.3077 - val_acc: 0.7955 - val_auc: 0.8684\n",
      "Epoch 9/100\n",
      "3/3 [==============================] - 0s 20ms/step - loss: 0.0027 - acc: 1.0000 - auc: 1.0000 - val_loss: 1.1493 - val_acc: 0.8409 - val_auc: 0.8979\n",
      "Epoch 10/100\n",
      "3/3 [==============================] - 0s 19ms/step - loss: 4.7060e-04 - acc: 1.0000 - auc: 1.0000 - val_loss: 1.2560 - val_acc: 0.7955 - val_auc: 0.8811\n",
      "Epoch 11/100\n",
      "3/3 [==============================] - 0s 22ms/step - loss: 0.0013 - acc: 1.0000 - auc: 1.0000 - val_loss: 1.4766 - val_acc: 0.7955 - val_auc: 0.8463\n",
      "Epoch 12/100\n",
      "3/3 [==============================] - 0s 20ms/step - loss: 3.4274e-05 - acc: 1.0000 - auc: 1.0000 - val_loss: 1.7281 - val_acc: 0.8409 - val_auc: 0.8895\n",
      "Epoch 13/100\n",
      "3/3 [==============================] - 0s 19ms/step - loss: 2.3371e-06 - acc: 1.0000 - auc: 1.0000 - val_loss: 2.0017 - val_acc: 0.8409 - val_auc: 0.8926\n",
      "Epoch 14/100\n",
      "3/3 [==============================] - 0s 33ms/step - loss: 2.6059e-07 - acc: 1.0000 - auc: 1.0000 - val_loss: 2.2607 - val_acc: 0.8409 - val_auc: 0.8989\n",
      "Epoch 15/100\n",
      "3/3 [==============================] - 0s 20ms/step - loss: 6.3370e-08 - acc: 1.0000 - auc: 1.0000 - val_loss: 2.5063 - val_acc: 0.8864 - val_auc: 0.9032\n",
      "Epoch 16/100\n",
      "3/3 [==============================] - 0s 20ms/step - loss: 2.6220e-08 - acc: 1.0000 - auc: 1.0000 - val_loss: 2.7286 - val_acc: 0.8409 - val_auc: 0.9095\n",
      "Epoch 17/100\n",
      "3/3 [==============================] - 0s 19ms/step - loss: 1.6024e-08 - acc: 1.0000 - auc: 1.0000 - val_loss: 2.9166 - val_acc: 0.8409 - val_auc: 0.9095\n",
      "3/3 [==============================] - 0s 4ms/step - loss: 0.9240 - acc: 0.9091 - auc: 0.9581\n"
     ]
    },
    {
     "name": "stderr",
     "output_type": "stream",
     "text": [
      "WARNING:absl:`lr` is deprecated in Keras optimizer, please use `learning_rate` or use the legacy optimizer, e.g.,tf.keras.optimizers.legacy.Adam.\n"
     ]
    },
    {
     "name": "stdout",
     "output_type": "stream",
     "text": [
      "Epoch 1/100\n",
      "3/3 [==============================] - 2s 141ms/step - loss: 0.6988 - acc: 0.4773 - auc: 0.4592 - val_loss: 0.6793 - val_acc: 0.7500 - val_auc: 0.8021\n",
      "Epoch 2/100\n",
      "3/3 [==============================] - 0s 22ms/step - loss: 0.6517 - acc: 0.8750 - auc: 0.9548 - val_loss: 0.6293 - val_acc: 0.8409 - val_auc: 0.9084\n",
      "Epoch 3/100\n",
      "3/3 [==============================] - 0s 22ms/step - loss: 0.5191 - acc: 0.9773 - auc: 1.0000 - val_loss: 0.4818 - val_acc: 0.8636 - val_auc: 0.9242\n",
      "Epoch 4/100\n",
      "3/3 [==============================] - 0s 23ms/step - loss: 0.2394 - acc: 0.9886 - auc: 1.0000 - val_loss: 0.2965 - val_acc: 0.8864 - val_auc: 0.9389\n",
      "Epoch 5/100\n",
      "3/3 [==============================] - 0s 22ms/step - loss: 0.0480 - acc: 0.9886 - auc: 1.0000 - val_loss: 0.3365 - val_acc: 0.8409 - val_auc: 0.9684\n",
      "Epoch 6/100\n",
      "3/3 [==============================] - 0s 22ms/step - loss: 0.0859 - acc: 0.9886 - auc: 0.9889 - val_loss: 1.2732 - val_acc: 0.7500 - val_auc: 0.8947\n",
      "Epoch 7/100\n",
      "3/3 [==============================] - 0s 22ms/step - loss: 0.0879 - acc: 0.9659 - auc: 1.0000 - val_loss: 0.2814 - val_acc: 0.9091 - val_auc: 0.9642\n",
      "Epoch 8/100\n",
      "3/3 [==============================] - 0s 23ms/step - loss: 0.2292 - acc: 0.9318 - auc: 0.9889 - val_loss: 1.3829 - val_acc: 0.7727 - val_auc: 0.9000\n",
      "Epoch 9/100\n",
      "3/3 [==============================] - 0s 41ms/step - loss: 0.0490 - acc: 0.9886 - auc: 1.0000 - val_loss: 0.4543 - val_acc: 0.9318 - val_auc: 0.9632\n",
      "Epoch 10/100\n",
      "3/3 [==============================] - 0s 22ms/step - loss: 4.5420e-05 - acc: 1.0000 - auc: 1.0000 - val_loss: 1.0525 - val_acc: 0.8409 - val_auc: 0.8905\n",
      "Epoch 11/100\n",
      "3/3 [==============================] - 0s 21ms/step - loss: 0.0723 - acc: 0.9886 - auc: 0.9884 - val_loss: 1.6415 - val_acc: 0.7727 - val_auc: 0.8421\n",
      "Epoch 12/100\n",
      "3/3 [==============================] - 0s 21ms/step - loss: 0.0315 - acc: 0.9773 - auc: 1.0000 - val_loss: 1.0710 - val_acc: 0.8409 - val_auc: 0.8905\n",
      "Epoch 13/100\n",
      "3/3 [==============================] - 0s 21ms/step - loss: 6.4897e-04 - acc: 1.0000 - auc: 1.0000 - val_loss: 0.7985 - val_acc: 0.8636 - val_auc: 0.9389\n",
      "Epoch 14/100\n",
      "3/3 [==============================] - 0s 21ms/step - loss: 3.7932e-04 - acc: 1.0000 - auc: 1.0000 - val_loss: 0.6192 - val_acc: 0.8864 - val_auc: 0.9389\n",
      "Epoch 15/100\n",
      "3/3 [==============================] - 0s 22ms/step - loss: 2.9752e-04 - acc: 1.0000 - auc: 1.0000 - val_loss: 0.5205 - val_acc: 0.8636 - val_auc: 0.9389\n",
      "Epoch 16/100\n",
      "3/3 [==============================] - 0s 22ms/step - loss: 2.4669e-04 - acc: 1.0000 - auc: 1.0000 - val_loss: 0.4680 - val_acc: 0.9318 - val_auc: 0.9642\n",
      "Epoch 17/100\n",
      "3/3 [==============================] - 0s 23ms/step - loss: 1.9961e-04 - acc: 1.0000 - auc: 1.0000 - val_loss: 0.4323 - val_acc: 0.9318 - val_auc: 0.9621\n",
      "Epoch 18/100\n",
      "3/3 [==============================] - 0s 22ms/step - loss: 1.6136e-04 - acc: 1.0000 - auc: 1.0000 - val_loss: 0.4067 - val_acc: 0.9318 - val_auc: 0.9621\n",
      "Epoch 19/100\n",
      "3/3 [==============================] - 0s 22ms/step - loss: 1.2891e-04 - acc: 1.0000 - auc: 1.0000 - val_loss: 0.3900 - val_acc: 0.9318 - val_auc: 0.9611\n",
      "Epoch 20/100\n",
      "3/3 [==============================] - 0s 22ms/step - loss: 1.0913e-04 - acc: 1.0000 - auc: 1.0000 - val_loss: 0.3799 - val_acc: 0.9318 - val_auc: 0.9621\n",
      "3/3 [==============================] - 0s 4ms/step - loss: 0.3500 - acc: 0.9394 - auc: 0.9558\n"
     ]
    },
    {
     "name": "stderr",
     "output_type": "stream",
     "text": [
      "WARNING:absl:`lr` is deprecated in Keras optimizer, please use `learning_rate` or use the legacy optimizer, e.g.,tf.keras.optimizers.legacy.Adam.\n"
     ]
    },
    {
     "name": "stdout",
     "output_type": "stream",
     "text": [
      "Epoch 1/100\n",
      "3/3 [==============================] - 2s 153ms/step - loss: 0.6938 - acc: 0.5114 - auc: 0.4889 - val_loss: 0.6886 - val_acc: 0.4318 - val_auc: 0.7842\n",
      "Epoch 2/100\n",
      "3/3 [==============================] - 0s 23ms/step - loss: 0.6351 - acc: 0.5682 - auc: 0.9636 - val_loss: 0.6481 - val_acc: 0.5909 - val_auc: 0.8789\n",
      "Epoch 3/100\n",
      "3/3 [==============================] - 0s 22ms/step - loss: 0.4922 - acc: 0.8750 - auc: 0.9987 - val_loss: 0.5371 - val_acc: 0.7045 - val_auc: 0.9463\n",
      "Epoch 4/100\n",
      "3/3 [==============================] - 0s 22ms/step - loss: 0.2520 - acc: 0.9773 - auc: 1.0000 - val_loss: 0.2726 - val_acc: 0.8864 - val_auc: 0.9937\n",
      "Epoch 5/100\n",
      "3/3 [==============================] - 0s 21ms/step - loss: 0.0594 - acc: 1.0000 - auc: 1.0000 - val_loss: 0.1152 - val_acc: 0.9318 - val_auc: 1.0000\n",
      "Epoch 6/100\n",
      "3/3 [==============================] - 0s 22ms/step - loss: 0.0032 - acc: 1.0000 - auc: 1.0000 - val_loss: 1.7063 - val_acc: 0.7727 - val_auc: 0.8800\n",
      "Epoch 7/100\n",
      "3/3 [==============================] - 0s 24ms/step - loss: 0.0275 - acc: 0.9886 - auc: 1.0000 - val_loss: 1.9438e-04 - val_acc: 1.0000 - val_auc: 1.0000\n",
      "Epoch 8/100\n",
      "3/3 [==============================] - 0s 24ms/step - loss: 0.0792 - acc: 0.9773 - auc: 1.0000 - val_loss: 0.0113 - val_acc: 1.0000 - val_auc: 1.0000\n",
      "Epoch 9/100\n",
      "3/3 [==============================] - 0s 28ms/step - loss: 8.7268e-06 - acc: 1.0000 - auc: 1.0000 - val_loss: 1.2023 - val_acc: 0.8409 - val_auc: 0.9200\n",
      "Epoch 10/100\n",
      "3/3 [==============================] - 0s 25ms/step - loss: 0.0542 - acc: 0.9773 - auc: 1.0000 - val_loss: 3.3416 - val_acc: 0.6818 - val_auc: 0.8200\n",
      "Epoch 11/100\n",
      "3/3 [==============================] - 0s 21ms/step - loss: 0.0070 - acc: 1.0000 - auc: 1.0000 - val_loss: 0.3271 - val_acc: 0.9545 - val_auc: 0.9600\n",
      "Epoch 12/100\n",
      "3/3 [==============================] - 0s 21ms/step - loss: 9.0687e-06 - acc: 1.0000 - auc: 1.0000 - val_loss: 1.8617e-05 - val_acc: 1.0000 - val_auc: 1.0000\n",
      "Epoch 13/100\n",
      "3/3 [==============================] - 0s 22ms/step - loss: 4.6854e-06 - acc: 1.0000 - auc: 1.0000 - val_loss: 3.7095e-05 - val_acc: 1.0000 - val_auc: 1.0000\n",
      "Epoch 14/100\n",
      "3/3 [==============================] - 0s 21ms/step - loss: 3.7105e-06 - acc: 1.0000 - auc: 1.0000 - val_loss: 0.0209 - val_acc: 0.9773 - val_auc: 1.0000\n",
      "Epoch 15/100\n",
      "3/3 [==============================] - 0s 22ms/step - loss: 3.7340e-05 - acc: 1.0000 - auc: 1.0000 - val_loss: 0.2228 - val_acc: 0.9545 - val_auc: 1.0000\n",
      "3/3 [==============================] - 0s 4ms/step - loss: 1.0053 - acc: 0.8939 - auc: 0.9091\n"
     ]
    },
    {
     "name": "stderr",
     "output_type": "stream",
     "text": [
      "WARNING:absl:`lr` is deprecated in Keras optimizer, please use `learning_rate` or use the legacy optimizer, e.g.,tf.keras.optimizers.legacy.Adam.\n"
     ]
    },
    {
     "name": "stdout",
     "output_type": "stream",
     "text": [
      "Epoch 1/100\n",
      "3/3 [==============================] - 2s 137ms/step - loss: 0.6830 - acc: 0.5682 - auc: 0.5691 - val_loss: 0.6906 - val_acc: 0.4318 - val_auc: 0.8179\n",
      "Epoch 2/100\n",
      "3/3 [==============================] - 0s 21ms/step - loss: 0.6009 - acc: 0.7500 - auc: 0.9464 - val_loss: 0.6159 - val_acc: 0.7500 - val_auc: 0.8495\n",
      "Epoch 3/100\n",
      "3/3 [==============================] - 0s 22ms/step - loss: 0.4235 - acc: 0.9091 - auc: 0.9770 - val_loss: 0.4882 - val_acc: 0.7955 - val_auc: 0.8737\n",
      "Epoch 4/100\n",
      "3/3 [==============================] - 0s 22ms/step - loss: 0.2279 - acc: 0.9545 - auc: 0.9950 - val_loss: 0.4751 - val_acc: 0.8636 - val_auc: 0.9200\n",
      "Epoch 5/100\n",
      "3/3 [==============================] - 0s 22ms/step - loss: 0.1022 - acc: 0.9545 - auc: 1.0000 - val_loss: 0.8961 - val_acc: 0.7727 - val_auc: 0.9600\n",
      "Epoch 6/100\n",
      "3/3 [==============================] - 0s 21ms/step - loss: 0.0103 - acc: 1.0000 - auc: 1.0000 - val_loss: 0.3822 - val_acc: 0.9091 - val_auc: 0.9589\n",
      "Epoch 7/100\n",
      "3/3 [==============================] - 0s 22ms/step - loss: 0.0053 - acc: 1.0000 - auc: 1.0000 - val_loss: 0.5267 - val_acc: 0.8409 - val_auc: 0.9263\n",
      "Epoch 8/100\n",
      "3/3 [==============================] - 0s 21ms/step - loss: 0.0118 - acc: 1.0000 - auc: 1.0000 - val_loss: 0.4816 - val_acc: 0.9318 - val_auc: 0.9632\n",
      "Epoch 9/100\n",
      "3/3 [==============================] - 0s 21ms/step - loss: 2.6010e-04 - acc: 1.0000 - auc: 1.0000 - val_loss: 0.6053 - val_acc: 0.9318 - val_auc: 0.9737\n",
      "Epoch 10/100\n",
      "3/3 [==============================] - 0s 20ms/step - loss: 3.4568e-05 - acc: 1.0000 - auc: 1.0000 - val_loss: 0.9424 - val_acc: 0.9091 - val_auc: 0.9600\n",
      "Epoch 11/100\n",
      "3/3 [==============================] - 0s 20ms/step - loss: 2.2046e-05 - acc: 1.0000 - auc: 1.0000 - val_loss: 1.2420 - val_acc: 0.9091 - val_auc: 0.9400\n",
      "Epoch 12/100\n",
      "3/3 [==============================] - 0s 21ms/step - loss: 2.0879e-05 - acc: 1.0000 - auc: 1.0000 - val_loss: 1.5660 - val_acc: 0.8409 - val_auc: 0.9200\n",
      "Epoch 13/100\n",
      "3/3 [==============================] - 0s 21ms/step - loss: 2.4668e-05 - acc: 1.0000 - auc: 1.0000 - val_loss: 1.9076 - val_acc: 0.8182 - val_auc: 0.9000\n",
      "Epoch 14/100\n",
      "3/3 [==============================] - 0s 21ms/step - loss: 4.9246e-05 - acc: 1.0000 - auc: 1.0000 - val_loss: 2.1791 - val_acc: 0.7955 - val_auc: 0.8800\n",
      "Epoch 15/100\n",
      "3/3 [==============================] - 0s 21ms/step - loss: 1.6908e-04 - acc: 1.0000 - auc: 1.0000 - val_loss: 2.3399 - val_acc: 0.7955 - val_auc: 0.8600\n",
      "Epoch 16/100\n",
      "3/3 [==============================] - 0s 21ms/step - loss: 4.2607e-05 - acc: 1.0000 - auc: 1.0000 - val_loss: 2.3757 - val_acc: 0.7955 - val_auc: 0.8600\n",
      "3/3 [==============================] - 0s 4ms/step - loss: 1.6539 - acc: 0.7879 - auc: 0.8514\n"
     ]
    },
    {
     "name": "stderr",
     "output_type": "stream",
     "text": [
      "WARNING:absl:`lr` is deprecated in Keras optimizer, please use `learning_rate` or use the legacy optimizer, e.g.,tf.keras.optimizers.legacy.Adam.\n"
     ]
    },
    {
     "name": "stdout",
     "output_type": "stream",
     "text": [
      "Epoch 1/100\n",
      "3/3 [==============================] - 1s 119ms/step - loss: 0.6731 - acc: 0.5568 - auc: 0.6093 - val_loss: 0.6752 - val_acc: 0.5455 - val_auc: 0.6126\n",
      "Epoch 2/100\n",
      "3/3 [==============================] - 0s 19ms/step - loss: 0.6220 - acc: 0.5909 - auc: 0.7178 - val_loss: 0.6577 - val_acc: 0.5682 - val_auc: 0.6421\n",
      "Epoch 3/100\n",
      "3/3 [==============================] - 0s 19ms/step - loss: 0.5804 - acc: 0.7159 - auc: 0.8065 - val_loss: 0.6422 - val_acc: 0.5909 - val_auc: 0.6737\n",
      "Epoch 4/100\n",
      "3/3 [==============================] - 0s 20ms/step - loss: 0.5438 - acc: 0.7841 - auc: 0.8682 - val_loss: 0.6277 - val_acc: 0.6136 - val_auc: 0.6937\n",
      "Epoch 5/100\n",
      "3/3 [==============================] - 0s 42ms/step - loss: 0.5092 - acc: 0.8636 - auc: 0.9207 - val_loss: 0.6163 - val_acc: 0.5909 - val_auc: 0.7032\n",
      "Epoch 6/100\n",
      "3/3 [==============================] - 0s 26ms/step - loss: 0.4783 - acc: 0.8977 - auc: 0.9478 - val_loss: 0.6063 - val_acc: 0.5909 - val_auc: 0.7200\n",
      "Epoch 7/100\n",
      "3/3 [==============================] - 0s 24ms/step - loss: 0.4503 - acc: 0.9318 - auc: 0.9612 - val_loss: 0.5973 - val_acc: 0.6364 - val_auc: 0.7284\n",
      "Epoch 8/100\n",
      "3/3 [==============================] - 0s 24ms/step - loss: 0.4236 - acc: 0.9545 - auc: 0.9677 - val_loss: 0.5897 - val_acc: 0.6364 - val_auc: 0.7379\n",
      "Epoch 9/100\n",
      "3/3 [==============================] - 0s 20ms/step - loss: 0.3993 - acc: 0.9545 - auc: 0.9734 - val_loss: 0.5815 - val_acc: 0.6364 - val_auc: 0.7442\n",
      "Epoch 10/100\n",
      "3/3 [==============================] - 0s 22ms/step - loss: 0.3756 - acc: 0.9545 - auc: 0.9762 - val_loss: 0.5743 - val_acc: 0.6591 - val_auc: 0.7526\n",
      "Epoch 11/100\n",
      "3/3 [==============================] - 0s 22ms/step - loss: 0.3545 - acc: 0.9659 - auc: 0.9804 - val_loss: 0.5661 - val_acc: 0.6591 - val_auc: 0.7695\n",
      "Epoch 12/100\n",
      "3/3 [==============================] - 0s 20ms/step - loss: 0.3347 - acc: 0.9659 - auc: 0.9842 - val_loss: 0.5594 - val_acc: 0.6591 - val_auc: 0.7768\n",
      "Epoch 13/100\n",
      "3/3 [==============================] - 0s 21ms/step - loss: 0.3157 - acc: 0.9659 - auc: 0.9873 - val_loss: 0.5518 - val_acc: 0.6591 - val_auc: 0.7768\n",
      "Epoch 14/100\n",
      "3/3 [==============================] - 0s 20ms/step - loss: 0.2982 - acc: 0.9659 - auc: 0.9904 - val_loss: 0.5452 - val_acc: 0.6591 - val_auc: 0.7789\n",
      "Epoch 15/100\n",
      "3/3 [==============================] - 0s 19ms/step - loss: 0.2814 - acc: 0.9659 - auc: 0.9930 - val_loss: 0.5390 - val_acc: 0.6818 - val_auc: 0.7926\n",
      "Epoch 16/100\n",
      "3/3 [==============================] - 0s 20ms/step - loss: 0.2654 - acc: 0.9659 - auc: 0.9948 - val_loss: 0.5336 - val_acc: 0.6818 - val_auc: 0.8000\n",
      "Epoch 17/100\n",
      "3/3 [==============================] - 0s 19ms/step - loss: 0.2509 - acc: 0.9659 - auc: 0.9959 - val_loss: 0.5271 - val_acc: 0.7273 - val_auc: 0.8095\n",
      "Epoch 18/100\n",
      "3/3 [==============================] - 0s 21ms/step - loss: 0.2371 - acc: 0.9659 - auc: 0.9972 - val_loss: 0.5201 - val_acc: 0.7500 - val_auc: 0.8200\n",
      "Epoch 19/100\n",
      "3/3 [==============================] - 0s 19ms/step - loss: 0.2237 - acc: 0.9773 - auc: 0.9990 - val_loss: 0.5138 - val_acc: 0.7500 - val_auc: 0.8253\n",
      "Epoch 20/100\n",
      "3/3 [==============================] - 0s 19ms/step - loss: 0.2119 - acc: 0.9773 - auc: 0.9992 - val_loss: 0.5070 - val_acc: 0.7727 - val_auc: 0.8305\n",
      "Epoch 21/100\n",
      "3/3 [==============================] - 0s 19ms/step - loss: 0.1998 - acc: 0.9773 - auc: 0.9995 - val_loss: 0.5006 - val_acc: 0.7727 - val_auc: 0.8379\n",
      "Epoch 22/100\n",
      "3/3 [==============================] - 0s 19ms/step - loss: 0.1894 - acc: 0.9886 - auc: 0.9995 - val_loss: 0.4940 - val_acc: 0.7727 - val_auc: 0.8442\n",
      "Epoch 23/100\n",
      "3/3 [==============================] - 0s 19ms/step - loss: 0.1789 - acc: 0.9886 - auc: 0.9997 - val_loss: 0.4883 - val_acc: 0.7727 - val_auc: 0.8484\n",
      "Epoch 24/100\n",
      "3/3 [==============================] - 0s 19ms/step - loss: 0.1689 - acc: 0.9886 - auc: 1.0000 - val_loss: 0.4824 - val_acc: 0.7955 - val_auc: 0.8516\n",
      "Epoch 25/100\n",
      "3/3 [==============================] - 0s 19ms/step - loss: 0.1599 - acc: 0.9886 - auc: 1.0000 - val_loss: 0.4764 - val_acc: 0.8182 - val_auc: 0.8568\n",
      "Epoch 26/100\n",
      "3/3 [==============================] - 0s 20ms/step - loss: 0.1514 - acc: 0.9886 - auc: 1.0000 - val_loss: 0.4718 - val_acc: 0.8182 - val_auc: 0.8600\n",
      "Epoch 27/100\n",
      "3/3 [==============================] - 0s 19ms/step - loss: 0.1434 - acc: 1.0000 - auc: 1.0000 - val_loss: 0.4671 - val_acc: 0.8182 - val_auc: 0.8611\n",
      "Epoch 28/100\n",
      "3/3 [==============================] - 0s 19ms/step - loss: 0.1357 - acc: 1.0000 - auc: 1.0000 - val_loss: 0.4630 - val_acc: 0.8182 - val_auc: 0.8642\n",
      "Epoch 29/100\n",
      "3/3 [==============================] - 0s 20ms/step - loss: 0.1283 - acc: 1.0000 - auc: 1.0000 - val_loss: 0.4581 - val_acc: 0.8182 - val_auc: 0.8642\n",
      "Epoch 30/100\n",
      "3/3 [==============================] - 0s 19ms/step - loss: 0.1216 - acc: 1.0000 - auc: 1.0000 - val_loss: 0.4532 - val_acc: 0.8182 - val_auc: 0.8695\n",
      "Epoch 31/100\n",
      "3/3 [==============================] - 0s 21ms/step - loss: 0.1153 - acc: 1.0000 - auc: 1.0000 - val_loss: 0.4482 - val_acc: 0.8182 - val_auc: 0.8705\n",
      "Epoch 32/100\n",
      "3/3 [==============================] - 0s 19ms/step - loss: 0.1096 - acc: 1.0000 - auc: 1.0000 - val_loss: 0.4427 - val_acc: 0.8409 - val_auc: 0.8747\n",
      "Epoch 33/100\n",
      "3/3 [==============================] - 0s 19ms/step - loss: 0.1038 - acc: 1.0000 - auc: 1.0000 - val_loss: 0.4380 - val_acc: 0.8409 - val_auc: 0.8758\n",
      "Epoch 34/100\n",
      "3/3 [==============================] - 0s 20ms/step - loss: 0.0985 - acc: 1.0000 - auc: 1.0000 - val_loss: 0.4336 - val_acc: 0.8409 - val_auc: 0.8779\n",
      "Epoch 35/100\n",
      "3/3 [==============================] - 0s 35ms/step - loss: 0.0934 - acc: 1.0000 - auc: 1.0000 - val_loss: 0.4297 - val_acc: 0.8409 - val_auc: 0.8789\n",
      "Epoch 36/100\n",
      "3/3 [==============================] - 0s 19ms/step - loss: 0.0891 - acc: 1.0000 - auc: 1.0000 - val_loss: 0.4252 - val_acc: 0.8409 - val_auc: 0.8832\n",
      "Epoch 37/100\n",
      "3/3 [==============================] - 0s 18ms/step - loss: 0.0846 - acc: 1.0000 - auc: 1.0000 - val_loss: 0.4218 - val_acc: 0.8409 - val_auc: 0.8863\n",
      "3/3 [==============================] - 0s 3ms/step - loss: 0.3710 - acc: 0.9091 - auc: 0.9415\n"
     ]
    },
    {
     "name": "stderr",
     "output_type": "stream",
     "text": [
      "WARNING:absl:`lr` is deprecated in Keras optimizer, please use `learning_rate` or use the legacy optimizer, e.g.,tf.keras.optimizers.legacy.Adam.\n"
     ]
    },
    {
     "name": "stdout",
     "output_type": "stream",
     "text": [
      "Epoch 1/100\n",
      "3/3 [==============================] - 1s 107ms/step - loss: 0.7103 - acc: 0.5682 - auc: 0.5473 - val_loss: 0.7249 - val_acc: 0.4545 - val_auc: 0.4516\n",
      "Epoch 2/100\n",
      "3/3 [==============================] - 0s 18ms/step - loss: 0.6477 - acc: 0.6705 - auc: 0.7158 - val_loss: 0.6964 - val_acc: 0.5455 - val_auc: 0.5368\n",
      "Epoch 3/100\n",
      "3/3 [==============================] - 0s 19ms/step - loss: 0.5984 - acc: 0.7500 - auc: 0.8158 - val_loss: 0.6717 - val_acc: 0.5682 - val_auc: 0.6326\n",
      "Epoch 4/100\n",
      "3/3 [==============================] - 0s 19ms/step - loss: 0.5561 - acc: 0.8068 - auc: 0.8786 - val_loss: 0.6483 - val_acc: 0.6136 - val_auc: 0.6989\n",
      "Epoch 5/100\n",
      "3/3 [==============================] - 0s 19ms/step - loss: 0.5164 - acc: 0.8409 - auc: 0.9212 - val_loss: 0.6268 - val_acc: 0.6591 - val_auc: 0.7474\n",
      "Epoch 6/100\n",
      "3/3 [==============================] - 0s 19ms/step - loss: 0.4820 - acc: 0.8864 - auc: 0.9447 - val_loss: 0.6075 - val_acc: 0.6591 - val_auc: 0.7779\n",
      "Epoch 7/100\n",
      "3/3 [==============================] - 0s 19ms/step - loss: 0.4518 - acc: 0.9091 - auc: 0.9563 - val_loss: 0.5888 - val_acc: 0.6591 - val_auc: 0.8095\n",
      "Epoch 8/100\n",
      "3/3 [==============================] - 0s 18ms/step - loss: 0.4241 - acc: 0.9091 - auc: 0.9705 - val_loss: 0.5712 - val_acc: 0.6818 - val_auc: 0.8432\n",
      "Epoch 9/100\n",
      "3/3 [==============================] - 0s 20ms/step - loss: 0.4002 - acc: 0.9091 - auc: 0.9786 - val_loss: 0.5550 - val_acc: 0.7045 - val_auc: 0.8611\n",
      "Epoch 10/100\n",
      "3/3 [==============================] - 0s 19ms/step - loss: 0.3771 - acc: 0.9205 - auc: 0.9853 - val_loss: 0.5412 - val_acc: 0.7727 - val_auc: 0.8800\n",
      "Epoch 11/100\n",
      "3/3 [==============================] - 0s 18ms/step - loss: 0.3561 - acc: 0.9432 - auc: 0.9886 - val_loss: 0.5283 - val_acc: 0.7727 - val_auc: 0.8926\n",
      "Epoch 12/100\n",
      "3/3 [==============================] - 0s 19ms/step - loss: 0.3365 - acc: 0.9545 - auc: 0.9935 - val_loss: 0.5161 - val_acc: 0.7727 - val_auc: 0.9053\n",
      "Epoch 13/100\n",
      "3/3 [==============================] - 0s 18ms/step - loss: 0.3185 - acc: 0.9659 - auc: 0.9956 - val_loss: 0.5047 - val_acc: 0.7727 - val_auc: 0.9116\n",
      "Epoch 14/100\n",
      "3/3 [==============================] - 0s 19ms/step - loss: 0.3018 - acc: 0.9659 - auc: 0.9972 - val_loss: 0.4938 - val_acc: 0.8182 - val_auc: 0.9168\n",
      "Epoch 15/100\n",
      "3/3 [==============================] - 0s 19ms/step - loss: 0.2857 - acc: 0.9773 - auc: 0.9984 - val_loss: 0.4833 - val_acc: 0.8182 - val_auc: 0.9253\n",
      "Epoch 16/100\n",
      "3/3 [==============================] - 0s 18ms/step - loss: 0.2711 - acc: 0.9773 - auc: 0.9995 - val_loss: 0.4727 - val_acc: 0.8409 - val_auc: 0.9305\n",
      "Epoch 17/100\n",
      "3/3 [==============================] - 0s 18ms/step - loss: 0.2567 - acc: 0.9886 - auc: 0.9995 - val_loss: 0.4620 - val_acc: 0.8409 - val_auc: 0.9337\n",
      "Epoch 18/100\n",
      "3/3 [==============================] - 0s 18ms/step - loss: 0.2434 - acc: 1.0000 - auc: 1.0000 - val_loss: 0.4518 - val_acc: 0.8409 - val_auc: 0.9368\n",
      "Epoch 19/100\n",
      "3/3 [==============================] - 0s 19ms/step - loss: 0.2307 - acc: 1.0000 - auc: 1.0000 - val_loss: 0.4427 - val_acc: 0.8636 - val_auc: 0.9379\n",
      "Epoch 20/100\n",
      "3/3 [==============================] - 0s 20ms/step - loss: 0.2195 - acc: 1.0000 - auc: 1.0000 - val_loss: 0.4340 - val_acc: 0.8636 - val_auc: 0.9432\n",
      "Epoch 21/100\n",
      "3/3 [==============================] - 0s 18ms/step - loss: 0.2076 - acc: 1.0000 - auc: 1.0000 - val_loss: 0.4248 - val_acc: 0.8636 - val_auc: 0.9453\n",
      "Epoch 22/100\n",
      "3/3 [==============================] - 0s 18ms/step - loss: 0.1969 - acc: 1.0000 - auc: 1.0000 - val_loss: 0.4158 - val_acc: 0.8636 - val_auc: 0.9495\n",
      "Epoch 23/100\n",
      "3/3 [==============================] - 0s 18ms/step - loss: 0.1870 - acc: 1.0000 - auc: 1.0000 - val_loss: 0.4077 - val_acc: 0.8636 - val_auc: 0.9495\n",
      "Epoch 24/100\n",
      "3/3 [==============================] - 0s 35ms/step - loss: 0.1774 - acc: 1.0000 - auc: 1.0000 - val_loss: 0.4005 - val_acc: 0.8636 - val_auc: 0.9579\n",
      "Epoch 25/100\n",
      "3/3 [==============================] - 0s 25ms/step - loss: 0.1682 - acc: 1.0000 - auc: 1.0000 - val_loss: 0.3930 - val_acc: 0.8864 - val_auc: 0.9600\n",
      "Epoch 26/100\n",
      "3/3 [==============================] - 0s 24ms/step - loss: 0.1600 - acc: 1.0000 - auc: 1.0000 - val_loss: 0.3858 - val_acc: 0.8864 - val_auc: 0.9621\n",
      "Epoch 27/100\n",
      "3/3 [==============================] - 0s 26ms/step - loss: 0.1513 - acc: 1.0000 - auc: 1.0000 - val_loss: 0.3792 - val_acc: 0.8864 - val_auc: 0.9642\n",
      "Epoch 28/100\n",
      "3/3 [==============================] - 0s 21ms/step - loss: 0.1441 - acc: 1.0000 - auc: 1.0000 - val_loss: 0.3725 - val_acc: 0.9091 - val_auc: 0.9684\n",
      "3/3 [==============================] - 0s 4ms/step - loss: 0.4155 - acc: 0.7727 - auc: 0.9022\n"
     ]
    },
    {
     "name": "stderr",
     "output_type": "stream",
     "text": [
      "WARNING:absl:`lr` is deprecated in Keras optimizer, please use `learning_rate` or use the legacy optimizer, e.g.,tf.keras.optimizers.legacy.Adam.\n"
     ]
    },
    {
     "name": "stdout",
     "output_type": "stream",
     "text": [
      "Epoch 1/100\n",
      "3/3 [==============================] - 1s 113ms/step - loss: 0.6613 - acc: 0.5909 - auc: 0.6562 - val_loss: 0.6337 - val_acc: 0.7045 - val_auc: 0.7589\n",
      "Epoch 2/100\n",
      "3/3 [==============================] - 0s 19ms/step - loss: 0.5990 - acc: 0.6932 - auc: 0.8129 - val_loss: 0.6277 - val_acc: 0.7273 - val_auc: 0.7726\n",
      "Epoch 3/100\n",
      "3/3 [==============================] - 0s 19ms/step - loss: 0.5497 - acc: 0.7841 - auc: 0.9137 - val_loss: 0.6243 - val_acc: 0.7273 - val_auc: 0.7663\n",
      "Epoch 4/100\n",
      "3/3 [==============================] - 0s 20ms/step - loss: 0.5060 - acc: 0.8977 - auc: 0.9597 - val_loss: 0.6220 - val_acc: 0.7045 - val_auc: 0.7558\n",
      "Epoch 5/100\n",
      "3/3 [==============================] - 0s 24ms/step - loss: 0.4701 - acc: 0.9205 - auc: 0.9720 - val_loss: 0.6226 - val_acc: 0.6818 - val_auc: 0.7389\n",
      "Epoch 6/100\n",
      "3/3 [==============================] - 0s 24ms/step - loss: 0.4354 - acc: 0.9318 - auc: 0.9780 - val_loss: 0.6211 - val_acc: 0.6818 - val_auc: 0.7368\n",
      "Epoch 7/100\n",
      "3/3 [==============================] - 0s 22ms/step - loss: 0.4066 - acc: 0.9318 - auc: 0.9825 - val_loss: 0.6203 - val_acc: 0.6818 - val_auc: 0.7358\n",
      "Epoch 8/100\n",
      "3/3 [==============================] - 0s 22ms/step - loss: 0.3802 - acc: 0.9318 - auc: 0.9848 - val_loss: 0.6174 - val_acc: 0.6818 - val_auc: 0.7400\n",
      "Epoch 9/100\n",
      "3/3 [==============================] - 0s 22ms/step - loss: 0.3562 - acc: 0.9318 - auc: 0.9895 - val_loss: 0.6135 - val_acc: 0.6818 - val_auc: 0.7379\n",
      "Epoch 10/100\n",
      "3/3 [==============================] - 0s 19ms/step - loss: 0.3354 - acc: 0.9318 - auc: 0.9919 - val_loss: 0.6107 - val_acc: 0.6591 - val_auc: 0.7432\n",
      "Epoch 11/100\n",
      "3/3 [==============================] - 0s 19ms/step - loss: 0.3155 - acc: 0.9432 - auc: 0.9932 - val_loss: 0.6040 - val_acc: 0.6591 - val_auc: 0.7611\n",
      "Epoch 12/100\n",
      "3/3 [==============================] - 0s 18ms/step - loss: 0.2968 - acc: 0.9545 - auc: 0.9958 - val_loss: 0.5961 - val_acc: 0.6591 - val_auc: 0.7684\n",
      "Epoch 13/100\n",
      "3/3 [==============================] - 0s 19ms/step - loss: 0.2799 - acc: 0.9545 - auc: 0.9958 - val_loss: 0.5880 - val_acc: 0.6591 - val_auc: 0.7832\n",
      "Epoch 14/100\n",
      "3/3 [==============================] - 0s 19ms/step - loss: 0.2638 - acc: 0.9659 - auc: 0.9974 - val_loss: 0.5809 - val_acc: 0.6818 - val_auc: 0.7916\n",
      "Epoch 15/100\n",
      "3/3 [==============================] - 0s 19ms/step - loss: 0.2486 - acc: 0.9659 - auc: 0.9987 - val_loss: 0.5744 - val_acc: 0.6818 - val_auc: 0.7947\n",
      "Epoch 16/100\n",
      "3/3 [==============================] - 0s 18ms/step - loss: 0.2349 - acc: 0.9773 - auc: 0.9990 - val_loss: 0.5660 - val_acc: 0.6818 - val_auc: 0.8084\n",
      "Epoch 17/100\n",
      "3/3 [==============================] - 0s 19ms/step - loss: 0.2218 - acc: 0.9773 - auc: 0.9990 - val_loss: 0.5592 - val_acc: 0.6818 - val_auc: 0.8158\n",
      "Epoch 18/100\n",
      "3/3 [==============================] - 0s 33ms/step - loss: 0.2096 - acc: 0.9773 - auc: 0.9997 - val_loss: 0.5522 - val_acc: 0.7045 - val_auc: 0.8137\n",
      "Epoch 19/100\n",
      "3/3 [==============================] - 0s 19ms/step - loss: 0.1977 - acc: 0.9773 - auc: 1.0000 - val_loss: 0.5449 - val_acc: 0.7045 - val_auc: 0.8179\n",
      "Epoch 20/100\n",
      "3/3 [==============================] - 0s 19ms/step - loss: 0.1867 - acc: 0.9886 - auc: 1.0000 - val_loss: 0.5377 - val_acc: 0.7045 - val_auc: 0.8253\n",
      "Epoch 21/100\n",
      "3/3 [==============================] - 0s 19ms/step - loss: 0.1766 - acc: 1.0000 - auc: 1.0000 - val_loss: 0.5306 - val_acc: 0.7273 - val_auc: 0.8263\n",
      "Epoch 22/100\n",
      "3/3 [==============================] - 0s 19ms/step - loss: 0.1669 - acc: 1.0000 - auc: 1.0000 - val_loss: 0.5230 - val_acc: 0.7500 - val_auc: 0.8326\n",
      "Epoch 23/100\n",
      "3/3 [==============================] - 0s 19ms/step - loss: 0.1576 - acc: 1.0000 - auc: 1.0000 - val_loss: 0.5186 - val_acc: 0.7500 - val_auc: 0.8358\n",
      "Epoch 24/100\n",
      "3/3 [==============================] - 0s 19ms/step - loss: 0.1488 - acc: 1.0000 - auc: 1.0000 - val_loss: 0.5133 - val_acc: 0.7500 - val_auc: 0.8389\n",
      "Epoch 25/100\n",
      "3/3 [==============================] - 0s 18ms/step - loss: 0.1409 - acc: 1.0000 - auc: 1.0000 - val_loss: 0.5071 - val_acc: 0.7500 - val_auc: 0.8421\n",
      "Epoch 26/100\n",
      "3/3 [==============================] - 0s 19ms/step - loss: 0.1332 - acc: 1.0000 - auc: 1.0000 - val_loss: 0.5023 - val_acc: 0.7500 - val_auc: 0.8474\n",
      "Epoch 27/100\n",
      "3/3 [==============================] - 0s 18ms/step - loss: 0.1262 - acc: 1.0000 - auc: 1.0000 - val_loss: 0.4960 - val_acc: 0.7500 - val_auc: 0.8495\n",
      "Epoch 28/100\n",
      "3/3 [==============================] - 0s 19ms/step - loss: 0.1193 - acc: 1.0000 - auc: 1.0000 - val_loss: 0.4912 - val_acc: 0.7727 - val_auc: 0.8505\n",
      "Epoch 29/100\n",
      "3/3 [==============================] - 0s 19ms/step - loss: 0.1128 - acc: 1.0000 - auc: 1.0000 - val_loss: 0.4857 - val_acc: 0.7955 - val_auc: 0.8568\n",
      "Epoch 30/100\n",
      "3/3 [==============================] - 0s 19ms/step - loss: 0.1068 - acc: 1.0000 - auc: 1.0000 - val_loss: 0.4806 - val_acc: 0.7955 - val_auc: 0.8600\n",
      "Epoch 31/100\n",
      "3/3 [==============================] - 0s 18ms/step - loss: 0.1014 - acc: 1.0000 - auc: 1.0000 - val_loss: 0.4746 - val_acc: 0.7955 - val_auc: 0.8632\n",
      "3/3 [==============================] - 0s 4ms/step - loss: 0.3522 - acc: 0.8485 - auc: 0.9464\n"
     ]
    },
    {
     "name": "stderr",
     "output_type": "stream",
     "text": [
      "WARNING:absl:`lr` is deprecated in Keras optimizer, please use `learning_rate` or use the legacy optimizer, e.g.,tf.keras.optimizers.legacy.Adam.\n"
     ]
    },
    {
     "name": "stdout",
     "output_type": "stream",
     "text": [
      "Epoch 1/100\n",
      "3/3 [==============================] - 2s 143ms/step - loss: 0.6997 - acc: 0.5114 - auc: 0.4860 - val_loss: 0.6742 - val_acc: 0.6136 - val_auc: 0.7811\n",
      "Epoch 2/100\n",
      "3/3 [==============================] - 0s 22ms/step - loss: 0.6175 - acc: 0.9091 - auc: 0.9677 - val_loss: 0.5851 - val_acc: 0.6591 - val_auc: 0.9137\n",
      "Epoch 3/100\n",
      "3/3 [==============================] - 0s 26ms/step - loss: 0.4040 - acc: 0.9318 - auc: 1.0000 - val_loss: 0.3446 - val_acc: 0.9091 - val_auc: 0.9589\n",
      "Epoch 4/100\n",
      "3/3 [==============================] - 0s 22ms/step - loss: 0.0876 - acc: 1.0000 - auc: 1.0000 - val_loss: 0.1962 - val_acc: 0.9318 - val_auc: 0.9853\n",
      "Epoch 5/100\n",
      "3/3 [==============================] - 0s 23ms/step - loss: 0.0418 - acc: 0.9886 - auc: 1.0000 - val_loss: 1.6739 - val_acc: 0.6136 - val_auc: 0.9000\n",
      "Epoch 6/100\n",
      "3/3 [==============================] - 0s 22ms/step - loss: 0.2778 - acc: 0.9659 - auc: 0.9889 - val_loss: 0.2812 - val_acc: 0.9091 - val_auc: 0.9653\n",
      "Epoch 7/100\n",
      "3/3 [==============================] - 0s 22ms/step - loss: 0.0152 - acc: 0.9886 - auc: 1.0000 - val_loss: 1.9005 - val_acc: 0.7500 - val_auc: 0.8684\n",
      "Epoch 8/100\n",
      "3/3 [==============================] - 0s 22ms/step - loss: 0.0041 - acc: 1.0000 - auc: 1.0000 - val_loss: 0.4292 - val_acc: 0.9545 - val_auc: 0.9474\n",
      "Epoch 9/100\n",
      "3/3 [==============================] - 0s 22ms/step - loss: 3.6524e-05 - acc: 1.0000 - auc: 1.0000 - val_loss: 0.0496 - val_acc: 0.9545 - val_auc: 1.0000\n",
      "Epoch 10/100\n",
      "3/3 [==============================] - 0s 22ms/step - loss: 5.9029e-05 - acc: 1.0000 - auc: 1.0000 - val_loss: 0.0633 - val_acc: 0.9773 - val_auc: 1.0000\n",
      "Epoch 11/100\n",
      "3/3 [==============================] - 0s 22ms/step - loss: 0.0336 - acc: 0.9886 - auc: 1.0000 - val_loss: 0.0331 - val_acc: 0.9773 - val_auc: 1.0000\n",
      "Epoch 12/100\n",
      "3/3 [==============================] - 0s 22ms/step - loss: 8.4904e-05 - acc: 1.0000 - auc: 1.0000 - val_loss: 0.4862 - val_acc: 0.9091 - val_auc: 0.9737\n",
      "Epoch 13/100\n",
      "3/3 [==============================] - 0s 23ms/step - loss: 2.8688e-04 - acc: 1.0000 - auc: 1.0000 - val_loss: 1.1992 - val_acc: 0.8636 - val_auc: 0.8947\n",
      "Epoch 14/100\n",
      "3/3 [==============================] - 0s 22ms/step - loss: 0.0014 - acc: 1.0000 - auc: 1.0000 - val_loss: 1.6976 - val_acc: 0.8636 - val_auc: 0.8421\n",
      "3/3 [==============================] - 0s 5ms/step - loss: 1.8114 - acc: 0.8182 - auc: 0.8571\n"
     ]
    },
    {
     "name": "stderr",
     "output_type": "stream",
     "text": [
      "WARNING:absl:`lr` is deprecated in Keras optimizer, please use `learning_rate` or use the legacy optimizer, e.g.,tf.keras.optimizers.legacy.Adam.\n"
     ]
    },
    {
     "name": "stdout",
     "output_type": "stream",
     "text": [
      "Epoch 1/100\n",
      "3/3 [==============================] - 2s 139ms/step - loss: 0.6870 - acc: 0.5682 - auc: 0.6413 - val_loss: 0.6534 - val_acc: 0.8864 - val_auc: 0.9716\n",
      "Epoch 2/100\n",
      "3/3 [==============================] - 0s 24ms/step - loss: 0.5718 - acc: 0.9205 - auc: 0.9804 - val_loss: 0.4307 - val_acc: 0.9773 - val_auc: 0.9979\n",
      "Epoch 3/100\n",
      "3/3 [==============================] - 0s 22ms/step - loss: 0.2364 - acc: 0.9773 - auc: 0.9979 - val_loss: 0.1402 - val_acc: 0.9318 - val_auc: 1.0000\n",
      "Epoch 4/100\n",
      "3/3 [==============================] - 0s 23ms/step - loss: 0.0224 - acc: 1.0000 - auc: 1.0000 - val_loss: 0.0038 - val_acc: 1.0000 - val_auc: 1.0000\n",
      "Epoch 5/100\n",
      "3/3 [==============================] - 0s 23ms/step - loss: 9.1782e-05 - acc: 1.0000 - auc: 1.0000 - val_loss: 0.0011 - val_acc: 1.0000 - val_auc: 1.0000\n",
      "Epoch 6/100\n",
      "3/3 [==============================] - 0s 24ms/step - loss: 2.9437e-07 - acc: 1.0000 - auc: 1.0000 - val_loss: 0.0033 - val_acc: 1.0000 - val_auc: 1.0000\n",
      "Epoch 7/100\n",
      "3/3 [==============================] - 0s 22ms/step - loss: 1.2669e-08 - acc: 1.0000 - auc: 1.0000 - val_loss: 0.0162 - val_acc: 0.9773 - val_auc: 1.0000\n",
      "Epoch 8/100\n",
      "3/3 [==============================] - 0s 23ms/step - loss: 3.9159e-09 - acc: 1.0000 - auc: 1.0000 - val_loss: 0.0481 - val_acc: 0.9773 - val_auc: 1.0000\n",
      "Epoch 9/100\n",
      "3/3 [==============================] - 0s 22ms/step - loss: 4.3393e-09 - acc: 1.0000 - auc: 1.0000 - val_loss: 0.0872 - val_acc: 0.9773 - val_auc: 1.0000\n",
      "Epoch 10/100\n",
      "3/3 [==============================] - 0s 23ms/step - loss: 9.0132e-09 - acc: 1.0000 - auc: 1.0000 - val_loss: 0.1235 - val_acc: 0.9773 - val_auc: 0.9737\n",
      "Epoch 11/100\n",
      "3/3 [==============================] - 0s 23ms/step - loss: 1.7203e-08 - acc: 1.0000 - auc: 1.0000 - val_loss: 0.1541 - val_acc: 0.9773 - val_auc: 0.9737\n",
      "Epoch 12/100\n",
      "3/3 [==============================] - 0s 23ms/step - loss: 2.5090e-08 - acc: 1.0000 - auc: 1.0000 - val_loss: 0.1792 - val_acc: 0.9773 - val_auc: 0.9737\n",
      "Epoch 13/100\n",
      "3/3 [==============================] - 0s 22ms/step - loss: 4.4051e-08 - acc: 1.0000 - auc: 1.0000 - val_loss: 0.1993 - val_acc: 0.9773 - val_auc: 0.9737\n",
      "Epoch 14/100\n",
      "3/3 [==============================] - 0s 22ms/step - loss: 7.1491e-08 - acc: 1.0000 - auc: 1.0000 - val_loss: 0.2151 - val_acc: 0.9773 - val_auc: 0.9737\n",
      "3/3 [==============================] - 0s 4ms/step - loss: 0.2445 - acc: 0.9545 - auc: 0.9848\n"
     ]
    },
    {
     "name": "stderr",
     "output_type": "stream",
     "text": [
      "WARNING:absl:`lr` is deprecated in Keras optimizer, please use `learning_rate` or use the legacy optimizer, e.g.,tf.keras.optimizers.legacy.Adam.\n"
     ]
    },
    {
     "name": "stdout",
     "output_type": "stream",
     "text": [
      "Epoch 1/100\n",
      "3/3 [==============================] - 2s 167ms/step - loss: 0.6807 - acc: 0.6477 - auc: 0.5897 - val_loss: 0.6789 - val_acc: 0.4773 - val_auc: 0.8747\n",
      "Epoch 2/100\n",
      "3/3 [==============================] - 0s 26ms/step - loss: 0.5382 - acc: 0.8409 - auc: 0.9670 - val_loss: 0.5967 - val_acc: 0.7045 - val_auc: 0.8853\n",
      "Epoch 3/100\n",
      "3/3 [==============================] - 0s 25ms/step - loss: 0.2622 - acc: 0.9205 - auc: 1.0000 - val_loss: 0.2989 - val_acc: 0.8864 - val_auc: 0.9505\n",
      "Epoch 4/100\n",
      "3/3 [==============================] - 0s 27ms/step - loss: 0.0366 - acc: 1.0000 - auc: 1.0000 - val_loss: 0.2951 - val_acc: 0.9091 - val_auc: 0.9674\n",
      "Epoch 5/100\n",
      "3/3 [==============================] - 0s 26ms/step - loss: 6.6817e-04 - acc: 1.0000 - auc: 1.0000 - val_loss: 0.8167 - val_acc: 0.8864 - val_auc: 0.9579\n",
      "Epoch 6/100\n",
      "3/3 [==============================] - 0s 26ms/step - loss: 1.2118e-05 - acc: 1.0000 - auc: 1.0000 - val_loss: 1.7611 - val_acc: 0.8409 - val_auc: 0.9400\n",
      "Epoch 7/100\n",
      "3/3 [==============================] - 0s 26ms/step - loss: 3.6820e-06 - acc: 1.0000 - auc: 1.0000 - val_loss: 3.0288 - val_acc: 0.8182 - val_auc: 0.9000\n",
      "Epoch 8/100\n",
      "3/3 [==============================] - 0s 26ms/step - loss: 9.4035e-06 - acc: 1.0000 - auc: 1.0000 - val_loss: 4.3524 - val_acc: 0.8182 - val_auc: 0.8600\n",
      "Epoch 9/100\n",
      "3/3 [==============================] - 0s 26ms/step - loss: 6.1667e-05 - acc: 1.0000 - auc: 1.0000 - val_loss: 5.2777 - val_acc: 0.8182 - val_auc: 0.8400\n",
      "Epoch 10/100\n",
      "3/3 [==============================] - 0s 26ms/step - loss: 1.0674e-06 - acc: 1.0000 - auc: 1.0000 - val_loss: 5.5434 - val_acc: 0.8182 - val_auc: 0.8800\n",
      "Epoch 11/100\n",
      "3/3 [==============================] - 0s 26ms/step - loss: 1.2004e-07 - acc: 1.0000 - auc: 1.0000 - val_loss: 5.7241 - val_acc: 0.8182 - val_auc: 0.8800\n",
      "Epoch 12/100\n",
      "3/3 [==============================] - 0s 27ms/step - loss: 7.4915e-09 - acc: 1.0000 - auc: 1.0000 - val_loss: 5.8453 - val_acc: 0.8182 - val_auc: 0.8800\n",
      "Epoch 13/100\n",
      "3/3 [==============================] - 0s 26ms/step - loss: 3.8511e-10 - acc: 1.0000 - auc: 1.0000 - val_loss: 5.9291 - val_acc: 0.8182 - val_auc: 0.8800\n",
      "Epoch 14/100\n",
      "3/3 [==============================] - 0s 26ms/step - loss: 1.1535e-10 - acc: 1.0000 - auc: 1.0000 - val_loss: 5.9910 - val_acc: 0.8182 - val_auc: 0.9000\n",
      "3/3 [==============================] - 0s 5ms/step - loss: 2.1128 - acc: 0.8939 - auc: 0.9189\n"
     ]
    },
    {
     "name": "stderr",
     "output_type": "stream",
     "text": [
      "WARNING:absl:`lr` is deprecated in Keras optimizer, please use `learning_rate` or use the legacy optimizer, e.g.,tf.keras.optimizers.legacy.Adam.\n"
     ]
    },
    {
     "name": "stdout",
     "output_type": "stream",
     "text": [
      "Epoch 1/100\n",
      "3/3 [==============================] - 1s 123ms/step - loss: 0.7062 - acc: 0.3864 - auc: 0.3473 - val_loss: 0.7011 - val_acc: 0.5000 - val_auc: 0.4621\n",
      "Epoch 2/100\n",
      "3/3 [==============================] - 0s 40ms/step - loss: 0.6583 - acc: 0.7614 - auc: 0.8318 - val_loss: 0.6923 - val_acc: 0.5909 - val_auc: 0.5200\n",
      "Epoch 3/100\n",
      "3/3 [==============================] - 0s 19ms/step - loss: 0.6186 - acc: 0.8864 - auc: 0.9527 - val_loss: 0.6844 - val_acc: 0.5682 - val_auc: 0.5653\n",
      "Epoch 4/100\n",
      "3/3 [==============================] - 0s 19ms/step - loss: 0.5730 - acc: 0.9205 - auc: 0.9711 - val_loss: 0.6740 - val_acc: 0.5909 - val_auc: 0.5895\n",
      "Epoch 5/100\n",
      "3/3 [==============================] - 0s 20ms/step - loss: 0.5132 - acc: 0.9545 - auc: 0.9804 - val_loss: 0.6616 - val_acc: 0.5909 - val_auc: 0.6284\n",
      "Epoch 6/100\n",
      "3/3 [==============================] - 0s 19ms/step - loss: 0.4342 - acc: 0.9545 - auc: 0.9899 - val_loss: 0.6466 - val_acc: 0.6136 - val_auc: 0.6621\n",
      "Epoch 7/100\n",
      "3/3 [==============================] - 0s 19ms/step - loss: 0.3480 - acc: 0.9545 - auc: 0.9953 - val_loss: 0.6354 - val_acc: 0.6136 - val_auc: 0.6958\n",
      "Epoch 8/100\n",
      "3/3 [==============================] - 0s 19ms/step - loss: 0.2599 - acc: 0.9545 - auc: 0.9956 - val_loss: 0.6350 - val_acc: 0.6364 - val_auc: 0.7347\n",
      "Epoch 9/100\n",
      "3/3 [==============================] - 0s 19ms/step - loss: 0.1720 - acc: 0.9773 - auc: 0.9984 - val_loss: 0.6486 - val_acc: 0.6818 - val_auc: 0.7568\n",
      "Epoch 10/100\n",
      "3/3 [==============================] - 0s 19ms/step - loss: 0.1083 - acc: 0.9886 - auc: 0.9990 - val_loss: 0.6575 - val_acc: 0.6818 - val_auc: 0.7842\n",
      "Epoch 11/100\n",
      "3/3 [==============================] - 0s 19ms/step - loss: 0.0584 - acc: 0.9886 - auc: 1.0000 - val_loss: 0.6473 - val_acc: 0.6818 - val_auc: 0.8189\n",
      "Epoch 12/100\n",
      "3/3 [==============================] - 0s 19ms/step - loss: 0.0303 - acc: 0.9886 - auc: 1.0000 - val_loss: 0.6458 - val_acc: 0.6818 - val_auc: 0.8411\n",
      "Epoch 13/100\n",
      "3/3 [==============================] - 0s 19ms/step - loss: 0.0151 - acc: 1.0000 - auc: 1.0000 - val_loss: 0.6366 - val_acc: 0.6818 - val_auc: 0.8621\n",
      "Epoch 14/100\n",
      "3/3 [==============================] - 0s 19ms/step - loss: 0.0060 - acc: 1.0000 - auc: 1.0000 - val_loss: 0.6230 - val_acc: 0.7273 - val_auc: 0.8800\n",
      "Epoch 15/100\n",
      "3/3 [==============================] - 0s 21ms/step - loss: 0.0030 - acc: 1.0000 - auc: 1.0000 - val_loss: 0.6061 - val_acc: 0.7500 - val_auc: 0.8895\n",
      "Epoch 16/100\n",
      "3/3 [==============================] - 0s 20ms/step - loss: 0.0016 - acc: 1.0000 - auc: 1.0000 - val_loss: 0.5897 - val_acc: 0.7500 - val_auc: 0.8968\n",
      "Epoch 17/100\n",
      "3/3 [==============================] - 0s 18ms/step - loss: 9.9170e-04 - acc: 1.0000 - auc: 1.0000 - val_loss: 0.5747 - val_acc: 0.7500 - val_auc: 0.9032\n",
      "Epoch 18/100\n",
      "3/3 [==============================] - 0s 20ms/step - loss: 6.3433e-04 - acc: 1.0000 - auc: 1.0000 - val_loss: 0.5615 - val_acc: 0.7727 - val_auc: 0.9074\n",
      "Epoch 19/100\n",
      "3/3 [==============================] - 0s 18ms/step - loss: 4.7626e-04 - acc: 1.0000 - auc: 1.0000 - val_loss: 0.5497 - val_acc: 0.7727 - val_auc: 0.9137\n",
      "Epoch 20/100\n",
      "3/3 [==============================] - 0s 19ms/step - loss: 3.5733e-04 - acc: 1.0000 - auc: 1.0000 - val_loss: 0.5401 - val_acc: 0.7955 - val_auc: 0.9137\n",
      "Epoch 21/100\n",
      "3/3 [==============================] - 0s 19ms/step - loss: 2.7130e-04 - acc: 1.0000 - auc: 1.0000 - val_loss: 0.5325 - val_acc: 0.7955 - val_auc: 0.9137\n",
      "Epoch 22/100\n",
      "3/3 [==============================] - 0s 19ms/step - loss: 2.3225e-04 - acc: 1.0000 - auc: 1.0000 - val_loss: 0.5268 - val_acc: 0.7955 - val_auc: 0.9137\n",
      "Epoch 23/100\n",
      "3/3 [==============================] - 0s 19ms/step - loss: 1.9674e-04 - acc: 1.0000 - auc: 1.0000 - val_loss: 0.5224 - val_acc: 0.7955 - val_auc: 0.9137\n",
      "3/3 [==============================] - 0s 4ms/step - loss: 0.8278 - acc: 0.8939 - auc: 0.8940\n"
     ]
    },
    {
     "name": "stderr",
     "output_type": "stream",
     "text": [
      "WARNING:absl:`lr` is deprecated in Keras optimizer, please use `learning_rate` or use the legacy optimizer, e.g.,tf.keras.optimizers.legacy.Adam.\n"
     ]
    },
    {
     "name": "stdout",
     "output_type": "stream",
     "text": [
      "Epoch 1/100\n",
      "3/3 [==============================] - 1s 122ms/step - loss: 0.6841 - acc: 0.5568 - auc: 0.5773 - val_loss: 0.6747 - val_acc: 0.5909 - val_auc: 0.6716\n",
      "Epoch 2/100\n",
      "3/3 [==============================] - 0s 21ms/step - loss: 0.6342 - acc: 0.7727 - auc: 0.9103 - val_loss: 0.6523 - val_acc: 0.6136 - val_auc: 0.7537\n",
      "Epoch 3/100\n",
      "3/3 [==============================] - 0s 19ms/step - loss: 0.5788 - acc: 0.8977 - auc: 0.9796 - val_loss: 0.6234 - val_acc: 0.7273 - val_auc: 0.8095\n",
      "Epoch 4/100\n",
      "3/3 [==============================] - 0s 19ms/step - loss: 0.5128 - acc: 0.9432 - auc: 0.9907 - val_loss: 0.5810 - val_acc: 0.7955 - val_auc: 0.8505\n",
      "Epoch 5/100\n",
      "3/3 [==============================] - 0s 19ms/step - loss: 0.4254 - acc: 0.9545 - auc: 0.9953 - val_loss: 0.5213 - val_acc: 0.8409 - val_auc: 0.8916\n",
      "Epoch 6/100\n",
      "3/3 [==============================] - 0s 18ms/step - loss: 0.3196 - acc: 0.9659 - auc: 0.9964 - val_loss: 0.4472 - val_acc: 0.8636 - val_auc: 0.9074\n",
      "Epoch 7/100\n",
      "3/3 [==============================] - 0s 19ms/step - loss: 0.2131 - acc: 0.9886 - auc: 0.9984 - val_loss: 0.3670 - val_acc: 0.8864 - val_auc: 0.9305\n",
      "Epoch 8/100\n",
      "3/3 [==============================] - 0s 18ms/step - loss: 0.1232 - acc: 0.9886 - auc: 0.9995 - val_loss: 0.2915 - val_acc: 0.9091 - val_auc: 0.9558\n",
      "Epoch 9/100\n",
      "3/3 [==============================] - 0s 19ms/step - loss: 0.0582 - acc: 1.0000 - auc: 1.0000 - val_loss: 0.2428 - val_acc: 0.9091 - val_auc: 0.9726\n",
      "Epoch 10/100\n",
      "3/3 [==============================] - 0s 18ms/step - loss: 0.0228 - acc: 1.0000 - auc: 1.0000 - val_loss: 0.2265 - val_acc: 0.8636 - val_auc: 0.9842\n",
      "Epoch 11/100\n",
      "3/3 [==============================] - 0s 19ms/step - loss: 0.0095 - acc: 1.0000 - auc: 1.0000 - val_loss: 0.2053 - val_acc: 0.8864 - val_auc: 0.9853\n",
      "Epoch 12/100\n",
      "3/3 [==============================] - 0s 19ms/step - loss: 0.0035 - acc: 1.0000 - auc: 1.0000 - val_loss: 0.1793 - val_acc: 0.8864 - val_auc: 0.9853\n",
      "Epoch 13/100\n",
      "3/3 [==============================] - 0s 19ms/step - loss: 0.0015 - acc: 1.0000 - auc: 1.0000 - val_loss: 0.1575 - val_acc: 0.9318 - val_auc: 0.9853\n",
      "Epoch 14/100\n",
      "3/3 [==============================] - 0s 19ms/step - loss: 6.7838e-04 - acc: 1.0000 - auc: 1.0000 - val_loss: 0.1425 - val_acc: 0.9545 - val_auc: 0.9863\n",
      "Epoch 15/100\n",
      "3/3 [==============================] - 0s 20ms/step - loss: 3.7181e-04 - acc: 1.0000 - auc: 1.0000 - val_loss: 0.1329 - val_acc: 0.9773 - val_auc: 0.9874\n",
      "Epoch 16/100\n",
      "3/3 [==============================] - 0s 20ms/step - loss: 2.2650e-04 - acc: 1.0000 - auc: 1.0000 - val_loss: 0.1268 - val_acc: 0.9773 - val_auc: 0.9874\n",
      "Epoch 17/100\n",
      "3/3 [==============================] - 0s 19ms/step - loss: 1.4939e-04 - acc: 1.0000 - auc: 1.0000 - val_loss: 0.1225 - val_acc: 0.9773 - val_auc: 0.9874\n",
      "Epoch 18/100\n",
      "3/3 [==============================] - 0s 21ms/step - loss: 1.1250e-04 - acc: 1.0000 - auc: 1.0000 - val_loss: 0.1193 - val_acc: 0.9773 - val_auc: 0.9874\n",
      "Epoch 19/100\n",
      "3/3 [==============================] - 0s 19ms/step - loss: 8.4673e-05 - acc: 1.0000 - auc: 1.0000 - val_loss: 0.1170 - val_acc: 0.9773 - val_auc: 0.9895\n",
      "3/3 [==============================] - 0s 3ms/step - loss: 0.4411 - acc: 0.8939 - auc: 0.9646\n"
     ]
    },
    {
     "name": "stderr",
     "output_type": "stream",
     "text": [
      "WARNING:absl:`lr` is deprecated in Keras optimizer, please use `learning_rate` or use the legacy optimizer, e.g.,tf.keras.optimizers.legacy.Adam.\n"
     ]
    },
    {
     "name": "stdout",
     "output_type": "stream",
     "text": [
      "Epoch 1/100\n",
      "3/3 [==============================] - 2s 129ms/step - loss: 0.7081 - acc: 0.4545 - auc: 0.6104 - val_loss: 0.6520 - val_acc: 0.6591 - val_auc: 0.8137\n",
      "Epoch 2/100\n",
      "3/3 [==============================] - 0s 22ms/step - loss: 0.6557 - acc: 0.6818 - auc: 0.8671 - val_loss: 0.6508 - val_acc: 0.7955 - val_auc: 0.8316\n",
      "Epoch 3/100\n",
      "3/3 [==============================] - 0s 23ms/step - loss: 0.6175 - acc: 0.9432 - auc: 0.9652 - val_loss: 0.6366 - val_acc: 0.8182 - val_auc: 0.8274\n",
      "Epoch 4/100\n",
      "3/3 [==============================] - 0s 22ms/step - loss: 0.5659 - acc: 0.9659 - auc: 0.9848 - val_loss: 0.6071 - val_acc: 0.8636 - val_auc: 0.8484\n",
      "Epoch 5/100\n",
      "3/3 [==============================] - 0s 20ms/step - loss: 0.4951 - acc: 0.9886 - auc: 0.9950 - val_loss: 0.5698 - val_acc: 0.8409 - val_auc: 0.8505\n",
      "Epoch 6/100\n",
      "3/3 [==============================] - 0s 19ms/step - loss: 0.3985 - acc: 0.9886 - auc: 0.9992 - val_loss: 0.5288 - val_acc: 0.8182 - val_auc: 0.8653\n",
      "Epoch 7/100\n",
      "3/3 [==============================] - 0s 20ms/step - loss: 0.2868 - acc: 1.0000 - auc: 1.0000 - val_loss: 0.4985 - val_acc: 0.8182 - val_auc: 0.8695\n",
      "Epoch 8/100\n",
      "3/3 [==============================] - 0s 19ms/step - loss: 0.1758 - acc: 1.0000 - auc: 1.0000 - val_loss: 0.4946 - val_acc: 0.8182 - val_auc: 0.8800\n",
      "Epoch 9/100\n",
      "3/3 [==============================] - 0s 20ms/step - loss: 0.0853 - acc: 1.0000 - auc: 1.0000 - val_loss: 0.5135 - val_acc: 0.8409 - val_auc: 0.8905\n",
      "Epoch 10/100\n",
      "3/3 [==============================] - 0s 20ms/step - loss: 0.0357 - acc: 1.0000 - auc: 1.0000 - val_loss: 0.5589 - val_acc: 0.8636 - val_auc: 0.9032\n",
      "Epoch 11/100\n",
      "3/3 [==============================] - 0s 20ms/step - loss: 0.0125 - acc: 1.0000 - auc: 1.0000 - val_loss: 0.6187 - val_acc: 0.8864 - val_auc: 0.9158\n",
      "Epoch 12/100\n",
      "3/3 [==============================] - 0s 19ms/step - loss: 0.0046 - acc: 1.0000 - auc: 1.0000 - val_loss: 0.6932 - val_acc: 0.8864 - val_auc: 0.9137\n",
      "Epoch 13/100\n",
      "3/3 [==============================] - 0s 22ms/step - loss: 0.0014 - acc: 1.0000 - auc: 1.0000 - val_loss: 0.7625 - val_acc: 0.8864 - val_auc: 0.9221\n",
      "Epoch 14/100\n",
      "3/3 [==============================] - 0s 19ms/step - loss: 6.6898e-04 - acc: 1.0000 - auc: 1.0000 - val_loss: 0.8235 - val_acc: 0.8864 - val_auc: 0.9221\n",
      "Epoch 15/100\n",
      "3/3 [==============================] - 0s 19ms/step - loss: 3.4691e-04 - acc: 1.0000 - auc: 1.0000 - val_loss: 0.8737 - val_acc: 0.8864 - val_auc: 0.9305\n",
      "Epoch 16/100\n",
      "3/3 [==============================] - 0s 20ms/step - loss: 1.9186e-04 - acc: 1.0000 - auc: 1.0000 - val_loss: 0.9138 - val_acc: 0.8864 - val_auc: 0.9305\n",
      "Epoch 17/100\n",
      "3/3 [==============================] - 0s 21ms/step - loss: 1.2841e-04 - acc: 1.0000 - auc: 1.0000 - val_loss: 0.9459 - val_acc: 0.8864 - val_auc: 0.9368\n",
      "3/3 [==============================] - 0s 4ms/step - loss: 0.4427 - acc: 0.9091 - auc: 0.9585\n"
     ]
    },
    {
     "name": "stderr",
     "output_type": "stream",
     "text": [
      "WARNING:absl:`lr` is deprecated in Keras optimizer, please use `learning_rate` or use the legacy optimizer, e.g.,tf.keras.optimizers.legacy.Adam.\n"
     ]
    },
    {
     "name": "stdout",
     "output_type": "stream",
     "text": [
      "Epoch 1/100\n",
      "3/3 [==============================] - 2s 150ms/step - loss: 0.6925 - acc: 0.5114 - auc: 0.5473 - val_loss: 0.6741 - val_acc: 0.6591 - val_auc: 0.7547\n",
      "Epoch 2/100\n",
      "3/3 [==============================] - 0s 27ms/step - loss: 0.6128 - acc: 0.9091 - auc: 0.9868 - val_loss: 0.5972 - val_acc: 0.7045 - val_auc: 0.8474\n",
      "Epoch 3/100\n",
      "3/3 [==============================] - 0s 29ms/step - loss: 0.3999 - acc: 0.9773 - auc: 0.9990 - val_loss: 0.4425 - val_acc: 0.7500 - val_auc: 0.8853\n",
      "Epoch 4/100\n",
      "3/3 [==============================] - 0s 28ms/step - loss: 0.1065 - acc: 1.0000 - auc: 1.0000 - val_loss: 0.4679 - val_acc: 0.8636 - val_auc: 0.8989\n",
      "Epoch 5/100\n",
      "3/3 [==============================] - 0s 26ms/step - loss: 0.0110 - acc: 1.0000 - auc: 1.0000 - val_loss: 0.6468 - val_acc: 0.8636 - val_auc: 0.8905\n",
      "Epoch 6/100\n",
      "3/3 [==============================] - 0s 23ms/step - loss: 6.9829e-05 - acc: 1.0000 - auc: 1.0000 - val_loss: 0.9297 - val_acc: 0.8409 - val_auc: 0.9400\n",
      "Epoch 7/100\n",
      "3/3 [==============================] - 0s 23ms/step - loss: 0.1674 - acc: 0.9886 - auc: 0.9889 - val_loss: 0.6745 - val_acc: 0.8864 - val_auc: 0.9463\n",
      "Epoch 8/100\n",
      "3/3 [==============================] - 0s 23ms/step - loss: 1.5230e-04 - acc: 1.0000 - auc: 1.0000 - val_loss: 5.4611 - val_acc: 0.6364 - val_auc: 0.6579\n",
      "Epoch 9/100\n",
      "3/3 [==============================] - 0s 22ms/step - loss: 0.6369 - acc: 0.9205 - auc: 0.9651 - val_loss: 0.4801 - val_acc: 0.9545 - val_auc: 0.9579\n",
      "Epoch 10/100\n",
      "3/3 [==============================] - 0s 27ms/step - loss: 0.0018 - acc: 1.0000 - auc: 1.0000 - val_loss: 4.6447 - val_acc: 0.5909 - val_auc: 0.6800\n",
      "Epoch 11/100\n",
      "3/3 [==============================] - 0s 27ms/step - loss: 0.5131 - acc: 0.9091 - auc: 0.9667 - val_loss: 0.5312 - val_acc: 0.9318 - val_auc: 0.9600\n",
      "Epoch 12/100\n",
      "3/3 [==============================] - 0s 29ms/step - loss: 4.1023e-06 - acc: 1.0000 - auc: 1.0000 - val_loss: 0.8011 - val_acc: 0.9091 - val_auc: 0.9126\n",
      "Epoch 13/100\n",
      "3/3 [==============================] - 0s 27ms/step - loss: 0.0079 - acc: 0.9886 - auc: 1.0000 - val_loss: 1.4468 - val_acc: 0.7727 - val_auc: 0.8947\n",
      "Epoch 14/100\n",
      "3/3 [==============================] - 0s 24ms/step - loss: 0.0012 - acc: 1.0000 - auc: 1.0000 - val_loss: 2.1208 - val_acc: 0.7273 - val_auc: 0.7895\n",
      "3/3 [==============================] - 0s 5ms/step - loss: 1.4941 - acc: 0.7727 - auc: 0.8714\n"
     ]
    },
    {
     "name": "stderr",
     "output_type": "stream",
     "text": [
      "WARNING:absl:`lr` is deprecated in Keras optimizer, please use `learning_rate` or use the legacy optimizer, e.g.,tf.keras.optimizers.legacy.Adam.\n"
     ]
    },
    {
     "name": "stdout",
     "output_type": "stream",
     "text": [
      "Epoch 1/100\n",
      "3/3 [==============================] - 2s 165ms/step - loss: 0.6900 - acc: 0.5114 - auc: 0.5217 - val_loss: 0.6649 - val_acc: 0.6818 - val_auc: 0.8905\n",
      "Epoch 2/100\n",
      "3/3 [==============================] - 0s 29ms/step - loss: 0.5897 - acc: 0.8977 - auc: 0.9659 - val_loss: 0.5830 - val_acc: 0.6591 - val_auc: 0.9674\n",
      "Epoch 3/100\n",
      "3/3 [==============================] - 0s 24ms/step - loss: 0.3690 - acc: 0.9091 - auc: 0.9871 - val_loss: 0.3182 - val_acc: 0.9318 - val_auc: 0.9684\n",
      "Epoch 4/100\n",
      "3/3 [==============================] - 0s 25ms/step - loss: 0.1478 - acc: 0.9659 - auc: 0.9995 - val_loss: 0.2634 - val_acc: 0.9091 - val_auc: 0.9800\n",
      "Epoch 5/100\n",
      "3/3 [==============================] - 0s 25ms/step - loss: 0.0116 - acc: 1.0000 - auc: 1.0000 - val_loss: 0.6633 - val_acc: 0.7955 - val_auc: 0.9600\n",
      "Epoch 6/100\n",
      "3/3 [==============================] - 0s 26ms/step - loss: 0.0015 - acc: 1.0000 - auc: 1.0000 - val_loss: 1.1047 - val_acc: 0.7955 - val_auc: 0.9400\n",
      "Epoch 7/100\n",
      "3/3 [==============================] - 0s 28ms/step - loss: 1.6799e-04 - acc: 1.0000 - auc: 1.0000 - val_loss: 1.4983 - val_acc: 0.7955 - val_auc: 0.9200\n",
      "Epoch 8/100\n",
      "3/3 [==============================] - 0s 28ms/step - loss: 2.1284e-05 - acc: 1.0000 - auc: 1.0000 - val_loss: 1.7601 - val_acc: 0.7727 - val_auc: 0.9200\n",
      "Epoch 9/100\n",
      "3/3 [==============================] - 0s 26ms/step - loss: 3.6584e-06 - acc: 1.0000 - auc: 1.0000 - val_loss: 1.9433 - val_acc: 0.7727 - val_auc: 0.9200\n",
      "Epoch 10/100\n",
      "3/3 [==============================] - 0s 25ms/step - loss: 6.4945e-07 - acc: 1.0000 - auc: 1.0000 - val_loss: 2.0822 - val_acc: 0.7955 - val_auc: 0.9000\n",
      "Epoch 11/100\n",
      "3/3 [==============================] - 0s 23ms/step - loss: 1.0542e-07 - acc: 1.0000 - auc: 1.0000 - val_loss: 2.1886 - val_acc: 0.8182 - val_auc: 0.9000\n",
      "Epoch 12/100\n",
      "3/3 [==============================] - 0s 24ms/step - loss: 1.8892e-08 - acc: 1.0000 - auc: 1.0000 - val_loss: 2.2716 - val_acc: 0.8182 - val_auc: 0.9000\n",
      "Epoch 13/100\n",
      "3/3 [==============================] - 0s 24ms/step - loss: 9.9814e-09 - acc: 1.0000 - auc: 1.0000 - val_loss: 2.3348 - val_acc: 0.8182 - val_auc: 0.9000\n",
      "Epoch 14/100\n",
      "3/3 [==============================] - 0s 22ms/step - loss: 5.3570e-09 - acc: 1.0000 - auc: 1.0000 - val_loss: 2.3831 - val_acc: 0.8182 - val_auc: 0.9000\n",
      "Epoch 15/100\n",
      "3/3 [==============================] - 0s 22ms/step - loss: 3.1516e-09 - acc: 1.0000 - auc: 1.0000 - val_loss: 2.4190 - val_acc: 0.8182 - val_auc: 0.9000\n",
      "3/3 [==============================] - 0s 5ms/step - loss: 2.3917 - acc: 0.8485 - auc: 0.8788\n"
     ]
    },
    {
     "name": "stderr",
     "output_type": "stream",
     "text": [
      "WARNING:absl:`lr` is deprecated in Keras optimizer, please use `learning_rate` or use the legacy optimizer, e.g.,tf.keras.optimizers.legacy.Adam.\n"
     ]
    },
    {
     "name": "stdout",
     "output_type": "stream",
     "text": [
      "Epoch 1/100\n",
      "3/3 [==============================] - 2s 138ms/step - loss: 0.6977 - acc: 0.5682 - auc: 0.4424 - val_loss: 0.7069 - val_acc: 0.4318 - val_auc: 0.7737\n",
      "Epoch 2/100\n",
      "3/3 [==============================] - 0s 23ms/step - loss: 0.6276 - acc: 0.5909 - auc: 0.9736 - val_loss: 0.6854 - val_acc: 0.4773 - val_auc: 0.8042\n",
      "Epoch 3/100\n",
      "3/3 [==============================] - 0s 25ms/step - loss: 0.4830 - acc: 0.7955 - auc: 1.0000 - val_loss: 0.6451 - val_acc: 0.6136 - val_auc: 0.8305\n",
      "Epoch 4/100\n",
      "3/3 [==============================] - 0s 27ms/step - loss: 0.2430 - acc: 0.9773 - auc: 1.0000 - val_loss: 0.4916 - val_acc: 0.7955 - val_auc: 0.8547\n",
      "Epoch 5/100\n",
      "3/3 [==============================] - 0s 24ms/step - loss: 0.0564 - acc: 1.0000 - auc: 1.0000 - val_loss: 0.6745 - val_acc: 0.8409 - val_auc: 0.8958\n",
      "Epoch 6/100\n",
      "3/3 [==============================] - 0s 25ms/step - loss: 0.0029 - acc: 1.0000 - auc: 1.0000 - val_loss: 1.2800 - val_acc: 0.8636 - val_auc: 0.9242\n",
      "Epoch 7/100\n",
      "3/3 [==============================] - 0s 26ms/step - loss: 2.9729e-04 - acc: 1.0000 - auc: 1.0000 - val_loss: 2.1505 - val_acc: 0.8409 - val_auc: 0.9358\n",
      "Epoch 8/100\n",
      "3/3 [==============================] - 0s 26ms/step - loss: 3.3830e-05 - acc: 1.0000 - auc: 1.0000 - val_loss: 3.1064 - val_acc: 0.8182 - val_auc: 0.9000\n",
      "Epoch 9/100\n",
      "3/3 [==============================] - 0s 23ms/step - loss: 1.8755e-05 - acc: 1.0000 - auc: 1.0000 - val_loss: 3.9862 - val_acc: 0.8182 - val_auc: 0.9000\n",
      "Epoch 10/100\n",
      "3/3 [==============================] - 0s 23ms/step - loss: 1.0810e-05 - acc: 1.0000 - auc: 1.0000 - val_loss: 4.7055 - val_acc: 0.8182 - val_auc: 0.8800\n",
      "Epoch 11/100\n",
      "3/3 [==============================] - 0s 23ms/step - loss: 8.1397e-06 - acc: 1.0000 - auc: 1.0000 - val_loss: 5.2177 - val_acc: 0.8182 - val_auc: 0.8800\n",
      "Epoch 12/100\n",
      "3/3 [==============================] - 0s 26ms/step - loss: 3.2663e-06 - acc: 1.0000 - auc: 1.0000 - val_loss: 5.5963 - val_acc: 0.8182 - val_auc: 0.8800\n",
      "Epoch 13/100\n",
      "3/3 [==============================] - 0s 26ms/step - loss: 1.7119e-06 - acc: 1.0000 - auc: 1.0000 - val_loss: 5.8624 - val_acc: 0.8182 - val_auc: 0.8600\n",
      "Epoch 14/100\n",
      "3/3 [==============================] - 0s 26ms/step - loss: 8.0832e-07 - acc: 1.0000 - auc: 1.0000 - val_loss: 6.0531 - val_acc: 0.8182 - val_auc: 0.8600\n",
      "Epoch 15/100\n",
      "3/3 [==============================] - 0s 25ms/step - loss: 2.3150e-07 - acc: 1.0000 - auc: 1.0000 - val_loss: 6.1970 - val_acc: 0.8182 - val_auc: 0.8600\n",
      "3/3 [==============================] - 0s 4ms/step - loss: 3.1300 - acc: 0.7879 - auc: 0.8187\n"
     ]
    },
    {
     "name": "stderr",
     "output_type": "stream",
     "text": [
      "WARNING:absl:`lr` is deprecated in Keras optimizer, please use `learning_rate` or use the legacy optimizer, e.g.,tf.keras.optimizers.legacy.Adam.\n"
     ]
    },
    {
     "name": "stdout",
     "output_type": "stream",
     "text": [
      "Epoch 1/100\n",
      "3/3 [==============================] - 1s 137ms/step - loss: 0.8538 - acc: 0.5341 - auc: 0.5421 - val_loss: 0.9506 - val_acc: 0.5000 - val_auc: 0.3526\n",
      "Epoch 2/100\n",
      "3/3 [==============================] - 0s 24ms/step - loss: 0.8343 - acc: 0.5341 - auc: 0.5530 - val_loss: 0.9389 - val_acc: 0.5000 - val_auc: 0.3537\n",
      "Epoch 3/100\n",
      "3/3 [==============================] - 0s 22ms/step - loss: 0.8167 - acc: 0.5682 - auc: 0.5620 - val_loss: 0.9285 - val_acc: 0.5000 - val_auc: 0.3526\n",
      "Epoch 4/100\n",
      "3/3 [==============================] - 0s 22ms/step - loss: 0.8002 - acc: 0.5795 - auc: 0.5752 - val_loss: 0.9178 - val_acc: 0.5000 - val_auc: 0.3547\n",
      "Epoch 5/100\n",
      "3/3 [==============================] - 0s 24ms/step - loss: 0.7840 - acc: 0.5795 - auc: 0.5889 - val_loss: 0.9081 - val_acc: 0.4773 - val_auc: 0.3568\n",
      "Epoch 6/100\n",
      "3/3 [==============================] - 0s 22ms/step - loss: 0.7684 - acc: 0.5909 - auc: 0.6031 - val_loss: 0.8989 - val_acc: 0.4773 - val_auc: 0.3568\n",
      "Epoch 7/100\n",
      "3/3 [==============================] - 0s 39ms/step - loss: 0.7535 - acc: 0.5909 - auc: 0.6114 - val_loss: 0.8899 - val_acc: 0.5000 - val_auc: 0.3611\n",
      "Epoch 8/100\n",
      "3/3 [==============================] - 0s 23ms/step - loss: 0.7394 - acc: 0.6023 - auc: 0.6261 - val_loss: 0.8817 - val_acc: 0.4773 - val_auc: 0.3684\n",
      "Epoch 9/100\n",
      "3/3 [==============================] - 0s 20ms/step - loss: 0.7246 - acc: 0.5909 - auc: 0.6354 - val_loss: 0.8741 - val_acc: 0.5000 - val_auc: 0.3779\n",
      "Epoch 10/100\n",
      "3/3 [==============================] - 0s 23ms/step - loss: 0.7112 - acc: 0.5909 - auc: 0.6455 - val_loss: 0.8666 - val_acc: 0.5000 - val_auc: 0.3853\n",
      "Epoch 11/100\n",
      "3/3 [==============================] - 0s 23ms/step - loss: 0.6990 - acc: 0.6023 - auc: 0.6581 - val_loss: 0.8594 - val_acc: 0.5000 - val_auc: 0.3789\n",
      "Epoch 12/100\n",
      "3/3 [==============================] - 0s 20ms/step - loss: 0.6870 - acc: 0.6023 - auc: 0.6767 - val_loss: 0.8526 - val_acc: 0.5000 - val_auc: 0.3758\n",
      "Epoch 13/100\n",
      "3/3 [==============================] - 0s 23ms/step - loss: 0.6739 - acc: 0.6136 - auc: 0.6907 - val_loss: 0.8462 - val_acc: 0.5000 - val_auc: 0.3779\n",
      "Epoch 14/100\n",
      "3/3 [==============================] - 0s 23ms/step - loss: 0.6630 - acc: 0.6364 - auc: 0.7028 - val_loss: 0.8400 - val_acc: 0.5000 - val_auc: 0.3832\n",
      "Epoch 15/100\n",
      "3/3 [==============================] - 0s 22ms/step - loss: 0.6514 - acc: 0.6364 - auc: 0.7189 - val_loss: 0.8341 - val_acc: 0.5000 - val_auc: 0.3926\n",
      "Epoch 16/100\n",
      "3/3 [==============================] - 0s 21ms/step - loss: 0.6413 - acc: 0.6477 - auc: 0.7305 - val_loss: 0.8286 - val_acc: 0.5000 - val_auc: 0.4000\n",
      "Epoch 17/100\n",
      "3/3 [==============================] - 0s 21ms/step - loss: 0.6305 - acc: 0.6477 - auc: 0.7437 - val_loss: 0.8233 - val_acc: 0.5000 - val_auc: 0.4095\n",
      "Epoch 18/100\n",
      "3/3 [==============================] - 0s 20ms/step - loss: 0.6203 - acc: 0.6477 - auc: 0.7525 - val_loss: 0.8179 - val_acc: 0.5000 - val_auc: 0.4105\n",
      "Epoch 19/100\n",
      "3/3 [==============================] - 0s 21ms/step - loss: 0.6112 - acc: 0.6477 - auc: 0.7628 - val_loss: 0.8129 - val_acc: 0.5227 - val_auc: 0.4179\n",
      "Epoch 20/100\n",
      "3/3 [==============================] - 0s 24ms/step - loss: 0.6016 - acc: 0.6591 - auc: 0.7729 - val_loss: 0.8081 - val_acc: 0.5000 - val_auc: 0.4221\n",
      "Epoch 21/100\n",
      "3/3 [==============================] - 0s 22ms/step - loss: 0.5920 - acc: 0.6591 - auc: 0.7822 - val_loss: 0.8037 - val_acc: 0.5000 - val_auc: 0.4221\n",
      "Epoch 22/100\n",
      "3/3 [==============================] - 0s 24ms/step - loss: 0.5830 - acc: 0.6818 - auc: 0.7938 - val_loss: 0.7994 - val_acc: 0.5000 - val_auc: 0.4305\n",
      "Epoch 23/100\n",
      "3/3 [==============================] - 0s 23ms/step - loss: 0.5748 - acc: 0.7045 - auc: 0.8047 - val_loss: 0.7949 - val_acc: 0.5000 - val_auc: 0.4400\n",
      "Epoch 24/100\n",
      "3/3 [==============================] - 0s 22ms/step - loss: 0.5664 - acc: 0.7159 - auc: 0.8111 - val_loss: 0.7907 - val_acc: 0.5227 - val_auc: 0.4432\n",
      "Epoch 25/100\n",
      "3/3 [==============================] - 0s 22ms/step - loss: 0.5580 - acc: 0.7159 - auc: 0.8207 - val_loss: 0.7869 - val_acc: 0.5227 - val_auc: 0.4474\n",
      "Epoch 26/100\n",
      "3/3 [==============================] - 0s 23ms/step - loss: 0.5496 - acc: 0.7386 - auc: 0.8307 - val_loss: 0.7830 - val_acc: 0.5227 - val_auc: 0.4558\n",
      "Epoch 27/100\n",
      "3/3 [==============================] - 0s 23ms/step - loss: 0.5411 - acc: 0.7386 - auc: 0.8416 - val_loss: 0.7792 - val_acc: 0.5227 - val_auc: 0.4642\n",
      "Epoch 28/100\n",
      "3/3 [==============================] - 0s 23ms/step - loss: 0.5341 - acc: 0.7386 - auc: 0.8475 - val_loss: 0.7758 - val_acc: 0.5227 - val_auc: 0.4684\n",
      "Epoch 29/100\n",
      "3/3 [==============================] - 0s 23ms/step - loss: 0.5257 - acc: 0.7500 - auc: 0.8532 - val_loss: 0.7725 - val_acc: 0.5227 - val_auc: 0.4758\n",
      "Epoch 30/100\n",
      "3/3 [==============================] - 0s 22ms/step - loss: 0.5190 - acc: 0.7614 - auc: 0.8584 - val_loss: 0.7693 - val_acc: 0.5227 - val_auc: 0.4800\n",
      "Epoch 31/100\n",
      "3/3 [==============================] - 0s 22ms/step - loss: 0.5112 - acc: 0.7614 - auc: 0.8669 - val_loss: 0.7664 - val_acc: 0.5455 - val_auc: 0.4821\n",
      "Epoch 32/100\n",
      "3/3 [==============================] - 0s 25ms/step - loss: 0.5041 - acc: 0.7614 - auc: 0.8742 - val_loss: 0.7632 - val_acc: 0.5455 - val_auc: 0.4863\n",
      "Epoch 33/100\n",
      "3/3 [==============================] - 0s 21ms/step - loss: 0.4966 - acc: 0.7727 - auc: 0.8778 - val_loss: 0.7605 - val_acc: 0.5455 - val_auc: 0.4916\n",
      "Epoch 34/100\n",
      "3/3 [==============================] - 0s 21ms/step - loss: 0.4903 - acc: 0.7841 - auc: 0.8837 - val_loss: 0.7578 - val_acc: 0.5455 - val_auc: 0.4979\n",
      "Epoch 35/100\n",
      "3/3 [==============================] - 0s 20ms/step - loss: 0.4830 - acc: 0.7955 - auc: 0.8907 - val_loss: 0.7552 - val_acc: 0.5455 - val_auc: 0.5063\n",
      "Epoch 36/100\n",
      "3/3 [==============================] - 0s 22ms/step - loss: 0.4761 - acc: 0.7955 - auc: 0.8943 - val_loss: 0.7528 - val_acc: 0.5455 - val_auc: 0.5137\n",
      "Epoch 37/100\n",
      "3/3 [==============================] - 0s 22ms/step - loss: 0.4694 - acc: 0.7841 - auc: 0.8979 - val_loss: 0.7502 - val_acc: 0.5455 - val_auc: 0.5179\n",
      "Epoch 38/100\n",
      "3/3 [==============================] - 0s 22ms/step - loss: 0.4623 - acc: 0.7955 - auc: 0.9031 - val_loss: 0.7475 - val_acc: 0.5455 - val_auc: 0.5253\n",
      "Epoch 39/100\n",
      "3/3 [==============================] - 0s 23ms/step - loss: 0.4559 - acc: 0.7955 - auc: 0.9093 - val_loss: 0.7448 - val_acc: 0.5455 - val_auc: 0.5305\n",
      "Epoch 40/100\n",
      "3/3 [==============================] - 0s 21ms/step - loss: 0.4492 - acc: 0.7955 - auc: 0.9196 - val_loss: 0.7422 - val_acc: 0.5455 - val_auc: 0.5347\n",
      "Epoch 41/100\n",
      "3/3 [==============================] - 0s 21ms/step - loss: 0.4429 - acc: 0.7955 - auc: 0.9235 - val_loss: 0.7399 - val_acc: 0.5455 - val_auc: 0.5400\n",
      "Epoch 42/100\n",
      "3/3 [==============================] - 0s 23ms/step - loss: 0.4360 - acc: 0.8182 - auc: 0.9305 - val_loss: 0.7377 - val_acc: 0.5455 - val_auc: 0.5421\n",
      "Epoch 43/100\n",
      "3/3 [==============================] - 0s 23ms/step - loss: 0.4305 - acc: 0.8409 - auc: 0.9344 - val_loss: 0.7352 - val_acc: 0.5682 - val_auc: 0.5484\n",
      "Epoch 44/100\n",
      "3/3 [==============================] - 0s 23ms/step - loss: 0.4238 - acc: 0.8636 - auc: 0.9416 - val_loss: 0.7330 - val_acc: 0.5682 - val_auc: 0.5516\n",
      "Epoch 45/100\n",
      "3/3 [==============================] - 0s 21ms/step - loss: 0.4178 - acc: 0.8750 - auc: 0.9447 - val_loss: 0.7308 - val_acc: 0.5682 - val_auc: 0.5568\n",
      "Epoch 46/100\n",
      "3/3 [==============================] - 0s 23ms/step - loss: 0.4116 - acc: 0.8750 - auc: 0.9481 - val_loss: 0.7285 - val_acc: 0.5682 - val_auc: 0.5632\n",
      "Epoch 47/100\n",
      "3/3 [==============================] - 0s 25ms/step - loss: 0.4058 - acc: 0.8750 - auc: 0.9535 - val_loss: 0.7263 - val_acc: 0.5682 - val_auc: 0.5653\n",
      "Epoch 48/100\n",
      "3/3 [==============================] - 0s 22ms/step - loss: 0.3996 - acc: 0.8750 - auc: 0.9566 - val_loss: 0.7240 - val_acc: 0.5682 - val_auc: 0.5663\n",
      "Epoch 49/100\n",
      "3/3 [==============================] - 0s 21ms/step - loss: 0.3940 - acc: 0.8750 - auc: 0.9589 - val_loss: 0.7218 - val_acc: 0.5682 - val_auc: 0.5716\n",
      "Epoch 50/100\n",
      "3/3 [==============================] - 0s 22ms/step - loss: 0.3884 - acc: 0.8750 - auc: 0.9602 - val_loss: 0.7196 - val_acc: 0.5682 - val_auc: 0.5737\n",
      "Epoch 51/100\n",
      "3/3 [==============================] - 0s 22ms/step - loss: 0.3827 - acc: 0.8864 - auc: 0.9623 - val_loss: 0.7176 - val_acc: 0.5455 - val_auc: 0.5779\n",
      "Epoch 52/100\n",
      "3/3 [==============================] - 0s 22ms/step - loss: 0.3770 - acc: 0.8864 - auc: 0.9638 - val_loss: 0.7156 - val_acc: 0.5455 - val_auc: 0.5800\n",
      "Epoch 53/100\n",
      "3/3 [==============================] - 0s 21ms/step - loss: 0.3715 - acc: 0.8864 - auc: 0.9664 - val_loss: 0.7134 - val_acc: 0.5455 - val_auc: 0.5842\n",
      "Epoch 54/100\n",
      "3/3 [==============================] - 0s 21ms/step - loss: 0.3662 - acc: 0.8864 - auc: 0.9690 - val_loss: 0.7112 - val_acc: 0.5455 - val_auc: 0.5905\n",
      "Epoch 55/100\n",
      "3/3 [==============================] - 0s 34ms/step - loss: 0.3610 - acc: 0.8977 - auc: 0.9695 - val_loss: 0.7092 - val_acc: 0.5455 - val_auc: 0.5979\n",
      "Epoch 56/100\n",
      "3/3 [==============================] - 0s 20ms/step - loss: 0.3558 - acc: 0.8977 - auc: 0.9718 - val_loss: 0.7069 - val_acc: 0.5455 - val_auc: 0.5989\n",
      "Epoch 57/100\n",
      "3/3 [==============================] - 0s 22ms/step - loss: 0.3505 - acc: 0.8977 - auc: 0.9731 - val_loss: 0.7049 - val_acc: 0.5455 - val_auc: 0.6074\n",
      "Epoch 58/100\n",
      "3/3 [==============================] - 0s 24ms/step - loss: 0.3456 - acc: 0.8977 - auc: 0.9749 - val_loss: 0.7030 - val_acc: 0.5455 - val_auc: 0.6105\n",
      "Epoch 59/100\n",
      "3/3 [==============================] - 0s 22ms/step - loss: 0.3405 - acc: 0.8977 - auc: 0.9762 - val_loss: 0.7009 - val_acc: 0.5455 - val_auc: 0.6116\n",
      "Epoch 60/100\n",
      "3/3 [==============================] - 0s 21ms/step - loss: 0.3356 - acc: 0.8977 - auc: 0.9775 - val_loss: 0.6988 - val_acc: 0.5455 - val_auc: 0.6189\n",
      "Epoch 61/100\n",
      "3/3 [==============================] - 0s 19ms/step - loss: 0.3305 - acc: 0.8977 - auc: 0.9786 - val_loss: 0.6969 - val_acc: 0.5682 - val_auc: 0.6274\n",
      "Epoch 62/100\n",
      "3/3 [==============================] - 0s 20ms/step - loss: 0.3255 - acc: 0.8977 - auc: 0.9804 - val_loss: 0.6949 - val_acc: 0.5682 - val_auc: 0.6284\n",
      "Epoch 63/100\n",
      "3/3 [==============================] - 0s 21ms/step - loss: 0.3203 - acc: 0.8977 - auc: 0.9819 - val_loss: 0.6931 - val_acc: 0.5682 - val_auc: 0.6305\n",
      "Epoch 64/100\n",
      "3/3 [==============================] - 0s 21ms/step - loss: 0.3155 - acc: 0.8977 - auc: 0.9829 - val_loss: 0.6914 - val_acc: 0.5682 - val_auc: 0.6347\n",
      "Epoch 65/100\n",
      "3/3 [==============================] - 0s 21ms/step - loss: 0.3107 - acc: 0.8977 - auc: 0.9845 - val_loss: 0.6897 - val_acc: 0.5682 - val_auc: 0.6389\n",
      "3/3 [==============================] - 0s 4ms/step - loss: 0.6159 - acc: 0.6515 - auc: 0.7461\n"
     ]
    },
    {
     "name": "stderr",
     "output_type": "stream",
     "text": [
      "WARNING:absl:`lr` is deprecated in Keras optimizer, please use `learning_rate` or use the legacy optimizer, e.g.,tf.keras.optimizers.legacy.Adam.\n"
     ]
    },
    {
     "name": "stdout",
     "output_type": "stream",
     "text": [
      "Epoch 1/100\n",
      "3/3 [==============================] - 1s 130ms/step - loss: 0.7323 - acc: 0.5795 - auc: 0.5664 - val_loss: 0.6812 - val_acc: 0.6591 - val_auc: 0.6463\n",
      "Epoch 2/100\n",
      "3/3 [==============================] - 0s 20ms/step - loss: 0.7137 - acc: 0.6023 - auc: 0.5964 - val_loss: 0.6737 - val_acc: 0.6591 - val_auc: 0.6516\n",
      "Epoch 3/100\n",
      "3/3 [==============================] - 0s 19ms/step - loss: 0.6932 - acc: 0.6250 - auc: 0.6302 - val_loss: 0.6670 - val_acc: 0.6591 - val_auc: 0.6568\n",
      "Epoch 4/100\n",
      "3/3 [==============================] - 0s 19ms/step - loss: 0.6765 - acc: 0.6250 - auc: 0.6556 - val_loss: 0.6609 - val_acc: 0.6591 - val_auc: 0.6547\n",
      "Epoch 5/100\n",
      "3/3 [==============================] - 0s 20ms/step - loss: 0.6605 - acc: 0.6477 - auc: 0.6716 - val_loss: 0.6549 - val_acc: 0.6591 - val_auc: 0.6600\n",
      "Epoch 6/100\n",
      "3/3 [==============================] - 0s 19ms/step - loss: 0.6444 - acc: 0.6591 - auc: 0.6904 - val_loss: 0.6492 - val_acc: 0.6591 - val_auc: 0.6758\n",
      "Epoch 7/100\n",
      "3/3 [==============================] - 0s 19ms/step - loss: 0.6307 - acc: 0.6818 - auc: 0.7152 - val_loss: 0.6437 - val_acc: 0.6591 - val_auc: 0.6789\n",
      "Epoch 8/100\n",
      "3/3 [==============================] - 0s 21ms/step - loss: 0.6169 - acc: 0.6818 - auc: 0.7390 - val_loss: 0.6384 - val_acc: 0.6818 - val_auc: 0.6874\n",
      "Epoch 9/100\n",
      "3/3 [==============================] - 0s 21ms/step - loss: 0.6039 - acc: 0.6932 - auc: 0.7581 - val_loss: 0.6332 - val_acc: 0.6818 - val_auc: 0.7063\n",
      "Epoch 10/100\n",
      "3/3 [==============================] - 0s 22ms/step - loss: 0.5909 - acc: 0.7045 - auc: 0.7755 - val_loss: 0.6286 - val_acc: 0.6818 - val_auc: 0.7126\n",
      "Epoch 11/100\n",
      "3/3 [==============================] - 0s 41ms/step - loss: 0.5794 - acc: 0.7386 - auc: 0.7917 - val_loss: 0.6237 - val_acc: 0.6818 - val_auc: 0.7147\n",
      "Epoch 12/100\n",
      "3/3 [==============================] - 0s 21ms/step - loss: 0.5692 - acc: 0.7500 - auc: 0.8057 - val_loss: 0.6198 - val_acc: 0.7045 - val_auc: 0.7168\n",
      "Epoch 13/100\n",
      "3/3 [==============================] - 0s 21ms/step - loss: 0.5577 - acc: 0.7614 - auc: 0.8140 - val_loss: 0.6156 - val_acc: 0.7045 - val_auc: 0.7232\n",
      "Epoch 14/100\n",
      "3/3 [==============================] - 0s 20ms/step - loss: 0.5477 - acc: 0.7614 - auc: 0.8264 - val_loss: 0.6110 - val_acc: 0.7045 - val_auc: 0.7274\n",
      "Epoch 15/100\n",
      "3/3 [==============================] - 0s 18ms/step - loss: 0.5369 - acc: 0.7727 - auc: 0.8370 - val_loss: 0.6071 - val_acc: 0.7045 - val_auc: 0.7379\n",
      "Epoch 16/100\n",
      "3/3 [==============================] - 0s 20ms/step - loss: 0.5275 - acc: 0.7727 - auc: 0.8455 - val_loss: 0.6031 - val_acc: 0.7045 - val_auc: 0.7421\n",
      "Epoch 17/100\n",
      "3/3 [==============================] - 0s 20ms/step - loss: 0.5183 - acc: 0.7727 - auc: 0.8535 - val_loss: 0.5991 - val_acc: 0.7045 - val_auc: 0.7432\n",
      "Epoch 18/100\n",
      "3/3 [==============================] - 0s 22ms/step - loss: 0.5090 - acc: 0.7841 - auc: 0.8630 - val_loss: 0.5952 - val_acc: 0.7045 - val_auc: 0.7537\n",
      "Epoch 19/100\n",
      "3/3 [==============================] - 0s 24ms/step - loss: 0.5002 - acc: 0.8068 - auc: 0.8708 - val_loss: 0.5910 - val_acc: 0.7045 - val_auc: 0.7558\n",
      "Epoch 20/100\n",
      "3/3 [==============================] - 0s 24ms/step - loss: 0.4915 - acc: 0.8068 - auc: 0.8791 - val_loss: 0.5872 - val_acc: 0.7045 - val_auc: 0.7600\n",
      "Epoch 21/100\n",
      "3/3 [==============================] - 0s 22ms/step - loss: 0.4832 - acc: 0.8182 - auc: 0.8873 - val_loss: 0.5834 - val_acc: 0.7045 - val_auc: 0.7579\n",
      "Epoch 22/100\n",
      "3/3 [==============================] - 0s 22ms/step - loss: 0.4747 - acc: 0.8295 - auc: 0.8948 - val_loss: 0.5795 - val_acc: 0.7045 - val_auc: 0.7632\n",
      "Epoch 23/100\n",
      "3/3 [==============================] - 0s 24ms/step - loss: 0.4666 - acc: 0.8295 - auc: 0.9036 - val_loss: 0.5757 - val_acc: 0.6818 - val_auc: 0.7695\n",
      "Epoch 24/100\n",
      "3/3 [==============================] - 0s 23ms/step - loss: 0.4588 - acc: 0.8409 - auc: 0.9114 - val_loss: 0.5720 - val_acc: 0.7045 - val_auc: 0.7747\n",
      "Epoch 25/100\n",
      "3/3 [==============================] - 0s 22ms/step - loss: 0.4508 - acc: 0.8523 - auc: 0.9194 - val_loss: 0.5682 - val_acc: 0.7045 - val_auc: 0.7821\n",
      "Epoch 26/100\n",
      "3/3 [==============================] - 0s 23ms/step - loss: 0.4437 - acc: 0.8523 - auc: 0.9253 - val_loss: 0.5644 - val_acc: 0.7045 - val_auc: 0.7874\n",
      "Epoch 27/100\n",
      "3/3 [==============================] - 0s 25ms/step - loss: 0.4361 - acc: 0.8523 - auc: 0.9333 - val_loss: 0.5611 - val_acc: 0.7045 - val_auc: 0.7926\n",
      "Epoch 28/100\n",
      "3/3 [==============================] - 0s 25ms/step - loss: 0.4287 - acc: 0.8523 - auc: 0.9393 - val_loss: 0.5577 - val_acc: 0.7045 - val_auc: 0.7979\n",
      "Epoch 29/100\n",
      "3/3 [==============================] - 0s 22ms/step - loss: 0.4216 - acc: 0.8523 - auc: 0.9470 - val_loss: 0.5541 - val_acc: 0.7045 - val_auc: 0.8021\n",
      "Epoch 30/100\n",
      "3/3 [==============================] - 0s 23ms/step - loss: 0.4148 - acc: 0.8523 - auc: 0.9527 - val_loss: 0.5510 - val_acc: 0.7273 - val_auc: 0.7979\n",
      "Epoch 31/100\n",
      "3/3 [==============================] - 0s 21ms/step - loss: 0.4074 - acc: 0.8523 - auc: 0.9589 - val_loss: 0.5478 - val_acc: 0.7273 - val_auc: 0.8011\n",
      "Epoch 32/100\n",
      "3/3 [==============================] - 0s 20ms/step - loss: 0.4008 - acc: 0.8636 - auc: 0.9628 - val_loss: 0.5445 - val_acc: 0.6818 - val_auc: 0.7989\n",
      "Epoch 33/100\n",
      "3/3 [==============================] - 0s 23ms/step - loss: 0.3945 - acc: 0.8636 - auc: 0.9661 - val_loss: 0.5413 - val_acc: 0.6818 - val_auc: 0.8011\n",
      "Epoch 34/100\n",
      "3/3 [==============================] - 0s 23ms/step - loss: 0.3882 - acc: 0.8636 - auc: 0.9687 - val_loss: 0.5384 - val_acc: 0.7045 - val_auc: 0.8095\n",
      "Epoch 35/100\n",
      "3/3 [==============================] - 0s 21ms/step - loss: 0.3819 - acc: 0.8636 - auc: 0.9718 - val_loss: 0.5349 - val_acc: 0.7045 - val_auc: 0.8116\n",
      "Epoch 36/100\n",
      "3/3 [==============================] - 0s 21ms/step - loss: 0.3755 - acc: 0.8750 - auc: 0.9757 - val_loss: 0.5318 - val_acc: 0.7045 - val_auc: 0.8179\n",
      "Epoch 37/100\n",
      "3/3 [==============================] - 0s 21ms/step - loss: 0.3698 - acc: 0.8864 - auc: 0.9778 - val_loss: 0.5287 - val_acc: 0.7273 - val_auc: 0.8211\n",
      "Epoch 38/100\n",
      "3/3 [==============================] - 0s 22ms/step - loss: 0.3639 - acc: 0.8977 - auc: 0.9793 - val_loss: 0.5255 - val_acc: 0.7273 - val_auc: 0.8253\n",
      "Epoch 39/100\n",
      "3/3 [==============================] - 0s 23ms/step - loss: 0.3581 - acc: 0.9091 - auc: 0.9822 - val_loss: 0.5219 - val_acc: 0.7273 - val_auc: 0.8274\n",
      "Epoch 40/100\n",
      "3/3 [==============================] - 0s 24ms/step - loss: 0.3525 - acc: 0.9205 - auc: 0.9840 - val_loss: 0.5188 - val_acc: 0.7500 - val_auc: 0.8326\n",
      "Epoch 41/100\n",
      "3/3 [==============================] - 0s 22ms/step - loss: 0.3468 - acc: 0.9205 - auc: 0.9845 - val_loss: 0.5158 - val_acc: 0.7500 - val_auc: 0.8411\n",
      "Epoch 42/100\n",
      "3/3 [==============================] - 0s 22ms/step - loss: 0.3412 - acc: 0.9205 - auc: 0.9868 - val_loss: 0.5128 - val_acc: 0.7500 - val_auc: 0.8432\n",
      "Epoch 43/100\n",
      "3/3 [==============================] - 0s 24ms/step - loss: 0.3360 - acc: 0.9205 - auc: 0.9879 - val_loss: 0.5097 - val_acc: 0.7500 - val_auc: 0.8495\n",
      "Epoch 44/100\n",
      "3/3 [==============================] - 0s 22ms/step - loss: 0.3308 - acc: 0.9205 - auc: 0.9894 - val_loss: 0.5066 - val_acc: 0.7500 - val_auc: 0.8495\n",
      "Epoch 45/100\n",
      "3/3 [==============================] - 0s 23ms/step - loss: 0.3254 - acc: 0.9205 - auc: 0.9904 - val_loss: 0.5034 - val_acc: 0.7500 - val_auc: 0.8547\n",
      "Epoch 46/100\n",
      "3/3 [==============================] - 0s 21ms/step - loss: 0.3205 - acc: 0.9318 - auc: 0.9912 - val_loss: 0.4999 - val_acc: 0.7500 - val_auc: 0.8568\n",
      "Epoch 47/100\n",
      "3/3 [==============================] - 0s 20ms/step - loss: 0.3155 - acc: 0.9432 - auc: 0.9925 - val_loss: 0.4967 - val_acc: 0.7727 - val_auc: 0.8600\n",
      "Epoch 48/100\n",
      "3/3 [==============================] - 0s 19ms/step - loss: 0.3106 - acc: 0.9432 - auc: 0.9933 - val_loss: 0.4931 - val_acc: 0.7727 - val_auc: 0.8653\n",
      "Epoch 49/100\n",
      "3/3 [==============================] - 0s 21ms/step - loss: 0.3059 - acc: 0.9432 - auc: 0.9943 - val_loss: 0.4900 - val_acc: 0.7500 - val_auc: 0.8705\n",
      "Epoch 50/100\n",
      "3/3 [==============================] - 0s 21ms/step - loss: 0.3013 - acc: 0.9432 - auc: 0.9946 - val_loss: 0.4864 - val_acc: 0.7500 - val_auc: 0.8737\n",
      "Epoch 51/100\n",
      "3/3 [==============================] - 0s 20ms/step - loss: 0.2964 - acc: 0.9432 - auc: 0.9948 - val_loss: 0.4827 - val_acc: 0.7500 - val_auc: 0.8737\n",
      "Epoch 52/100\n",
      "3/3 [==============================] - 0s 21ms/step - loss: 0.2919 - acc: 0.9545 - auc: 0.9951 - val_loss: 0.4797 - val_acc: 0.7500 - val_auc: 0.8779\n",
      "Epoch 53/100\n",
      "3/3 [==============================] - 0s 22ms/step - loss: 0.2876 - acc: 0.9545 - auc: 0.9953 - val_loss: 0.4759 - val_acc: 0.7500 - val_auc: 0.8821\n",
      "Epoch 54/100\n",
      "3/3 [==============================] - 0s 44ms/step - loss: 0.2833 - acc: 0.9659 - auc: 0.9953 - val_loss: 0.4723 - val_acc: 0.7500 - val_auc: 0.8853\n",
      "Epoch 55/100\n",
      "3/3 [==============================] - 0s 25ms/step - loss: 0.2791 - acc: 0.9659 - auc: 0.9953 - val_loss: 0.4688 - val_acc: 0.7500 - val_auc: 0.8926\n",
      "Epoch 56/100\n",
      "3/3 [==============================] - 0s 22ms/step - loss: 0.2747 - acc: 0.9659 - auc: 0.9953 - val_loss: 0.4657 - val_acc: 0.7727 - val_auc: 0.8958\n",
      "Epoch 57/100\n",
      "3/3 [==============================] - 0s 22ms/step - loss: 0.2706 - acc: 0.9659 - auc: 0.9953 - val_loss: 0.4623 - val_acc: 0.7500 - val_auc: 0.8958\n",
      "Epoch 58/100\n",
      "3/3 [==============================] - 0s 24ms/step - loss: 0.2666 - acc: 0.9659 - auc: 0.9959 - val_loss: 0.4589 - val_acc: 0.7500 - val_auc: 0.9011\n",
      "Epoch 59/100\n",
      "3/3 [==============================] - 0s 24ms/step - loss: 0.2627 - acc: 0.9659 - auc: 0.9966 - val_loss: 0.4555 - val_acc: 0.7727 - val_auc: 0.9032\n",
      "Epoch 60/100\n",
      "3/3 [==============================] - 0s 25ms/step - loss: 0.2588 - acc: 0.9659 - auc: 0.9972 - val_loss: 0.4520 - val_acc: 0.7727 - val_auc: 0.9053\n",
      "Epoch 61/100\n",
      "3/3 [==============================] - 0s 25ms/step - loss: 0.2549 - acc: 0.9659 - auc: 0.9974 - val_loss: 0.4489 - val_acc: 0.7727 - val_auc: 0.9063\n",
      "Epoch 62/100\n",
      "3/3 [==============================] - 0s 24ms/step - loss: 0.2510 - acc: 0.9659 - auc: 0.9974 - val_loss: 0.4456 - val_acc: 0.7727 - val_auc: 0.9084\n",
      "Epoch 63/100\n",
      "3/3 [==============================] - 0s 23ms/step - loss: 0.2472 - acc: 0.9659 - auc: 0.9977 - val_loss: 0.4425 - val_acc: 0.7727 - val_auc: 0.9158\n",
      "Epoch 64/100\n",
      "3/3 [==============================] - 0s 25ms/step - loss: 0.2437 - acc: 0.9659 - auc: 0.9982 - val_loss: 0.4394 - val_acc: 0.7955 - val_auc: 0.9158\n",
      "3/3 [==============================] - 0s 3ms/step - loss: 0.4809 - acc: 0.7879 - auc: 0.8852\n"
     ]
    },
    {
     "name": "stderr",
     "output_type": "stream",
     "text": [
      "WARNING:absl:`lr` is deprecated in Keras optimizer, please use `learning_rate` or use the legacy optimizer, e.g.,tf.keras.optimizers.legacy.Adam.\n"
     ]
    },
    {
     "name": "stdout",
     "output_type": "stream",
     "text": [
      "Epoch 1/100\n",
      "3/3 [==============================] - 1s 134ms/step - loss: 0.7270 - acc: 0.5000 - auc: 0.6415 - val_loss: 0.6673 - val_acc: 0.6591 - val_auc: 0.6926\n",
      "Epoch 2/100\n",
      "3/3 [==============================] - 0s 22ms/step - loss: 0.7035 - acc: 0.5341 - auc: 0.6675 - val_loss: 0.6601 - val_acc: 0.6591 - val_auc: 0.6916\n",
      "Epoch 3/100\n",
      "3/3 [==============================] - 0s 22ms/step - loss: 0.6828 - acc: 0.5795 - auc: 0.6881 - val_loss: 0.6538 - val_acc: 0.6818 - val_auc: 0.6958\n",
      "Epoch 4/100\n",
      "3/3 [==============================] - 0s 23ms/step - loss: 0.6644 - acc: 0.6023 - auc: 0.7020 - val_loss: 0.6477 - val_acc: 0.6818 - val_auc: 0.6989\n",
      "Epoch 5/100\n",
      "3/3 [==============================] - 0s 23ms/step - loss: 0.6467 - acc: 0.6023 - auc: 0.7203 - val_loss: 0.6424 - val_acc: 0.6818 - val_auc: 0.7021\n",
      "Epoch 6/100\n",
      "3/3 [==============================] - 0s 25ms/step - loss: 0.6286 - acc: 0.6477 - auc: 0.7397 - val_loss: 0.6368 - val_acc: 0.6818 - val_auc: 0.7105\n",
      "Epoch 7/100\n",
      "3/3 [==============================] - 0s 22ms/step - loss: 0.6132 - acc: 0.6705 - auc: 0.7548 - val_loss: 0.6316 - val_acc: 0.6591 - val_auc: 0.7137\n",
      "Epoch 8/100\n",
      "3/3 [==============================] - 0s 23ms/step - loss: 0.5974 - acc: 0.6818 - auc: 0.7708 - val_loss: 0.6270 - val_acc: 0.6591 - val_auc: 0.7168\n",
      "Epoch 9/100\n",
      "3/3 [==============================] - 0s 23ms/step - loss: 0.5832 - acc: 0.6932 - auc: 0.7844 - val_loss: 0.6227 - val_acc: 0.6591 - val_auc: 0.7189\n",
      "Epoch 10/100\n",
      "3/3 [==============================] - 0s 23ms/step - loss: 0.5693 - acc: 0.6932 - auc: 0.8001 - val_loss: 0.6191 - val_acc: 0.6591 - val_auc: 0.7232\n",
      "Epoch 11/100\n",
      "3/3 [==============================] - 0s 27ms/step - loss: 0.5561 - acc: 0.7045 - auc: 0.8087 - val_loss: 0.6158 - val_acc: 0.6818 - val_auc: 0.7274\n",
      "Epoch 12/100\n",
      "3/3 [==============================] - 0s 24ms/step - loss: 0.5438 - acc: 0.7273 - auc: 0.8192 - val_loss: 0.6125 - val_acc: 0.7045 - val_auc: 0.7326\n",
      "Epoch 13/100\n",
      "3/3 [==============================] - 0s 22ms/step - loss: 0.5324 - acc: 0.7500 - auc: 0.8278 - val_loss: 0.6093 - val_acc: 0.7045 - val_auc: 0.7368\n",
      "Epoch 14/100\n",
      "3/3 [==============================] - 0s 22ms/step - loss: 0.5221 - acc: 0.7500 - auc: 0.8399 - val_loss: 0.6064 - val_acc: 0.7045 - val_auc: 0.7368\n",
      "Epoch 15/100\n",
      "3/3 [==============================] - 0s 22ms/step - loss: 0.5112 - acc: 0.7614 - auc: 0.8493 - val_loss: 0.6036 - val_acc: 0.7045 - val_auc: 0.7400\n",
      "Epoch 16/100\n",
      "3/3 [==============================] - 0s 22ms/step - loss: 0.5002 - acc: 0.7727 - auc: 0.8579 - val_loss: 0.6013 - val_acc: 0.7045 - val_auc: 0.7442\n",
      "Epoch 17/100\n",
      "3/3 [==============================] - 0s 24ms/step - loss: 0.4917 - acc: 0.7955 - auc: 0.8663 - val_loss: 0.5992 - val_acc: 0.7045 - val_auc: 0.7463\n",
      "Epoch 18/100\n",
      "3/3 [==============================] - 0s 23ms/step - loss: 0.4823 - acc: 0.8068 - auc: 0.8736 - val_loss: 0.5972 - val_acc: 0.7045 - val_auc: 0.7463\n",
      "Epoch 19/100\n",
      "3/3 [==============================] - 0s 22ms/step - loss: 0.4741 - acc: 0.8068 - auc: 0.8781 - val_loss: 0.5959 - val_acc: 0.7045 - val_auc: 0.7453\n",
      "Epoch 20/100\n",
      "3/3 [==============================] - 0s 22ms/step - loss: 0.4651 - acc: 0.8068 - auc: 0.8849 - val_loss: 0.5944 - val_acc: 0.7045 - val_auc: 0.7442\n",
      "Epoch 21/100\n",
      "3/3 [==============================] - 0s 23ms/step - loss: 0.4575 - acc: 0.8182 - auc: 0.8938 - val_loss: 0.5933 - val_acc: 0.7045 - val_auc: 0.7463\n",
      "Epoch 22/100\n",
      "3/3 [==============================] - 0s 22ms/step - loss: 0.4499 - acc: 0.8295 - auc: 0.9024 - val_loss: 0.5919 - val_acc: 0.6818 - val_auc: 0.7453\n",
      "Epoch 23/100\n",
      "3/3 [==============================] - 0s 23ms/step - loss: 0.4422 - acc: 0.8523 - auc: 0.9121 - val_loss: 0.5902 - val_acc: 0.7045 - val_auc: 0.7505\n",
      "Epoch 24/100\n",
      "3/3 [==============================] - 0s 22ms/step - loss: 0.4353 - acc: 0.8523 - auc: 0.9171 - val_loss: 0.5893 - val_acc: 0.7045 - val_auc: 0.7484\n",
      "Epoch 25/100\n",
      "3/3 [==============================] - 0s 22ms/step - loss: 0.4283 - acc: 0.8523 - auc: 0.9233 - val_loss: 0.5882 - val_acc: 0.7045 - val_auc: 0.7516\n",
      "Epoch 26/100\n",
      "3/3 [==============================] - 0s 22ms/step - loss: 0.4216 - acc: 0.8523 - auc: 0.9275 - val_loss: 0.5864 - val_acc: 0.7045 - val_auc: 0.7516\n",
      "Epoch 27/100\n",
      "3/3 [==============================] - 0s 34ms/step - loss: 0.4149 - acc: 0.8636 - auc: 0.9320 - val_loss: 0.5851 - val_acc: 0.7045 - val_auc: 0.7558\n",
      "Epoch 28/100\n",
      "3/3 [==============================] - 0s 21ms/step - loss: 0.4087 - acc: 0.8636 - auc: 0.9383 - val_loss: 0.5845 - val_acc: 0.6818 - val_auc: 0.7600\n",
      "Epoch 29/100\n",
      "3/3 [==============================] - 0s 20ms/step - loss: 0.4021 - acc: 0.8750 - auc: 0.9403 - val_loss: 0.5835 - val_acc: 0.6591 - val_auc: 0.7621\n",
      "Epoch 30/100\n",
      "3/3 [==============================] - 0s 22ms/step - loss: 0.3959 - acc: 0.8977 - auc: 0.9456 - val_loss: 0.5823 - val_acc: 0.6591 - val_auc: 0.7632\n",
      "Epoch 31/100\n",
      "3/3 [==============================] - 0s 20ms/step - loss: 0.3895 - acc: 0.8977 - auc: 0.9487 - val_loss: 0.5810 - val_acc: 0.6591 - val_auc: 0.7642\n",
      "Epoch 32/100\n",
      "3/3 [==============================] - 0s 20ms/step - loss: 0.3837 - acc: 0.8977 - auc: 0.9508 - val_loss: 0.5805 - val_acc: 0.6591 - val_auc: 0.7632\n",
      "Epoch 33/100\n",
      "3/3 [==============================] - 0s 19ms/step - loss: 0.3777 - acc: 0.9091 - auc: 0.9568 - val_loss: 0.5794 - val_acc: 0.6591 - val_auc: 0.7621\n",
      "Epoch 34/100\n",
      "3/3 [==============================] - 0s 19ms/step - loss: 0.3719 - acc: 0.9091 - auc: 0.9623 - val_loss: 0.5789 - val_acc: 0.6591 - val_auc: 0.7632\n",
      "Epoch 35/100\n",
      "3/3 [==============================] - 0s 19ms/step - loss: 0.3659 - acc: 0.9091 - auc: 0.9652 - val_loss: 0.5783 - val_acc: 0.6591 - val_auc: 0.7611\n",
      "Epoch 36/100\n",
      "3/3 [==============================] - 0s 18ms/step - loss: 0.3602 - acc: 0.9091 - auc: 0.9668 - val_loss: 0.5776 - val_acc: 0.6591 - val_auc: 0.7632\n",
      "Epoch 37/100\n",
      "3/3 [==============================] - 0s 19ms/step - loss: 0.3546 - acc: 0.9091 - auc: 0.9678 - val_loss: 0.5767 - val_acc: 0.6591 - val_auc: 0.7632\n",
      "Epoch 38/100\n",
      "3/3 [==============================] - 0s 19ms/step - loss: 0.3489 - acc: 0.9091 - auc: 0.9715 - val_loss: 0.5752 - val_acc: 0.6591 - val_auc: 0.7653\n",
      "Epoch 39/100\n",
      "3/3 [==============================] - 0s 18ms/step - loss: 0.3434 - acc: 0.9205 - auc: 0.9728 - val_loss: 0.5743 - val_acc: 0.6591 - val_auc: 0.7632\n",
      "Epoch 40/100\n",
      "3/3 [==============================] - 0s 19ms/step - loss: 0.3378 - acc: 0.9205 - auc: 0.9754 - val_loss: 0.5730 - val_acc: 0.6591 - val_auc: 0.7632\n",
      "Epoch 41/100\n",
      "3/3 [==============================] - 0s 19ms/step - loss: 0.3325 - acc: 0.9205 - auc: 0.9775 - val_loss: 0.5720 - val_acc: 0.6591 - val_auc: 0.7632\n",
      "Epoch 42/100\n",
      "3/3 [==============================] - 0s 19ms/step - loss: 0.3275 - acc: 0.9205 - auc: 0.9785 - val_loss: 0.5709 - val_acc: 0.6818 - val_auc: 0.7663\n",
      "Epoch 43/100\n",
      "3/3 [==============================] - 0s 18ms/step - loss: 0.3224 - acc: 0.9318 - auc: 0.9799 - val_loss: 0.5702 - val_acc: 0.6818 - val_auc: 0.7663\n",
      "Epoch 44/100\n",
      "3/3 [==============================] - 0s 19ms/step - loss: 0.3171 - acc: 0.9318 - auc: 0.9830 - val_loss: 0.5697 - val_acc: 0.6818 - val_auc: 0.7684\n",
      "Epoch 45/100\n",
      "3/3 [==============================] - 0s 19ms/step - loss: 0.3124 - acc: 0.9318 - auc: 0.9846 - val_loss: 0.5688 - val_acc: 0.6818 - val_auc: 0.7684\n",
      "Epoch 46/100\n",
      "3/3 [==============================] - 0s 19ms/step - loss: 0.3076 - acc: 0.9432 - auc: 0.9859 - val_loss: 0.5680 - val_acc: 0.6818 - val_auc: 0.7705\n",
      "Epoch 47/100\n",
      "3/3 [==============================] - 0s 19ms/step - loss: 0.3030 - acc: 0.9432 - auc: 0.9864 - val_loss: 0.5679 - val_acc: 0.6818 - val_auc: 0.7726\n",
      "Epoch 48/100\n",
      "3/3 [==============================] - 0s 27ms/step - loss: 0.2985 - acc: 0.9545 - auc: 0.9877 - val_loss: 0.5661 - val_acc: 0.6818 - val_auc: 0.7758\n",
      "Epoch 49/100\n",
      "3/3 [==============================] - 0s 20ms/step - loss: 0.2936 - acc: 0.9545 - auc: 0.9887 - val_loss: 0.5650 - val_acc: 0.6818 - val_auc: 0.7779\n",
      "Epoch 50/100\n",
      "3/3 [==============================] - 0s 19ms/step - loss: 0.2891 - acc: 0.9545 - auc: 0.9906 - val_loss: 0.5639 - val_acc: 0.6818 - val_auc: 0.7768\n",
      "Epoch 51/100\n",
      "3/3 [==============================] - 0s 20ms/step - loss: 0.2846 - acc: 0.9545 - auc: 0.9919 - val_loss: 0.5630 - val_acc: 0.6818 - val_auc: 0.7758\n",
      "Epoch 52/100\n",
      "3/3 [==============================] - 0s 19ms/step - loss: 0.2802 - acc: 0.9545 - auc: 0.9924 - val_loss: 0.5615 - val_acc: 0.6818 - val_auc: 0.7768\n",
      "Epoch 53/100\n",
      "3/3 [==============================] - 0s 41ms/step - loss: 0.2757 - acc: 0.9545 - auc: 0.9927 - val_loss: 0.5599 - val_acc: 0.6818 - val_auc: 0.7758\n",
      "Epoch 54/100\n",
      "3/3 [==============================] - 0s 20ms/step - loss: 0.2716 - acc: 0.9545 - auc: 0.9929 - val_loss: 0.5588 - val_acc: 0.6818 - val_auc: 0.7779\n",
      "Epoch 55/100\n",
      "3/3 [==============================] - 0s 20ms/step - loss: 0.2673 - acc: 0.9545 - auc: 0.9948 - val_loss: 0.5576 - val_acc: 0.6818 - val_auc: 0.7789\n",
      "Epoch 56/100\n",
      "3/3 [==============================] - 0s 21ms/step - loss: 0.2630 - acc: 0.9545 - auc: 0.9963 - val_loss: 0.5565 - val_acc: 0.6818 - val_auc: 0.7821\n",
      "Epoch 57/100\n",
      "3/3 [==============================] - 0s 22ms/step - loss: 0.2590 - acc: 0.9545 - auc: 0.9969 - val_loss: 0.5556 - val_acc: 0.6818 - val_auc: 0.7853\n",
      "Epoch 58/100\n",
      "3/3 [==============================] - 0s 23ms/step - loss: 0.2550 - acc: 0.9545 - auc: 0.9974 - val_loss: 0.5538 - val_acc: 0.6818 - val_auc: 0.7874\n",
      "3/3 [==============================] - 0s 4ms/step - loss: 0.4490 - acc: 0.7424 - auc: 0.8677\n"
     ]
    },
    {
     "name": "stderr",
     "output_type": "stream",
     "text": [
      "WARNING:absl:`lr` is deprecated in Keras optimizer, please use `learning_rate` or use the legacy optimizer, e.g.,tf.keras.optimizers.legacy.Adam.\n"
     ]
    },
    {
     "name": "stdout",
     "output_type": "stream",
     "text": [
      "Epoch 1/100\n",
      "3/3 [==============================] - 3s 174ms/step - loss: 0.6943 - acc: 0.4545 - auc: 0.4682 - val_loss: 0.6813 - val_acc: 0.5682 - val_auc: 0.6884\n",
      "Epoch 2/100\n",
      "3/3 [==============================] - 0s 28ms/step - loss: 0.6565 - acc: 0.6023 - auc: 0.9168 - val_loss: 0.6219 - val_acc: 0.7955 - val_auc: 0.8653\n",
      "Epoch 3/100\n",
      "3/3 [==============================] - 0s 28ms/step - loss: 0.4684 - acc: 0.9773 - auc: 0.9953 - val_loss: 0.5214 - val_acc: 0.6818 - val_auc: 0.8779\n",
      "Epoch 4/100\n",
      "3/3 [==============================] - 0s 28ms/step - loss: 0.1881 - acc: 0.9773 - auc: 0.9912 - val_loss: 0.3140 - val_acc: 0.8409 - val_auc: 0.9379\n",
      "Epoch 5/100\n",
      "3/3 [==============================] - 0s 27ms/step - loss: 0.1930 - acc: 0.9773 - auc: 0.9863 - val_loss: 0.3135 - val_acc: 0.8636 - val_auc: 0.9442\n",
      "Epoch 6/100\n",
      "3/3 [==============================] - 0s 29ms/step - loss: 0.1081 - acc: 0.9886 - auc: 0.9853 - val_loss: 1.5509 - val_acc: 0.6591 - val_auc: 0.8800\n",
      "Epoch 7/100\n",
      "3/3 [==============================] - 0s 28ms/step - loss: 0.0892 - acc: 0.9545 - auc: 1.0000 - val_loss: 0.7718 - val_acc: 0.8182 - val_auc: 0.9579\n",
      "Epoch 8/100\n",
      "3/3 [==============================] - 0s 28ms/step - loss: 0.0431 - acc: 0.9773 - auc: 1.0000 - val_loss: 1.2006 - val_acc: 0.7045 - val_auc: 0.8842\n",
      "Epoch 9/100\n",
      "3/3 [==============================] - 0s 28ms/step - loss: 0.0270 - acc: 0.9886 - auc: 1.0000 - val_loss: 0.2527 - val_acc: 0.9318 - val_auc: 0.9916\n",
      "Epoch 10/100\n",
      "3/3 [==============================] - 0s 26ms/step - loss: 0.0014 - acc: 1.0000 - auc: 1.0000 - val_loss: 0.0916 - val_acc: 0.9545 - val_auc: 0.9979\n",
      "Epoch 11/100\n",
      "3/3 [==============================] - 0s 27ms/step - loss: 0.0033 - acc: 1.0000 - auc: 1.0000 - val_loss: 0.1388 - val_acc: 0.9773 - val_auc: 0.9979\n",
      "Epoch 12/100\n",
      "3/3 [==============================] - 0s 31ms/step - loss: 0.0484 - acc: 0.9773 - auc: 1.0000 - val_loss: 0.1045 - val_acc: 0.9773 - val_auc: 0.9979\n",
      "Epoch 13/100\n",
      "3/3 [==============================] - 0s 27ms/step - loss: 0.0015 - acc: 1.0000 - auc: 1.0000 - val_loss: 0.0768 - val_acc: 0.9773 - val_auc: 0.9979\n",
      "Epoch 14/100\n",
      "3/3 [==============================] - 0s 29ms/step - loss: 4.7535e-04 - acc: 1.0000 - auc: 1.0000 - val_loss: 0.1877 - val_acc: 0.9545 - val_auc: 0.9968\n",
      "Epoch 15/100\n",
      "3/3 [==============================] - 0s 27ms/step - loss: 9.9660e-04 - acc: 1.0000 - auc: 1.0000 - val_loss: 0.4697 - val_acc: 0.8636 - val_auc: 0.9716\n",
      "Epoch 16/100\n",
      "3/3 [==============================] - 0s 26ms/step - loss: 0.0652 - acc: 0.9886 - auc: 0.9884 - val_loss: 0.6185 - val_acc: 0.8636 - val_auc: 0.9211\n",
      "Epoch 17/100\n",
      "3/3 [==============================] - 0s 43ms/step - loss: 0.0470 - acc: 0.9886 - auc: 1.0000 - val_loss: 0.3868 - val_acc: 0.8864 - val_auc: 0.9937\n",
      "Epoch 18/100\n",
      "3/3 [==============================] - 0s 26ms/step - loss: 0.0010 - acc: 1.0000 - auc: 1.0000 - val_loss: 0.2911 - val_acc: 0.9091 - val_auc: 0.9926\n",
      "Epoch 19/100\n",
      "3/3 [==============================] - 0s 26ms/step - loss: 5.6523e-04 - acc: 1.0000 - auc: 1.0000 - val_loss: 0.2434 - val_acc: 0.9091 - val_auc: 0.9926\n",
      "Epoch 20/100\n",
      "3/3 [==============================] - 0s 27ms/step - loss: 6.7745e-04 - acc: 1.0000 - auc: 1.0000 - val_loss: 0.2073 - val_acc: 0.9091 - val_auc: 0.9884\n",
      "3/3 [==============================] - 0s 5ms/step - loss: 0.1510 - acc: 0.9242 - auc: 0.9963\n"
     ]
    },
    {
     "name": "stderr",
     "output_type": "stream",
     "text": [
      "WARNING:absl:`lr` is deprecated in Keras optimizer, please use `learning_rate` or use the legacy optimizer, e.g.,tf.keras.optimizers.legacy.Adam.\n"
     ]
    },
    {
     "name": "stdout",
     "output_type": "stream",
     "text": [
      "Epoch 1/100\n",
      "3/3 [==============================] - 3s 188ms/step - loss: 0.6860 - acc: 0.5909 - auc: 0.6401 - val_loss: 0.6599 - val_acc: 0.7273 - val_auc: 0.8874\n",
      "Epoch 2/100\n",
      "3/3 [==============================] - 0s 30ms/step - loss: 0.5498 - acc: 0.9091 - auc: 0.9556 - val_loss: 0.4669 - val_acc: 0.8636 - val_auc: 0.9295\n",
      "Epoch 3/100\n",
      "3/3 [==============================] - 0s 31ms/step - loss: 0.2163 - acc: 0.9659 - auc: 0.9855 - val_loss: 0.4546 - val_acc: 0.7955 - val_auc: 0.9642\n",
      "Epoch 4/100\n",
      "3/3 [==============================] - 0s 26ms/step - loss: 0.0532 - acc: 0.9659 - auc: 1.0000 - val_loss: 0.2092 - val_acc: 0.9318 - val_auc: 0.9747\n",
      "Epoch 5/100\n",
      "3/3 [==============================] - 0s 44ms/step - loss: 0.0036 - acc: 1.0000 - auc: 1.0000 - val_loss: 0.6529 - val_acc: 0.8636 - val_auc: 0.9368\n",
      "Epoch 6/100\n",
      "3/3 [==============================] - 0s 24ms/step - loss: 0.0029 - acc: 1.0000 - auc: 1.0000 - val_loss: 0.2740 - val_acc: 0.9091 - val_auc: 0.9716\n",
      "Epoch 7/100\n",
      "3/3 [==============================] - 0s 24ms/step - loss: 3.5647e-06 - acc: 1.0000 - auc: 1.0000 - val_loss: 0.1105 - val_acc: 0.9545 - val_auc: 0.9937\n",
      "Epoch 8/100\n",
      "3/3 [==============================] - 0s 25ms/step - loss: 1.5170e-07 - acc: 1.0000 - auc: 1.0000 - val_loss: 0.1393 - val_acc: 0.9545 - val_auc: 0.9958\n",
      "Epoch 9/100\n",
      "3/3 [==============================] - 0s 28ms/step - loss: 1.6690e-08 - acc: 1.0000 - auc: 1.0000 - val_loss: 0.3182 - val_acc: 0.9545 - val_auc: 0.9579\n",
      "Epoch 10/100\n",
      "3/3 [==============================] - 0s 29ms/step - loss: 6.0346e-09 - acc: 1.0000 - auc: 1.0000 - val_loss: 0.4999 - val_acc: 0.9318 - val_auc: 0.9600\n",
      "Epoch 11/100\n",
      "3/3 [==============================] - 0s 25ms/step - loss: 3.3250e-09 - acc: 1.0000 - auc: 1.0000 - val_loss: 0.6589 - val_acc: 0.9318 - val_auc: 0.9600\n",
      "Epoch 12/100\n",
      "3/3 [==============================] - 0s 26ms/step - loss: 2.9932e-09 - acc: 1.0000 - auc: 1.0000 - val_loss: 0.7881 - val_acc: 0.9318 - val_auc: 0.9600\n",
      "Epoch 13/100\n",
      "3/3 [==============================] - 0s 26ms/step - loss: 5.3534e-09 - acc: 1.0000 - auc: 1.0000 - val_loss: 0.8899 - val_acc: 0.9318 - val_auc: 0.9600\n",
      "Epoch 14/100\n",
      "3/3 [==============================] - 0s 28ms/step - loss: 7.9510e-09 - acc: 1.0000 - auc: 1.0000 - val_loss: 0.9674 - val_acc: 0.9318 - val_auc: 0.9400\n",
      "Epoch 15/100\n",
      "3/3 [==============================] - 0s 28ms/step - loss: 1.8210e-08 - acc: 1.0000 - auc: 1.0000 - val_loss: 1.0262 - val_acc: 0.9318 - val_auc: 0.9400\n",
      "3/3 [==============================] - 0s 6ms/step - loss: 0.3603 - acc: 0.9848 - auc: 0.9848\n"
     ]
    },
    {
     "name": "stderr",
     "output_type": "stream",
     "text": [
      "WARNING:absl:`lr` is deprecated in Keras optimizer, please use `learning_rate` or use the legacy optimizer, e.g.,tf.keras.optimizers.legacy.Adam.\n"
     ]
    },
    {
     "name": "stdout",
     "output_type": "stream",
     "text": [
      "Epoch 1/100\n",
      "3/3 [==============================] - 3s 169ms/step - loss: 0.6882 - acc: 0.5455 - auc: 0.5319 - val_loss: 0.7029 - val_acc: 0.4318 - val_auc: 0.8032\n",
      "Epoch 2/100\n",
      "3/3 [==============================] - 0s 26ms/step - loss: 0.6232 - acc: 0.5909 - auc: 0.9414 - val_loss: 0.6639 - val_acc: 0.5455 - val_auc: 0.8105\n",
      "Epoch 3/100\n",
      "3/3 [==============================] - 0s 24ms/step - loss: 0.4027 - acc: 0.8864 - auc: 0.9882 - val_loss: 0.5381 - val_acc: 0.7955 - val_auc: 0.8179\n",
      "Epoch 4/100\n",
      "3/3 [==============================] - 0s 23ms/step - loss: 0.1426 - acc: 0.9773 - auc: 1.0000 - val_loss: 1.2922 - val_acc: 0.6818 - val_auc: 0.9453\n",
      "Epoch 5/100\n",
      "3/3 [==============================] - 0s 26ms/step - loss: 0.0346 - acc: 1.0000 - auc: 1.0000 - val_loss: 0.7581 - val_acc: 0.9091 - val_auc: 0.9411\n",
      "Epoch 6/100\n",
      "3/3 [==============================] - 0s 23ms/step - loss: 0.0675 - acc: 0.9773 - auc: 1.0000 - val_loss: 1.1235 - val_acc: 0.9091 - val_auc: 0.9579\n",
      "Epoch 7/100\n",
      "3/3 [==============================] - 0s 24ms/step - loss: 0.0288 - acc: 0.9886 - auc: 1.0000 - val_loss: 2.3798 - val_acc: 0.7727 - val_auc: 0.9000\n",
      "Epoch 8/100\n",
      "3/3 [==============================] - 0s 26ms/step - loss: 0.0396 - acc: 0.9886 - auc: 1.0000 - val_loss: 0.8046 - val_acc: 0.9545 - val_auc: 0.9526\n",
      "Epoch 9/100\n",
      "3/3 [==============================] - 0s 33ms/step - loss: 4.5716e-06 - acc: 1.0000 - auc: 1.0000 - val_loss: 2.3300 - val_acc: 0.7955 - val_auc: 0.7632\n",
      "Epoch 10/100\n",
      "3/3 [==============================] - 0s 28ms/step - loss: 0.0291 - acc: 0.9886 - auc: 1.0000 - val_loss: 0.9270 - val_acc: 0.9318 - val_auc: 0.9232\n",
      "Epoch 11/100\n",
      "3/3 [==============================] - 0s 28ms/step - loss: 3.3643e-06 - acc: 1.0000 - auc: 1.0000 - val_loss: 0.7764 - val_acc: 0.9773 - val_auc: 0.9789\n",
      "Epoch 12/100\n",
      "3/3 [==============================] - 0s 22ms/step - loss: 2.2933e-05 - acc: 1.0000 - auc: 1.0000 - val_loss: 1.2691 - val_acc: 0.9318 - val_auc: 0.9400\n",
      "Epoch 13/100\n",
      "3/3 [==============================] - 0s 23ms/step - loss: 1.7161e-04 - acc: 1.0000 - auc: 1.0000 - val_loss: 1.9373 - val_acc: 0.8636 - val_auc: 0.9000\n",
      "Epoch 14/100\n",
      "3/3 [==============================] - 0s 24ms/step - loss: 0.0144 - acc: 0.9886 - auc: 1.0000 - val_loss: 1.5435 - val_acc: 0.8864 - val_auc: 0.9200\n",
      "Epoch 15/100\n",
      "3/3 [==============================] - 0s 27ms/step - loss: 9.3782e-05 - acc: 1.0000 - auc: 1.0000 - val_loss: 1.0373 - val_acc: 0.9318 - val_auc: 0.9705\n",
      "3/3 [==============================] - 0s 5ms/step - loss: 0.1864 - acc: 0.9697 - auc: 0.9720\n"
     ]
    },
    {
     "name": "stderr",
     "output_type": "stream",
     "text": [
      "WARNING:absl:`lr` is deprecated in Keras optimizer, please use `learning_rate` or use the legacy optimizer, e.g.,tf.keras.optimizers.legacy.Adam.\n"
     ]
    },
    {
     "name": "stdout",
     "output_type": "stream",
     "text": [
      "Epoch 1/100\n",
      "3/3 [==============================] - 3s 155ms/step - loss: 0.6920 - acc: 0.5227 - auc: 0.5240 - val_loss: 0.6718 - val_acc: 0.6591 - val_auc: 0.6905\n",
      "Epoch 2/100\n",
      "3/3 [==============================] - 0s 33ms/step - loss: 0.6304 - acc: 0.8295 - auc: 0.9594 - val_loss: 0.6345 - val_acc: 0.7273 - val_auc: 0.7832\n",
      "Epoch 3/100\n",
      "3/3 [==============================] - 0s 46ms/step - loss: 0.5539 - acc: 0.8295 - auc: 0.9649 - val_loss: 0.5715 - val_acc: 0.7273 - val_auc: 0.8253\n",
      "Epoch 4/100\n",
      "3/3 [==============================] - 0s 38ms/step - loss: 0.4306 - acc: 0.9773 - auc: 0.9948 - val_loss: 0.5144 - val_acc: 0.7727 - val_auc: 0.8505\n",
      "Epoch 5/100\n",
      "3/3 [==============================] - 0s 30ms/step - loss: 0.2584 - acc: 0.9886 - auc: 1.0000 - val_loss: 0.4591 - val_acc: 0.7045 - val_auc: 0.8716\n",
      "Epoch 6/100\n",
      "3/3 [==============================] - 0s 21ms/step - loss: 0.1209 - acc: 1.0000 - auc: 1.0000 - val_loss: 0.4346 - val_acc: 0.7955 - val_auc: 0.8968\n",
      "Epoch 7/100\n",
      "3/3 [==============================] - 0s 19ms/step - loss: 0.0276 - acc: 1.0000 - auc: 1.0000 - val_loss: 0.3985 - val_acc: 0.8182 - val_auc: 0.9316\n",
      "Epoch 8/100\n",
      "3/3 [==============================] - 0s 19ms/step - loss: 0.0058 - acc: 1.0000 - auc: 1.0000 - val_loss: 0.4234 - val_acc: 0.8409 - val_auc: 0.9453\n",
      "Epoch 9/100\n",
      "3/3 [==============================] - 0s 21ms/step - loss: 8.0470e-04 - acc: 1.0000 - auc: 1.0000 - val_loss: 0.4581 - val_acc: 0.8409 - val_auc: 0.9579\n",
      "Epoch 10/100\n",
      "3/3 [==============================] - 0s 20ms/step - loss: 1.2237e-04 - acc: 1.0000 - auc: 1.0000 - val_loss: 0.4979 - val_acc: 0.8409 - val_auc: 0.9663\n",
      "Epoch 11/100\n",
      "3/3 [==============================] - 0s 21ms/step - loss: 1.8232e-05 - acc: 1.0000 - auc: 1.0000 - val_loss: 0.5323 - val_acc: 0.8409 - val_auc: 0.9537\n",
      "Epoch 12/100\n",
      "3/3 [==============================] - 0s 22ms/step - loss: 4.4065e-06 - acc: 1.0000 - auc: 1.0000 - val_loss: 0.5576 - val_acc: 0.8409 - val_auc: 0.9537\n",
      "Epoch 13/100\n",
      "3/3 [==============================] - 0s 33ms/step - loss: 1.4933e-06 - acc: 1.0000 - auc: 1.0000 - val_loss: 0.5768 - val_acc: 0.8409 - val_auc: 0.9537\n",
      "Epoch 14/100\n",
      "3/3 [==============================] - 0s 25ms/step - loss: 5.5007e-07 - acc: 1.0000 - auc: 1.0000 - val_loss: 0.5911 - val_acc: 0.8409 - val_auc: 0.9326\n",
      "Epoch 15/100\n",
      "3/3 [==============================] - 0s 22ms/step - loss: 2.7830e-07 - acc: 1.0000 - auc: 1.0000 - val_loss: 0.6020 - val_acc: 0.8409 - val_auc: 0.9326\n",
      "Epoch 16/100\n",
      "3/3 [==============================] - 0s 24ms/step - loss: 1.5461e-07 - acc: 1.0000 - auc: 1.0000 - val_loss: 0.6105 - val_acc: 0.8409 - val_auc: 0.9326\n",
      "3/3 [==============================] - 0s 5ms/step - loss: 0.3015 - acc: 0.9697 - auc: 0.9834\n"
     ]
    },
    {
     "name": "stderr",
     "output_type": "stream",
     "text": [
      "WARNING:absl:`lr` is deprecated in Keras optimizer, please use `learning_rate` or use the legacy optimizer, e.g.,tf.keras.optimizers.legacy.Adam.\n"
     ]
    },
    {
     "name": "stdout",
     "output_type": "stream",
     "text": [
      "Epoch 1/100\n",
      "3/3 [==============================] - 2s 446ms/step - loss: 0.6807 - acc: 0.6364 - auc: 0.6946 - val_loss: 0.6555 - val_acc: 0.8182 - val_auc: 0.8747\n",
      "Epoch 2/100\n",
      "3/3 [==============================] - 0s 28ms/step - loss: 0.5907 - acc: 0.9091 - auc: 0.9736 - val_loss: 0.5779 - val_acc: 0.8636 - val_auc: 0.9211\n",
      "Epoch 3/100\n",
      "3/3 [==============================] - 0s 26ms/step - loss: 0.4426 - acc: 0.9545 - auc: 0.9928 - val_loss: 0.4635 - val_acc: 0.8636 - val_auc: 0.9568\n",
      "Epoch 4/100\n",
      "3/3 [==============================] - 0s 25ms/step - loss: 0.2383 - acc: 0.9773 - auc: 1.0000 - val_loss: 0.2509 - val_acc: 0.9773 - val_auc: 0.9768\n",
      "Epoch 5/100\n",
      "3/3 [==============================] - 0s 27ms/step - loss: 0.0796 - acc: 1.0000 - auc: 1.0000 - val_loss: 0.1548 - val_acc: 0.9545 - val_auc: 0.9895\n",
      "Epoch 6/100\n",
      "3/3 [==============================] - 0s 26ms/step - loss: 0.0115 - acc: 1.0000 - auc: 1.0000 - val_loss: 0.1708 - val_acc: 0.9545 - val_auc: 0.9979\n",
      "Epoch 7/100\n",
      "3/3 [==============================] - 0s 26ms/step - loss: 0.0011 - acc: 1.0000 - auc: 1.0000 - val_loss: 0.1945 - val_acc: 0.9318 - val_auc: 0.9800\n",
      "Epoch 8/100\n",
      "3/3 [==============================] - 0s 23ms/step - loss: 1.3807e-04 - acc: 1.0000 - auc: 1.0000 - val_loss: 0.2137 - val_acc: 0.9318 - val_auc: 0.9800\n",
      "Epoch 9/100\n",
      "3/3 [==============================] - 0s 25ms/step - loss: 1.5207e-05 - acc: 1.0000 - auc: 1.0000 - val_loss: 0.2303 - val_acc: 0.9318 - val_auc: 0.9800\n",
      "Epoch 10/100\n",
      "3/3 [==============================] - 0s 21ms/step - loss: 1.9072e-06 - acc: 1.0000 - auc: 1.0000 - val_loss: 0.2433 - val_acc: 0.9318 - val_auc: 0.9800\n",
      "Epoch 11/100\n",
      "3/3 [==============================] - 0s 24ms/step - loss: 3.5126e-07 - acc: 1.0000 - auc: 1.0000 - val_loss: 0.2527 - val_acc: 0.9318 - val_auc: 0.9800\n",
      "Epoch 12/100\n",
      "3/3 [==============================] - 0s 23ms/step - loss: 8.4200e-08 - acc: 1.0000 - auc: 1.0000 - val_loss: 0.2601 - val_acc: 0.9318 - val_auc: 0.9800\n",
      "Epoch 13/100\n",
      "3/3 [==============================] - 0s 28ms/step - loss: 2.9031e-08 - acc: 1.0000 - auc: 1.0000 - val_loss: 0.2655 - val_acc: 0.9318 - val_auc: 0.9800\n",
      "Epoch 14/100\n",
      "3/3 [==============================] - 0s 23ms/step - loss: 1.4050e-08 - acc: 1.0000 - auc: 1.0000 - val_loss: 0.2696 - val_acc: 0.9318 - val_auc: 0.9800\n",
      "Epoch 15/100\n",
      "3/3 [==============================] - 0s 23ms/step - loss: 8.4922e-09 - acc: 1.0000 - auc: 1.0000 - val_loss: 0.2726 - val_acc: 0.9318 - val_auc: 0.9800\n",
      "3/3 [==============================] - 0s 4ms/step - loss: 0.5228 - acc: 0.9242 - auc: 0.9472\n"
     ]
    },
    {
     "name": "stderr",
     "output_type": "stream",
     "text": [
      "WARNING:absl:`lr` is deprecated in Keras optimizer, please use `learning_rate` or use the legacy optimizer, e.g.,tf.keras.optimizers.legacy.Adam.\n"
     ]
    },
    {
     "name": "stdout",
     "output_type": "stream",
     "text": [
      "Epoch 1/100\n",
      "3/3 [==============================] - 2s 135ms/step - loss: 0.6849 - acc: 0.5795 - auc: 0.5557 - val_loss: 0.7116 - val_acc: 0.4545 - val_auc: 0.4895\n",
      "Epoch 2/100\n",
      "3/3 [==============================] - 0s 22ms/step - loss: 0.6048 - acc: 0.7955 - auc: 0.9610 - val_loss: 0.6850 - val_acc: 0.5909 - val_auc: 0.6442\n",
      "Epoch 3/100\n",
      "3/3 [==============================] - 0s 22ms/step - loss: 0.4851 - acc: 0.9091 - auc: 0.9856 - val_loss: 0.6614 - val_acc: 0.6818 - val_auc: 0.7179\n",
      "Epoch 4/100\n",
      "3/3 [==============================] - 0s 22ms/step - loss: 0.3074 - acc: 0.9432 - auc: 0.9979 - val_loss: 0.6214 - val_acc: 0.7273 - val_auc: 0.7811\n",
      "Epoch 5/100\n",
      "3/3 [==============================] - 0s 22ms/step - loss: 0.1360 - acc: 0.9886 - auc: 0.9995 - val_loss: 0.6770 - val_acc: 0.7955 - val_auc: 0.8305\n",
      "Epoch 6/100\n",
      "3/3 [==============================] - 0s 23ms/step - loss: 0.0362 - acc: 1.0000 - auc: 1.0000 - val_loss: 0.8376 - val_acc: 0.7727 - val_auc: 0.8663\n",
      "Epoch 7/100\n",
      "3/3 [==============================] - 0s 22ms/step - loss: 0.0052 - acc: 1.0000 - auc: 1.0000 - val_loss: 0.9884 - val_acc: 0.7727 - val_auc: 0.9032\n",
      "Epoch 8/100\n",
      "3/3 [==============================] - 0s 22ms/step - loss: 4.3558e-04 - acc: 1.0000 - auc: 1.0000 - val_loss: 1.1200 - val_acc: 0.8409 - val_auc: 0.9147\n",
      "Epoch 9/100\n",
      "3/3 [==============================] - 0s 22ms/step - loss: 3.6547e-05 - acc: 1.0000 - auc: 1.0000 - val_loss: 1.2517 - val_acc: 0.8636 - val_auc: 0.9168\n",
      "Epoch 10/100\n",
      "3/3 [==============================] - 0s 22ms/step - loss: 3.8825e-06 - acc: 1.0000 - auc: 1.0000 - val_loss: 1.3775 - val_acc: 0.8864 - val_auc: 0.9168\n",
      "Epoch 11/100\n",
      "3/3 [==============================] - 0s 22ms/step - loss: 1.1743e-06 - acc: 1.0000 - auc: 1.0000 - val_loss: 1.4869 - val_acc: 0.9091 - val_auc: 0.9221\n",
      "Epoch 12/100\n",
      "3/3 [==============================] - 0s 22ms/step - loss: 2.8274e-07 - acc: 1.0000 - auc: 1.0000 - val_loss: 1.5776 - val_acc: 0.9318 - val_auc: 0.9242\n",
      "Epoch 13/100\n",
      "3/3 [==============================] - 0s 23ms/step - loss: 1.1520e-07 - acc: 1.0000 - auc: 1.0000 - val_loss: 1.6510 - val_acc: 0.9318 - val_auc: 0.9242\n",
      "Epoch 14/100\n",
      "3/3 [==============================] - 0s 23ms/step - loss: 5.5767e-08 - acc: 1.0000 - auc: 1.0000 - val_loss: 1.7094 - val_acc: 0.9318 - val_auc: 0.9242\n",
      "Epoch 15/100\n",
      "3/3 [==============================] - 0s 26ms/step - loss: 3.1878e-08 - acc: 1.0000 - auc: 1.0000 - val_loss: 1.7550 - val_acc: 0.9318 - val_auc: 0.9242\n",
      "Epoch 16/100\n",
      "3/3 [==============================] - 0s 26ms/step - loss: 2.0111e-08 - acc: 1.0000 - auc: 1.0000 - val_loss: 1.7902 - val_acc: 0.9318 - val_auc: 0.9242\n",
      "3/3 [==============================] - 0s 5ms/step - loss: 0.3233 - acc: 0.9394 - auc: 0.9790\n"
     ]
    },
    {
     "name": "stderr",
     "output_type": "stream",
     "text": [
      "WARNING:absl:`lr` is deprecated in Keras optimizer, please use `learning_rate` or use the legacy optimizer, e.g.,tf.keras.optimizers.legacy.Adam.\n"
     ]
    },
    {
     "name": "stdout",
     "output_type": "stream",
     "text": [
      "Epoch 1/100\n",
      "5/5 [==============================] - 2s 86ms/step - loss: 0.6980 - acc: 0.4621 - auc: 0.4565 - val_loss: 0.6797 - val_acc: 0.6667 - val_auc: 0.9007\n",
      "Epoch 2/100\n",
      "5/5 [==============================] - 0s 21ms/step - loss: 0.6509 - acc: 0.7424 - auc: 0.9586 - val_loss: 0.5351 - val_acc: 0.7879 - val_auc: 0.9748\n",
      "Epoch 3/100\n",
      "5/5 [==============================] - 0s 19ms/step - loss: 0.3690 - acc: 0.9242 - auc: 0.9838 - val_loss: 0.2316 - val_acc: 0.9091 - val_auc: 0.9776\n",
      "Epoch 4/100\n",
      "5/5 [==============================] - 0s 18ms/step - loss: 0.0775 - acc: 0.9848 - auc: 0.9995 - val_loss: 0.1829 - val_acc: 0.9394 - val_auc: 0.9856\n",
      "Epoch 5/100\n",
      "5/5 [==============================] - 0s 18ms/step - loss: 0.1360 - acc: 0.9697 - auc: 0.9886 - val_loss: 0.1020 - val_acc: 0.9848 - val_auc: 0.9911\n",
      "Epoch 6/100\n",
      "5/5 [==============================] - 0s 17ms/step - loss: 0.0059 - acc: 1.0000 - auc: 1.0000 - val_loss: 0.2124 - val_acc: 0.9091 - val_auc: 0.9953\n",
      "Epoch 7/100\n",
      "5/5 [==============================] - 0s 20ms/step - loss: 0.0649 - acc: 0.9848 - auc: 0.9906 - val_loss: 0.4112 - val_acc: 0.8939 - val_auc: 0.9851\n",
      "Epoch 8/100\n",
      "5/5 [==============================] - 0s 20ms/step - loss: 0.0021 - acc: 1.0000 - auc: 1.0000 - val_loss: 0.0650 - val_acc: 0.9848 - val_auc: 0.9991\n",
      "Epoch 9/100\n",
      "5/5 [==============================] - 0s 20ms/step - loss: 0.0706 - acc: 0.9924 - auc: 0.9926 - val_loss: 0.0923 - val_acc: 0.9545 - val_auc: 0.9991\n",
      "Epoch 10/100\n",
      "5/5 [==============================] - 0s 19ms/step - loss: 0.0403 - acc: 0.9924 - auc: 0.9998 - val_loss: 0.2845 - val_acc: 0.8939 - val_auc: 0.9972\n",
      "Epoch 11/100\n",
      "5/5 [==============================] - 0s 20ms/step - loss: 0.0161 - acc: 0.9924 - auc: 1.0000 - val_loss: 0.1794 - val_acc: 0.9242 - val_auc: 0.9991\n",
      "Epoch 12/100\n",
      "5/5 [==============================] - 0s 19ms/step - loss: 0.0022 - acc: 1.0000 - auc: 1.0000 - val_loss: 0.1186 - val_acc: 0.9394 - val_auc: 1.0000\n",
      "Epoch 13/100\n",
      "5/5 [==============================] - 0s 20ms/step - loss: 5.3494e-04 - acc: 1.0000 - auc: 1.0000 - val_loss: 0.0674 - val_acc: 0.9697 - val_auc: 1.0000\n",
      "Epoch 14/100\n",
      "5/5 [==============================] - 0s 19ms/step - loss: 1.2484e-04 - acc: 1.0000 - auc: 1.0000 - val_loss: 0.0330 - val_acc: 0.9848 - val_auc: 1.0000\n",
      "Epoch 15/100\n",
      "5/5 [==============================] - 0s 18ms/step - loss: 2.9290e-05 - acc: 1.0000 - auc: 1.0000 - val_loss: 0.0131 - val_acc: 0.9848 - val_auc: 1.0000\n",
      "Epoch 16/100\n",
      "5/5 [==============================] - 0s 18ms/step - loss: 8.2740e-06 - acc: 1.0000 - auc: 1.0000 - val_loss: 0.0035 - val_acc: 1.0000 - val_auc: 1.0000\n"
     ]
    },
    {
     "data": {
      "text/html": [
       "<style>#sk-container-id-1 {color: black;background-color: white;}#sk-container-id-1 pre{padding: 0;}#sk-container-id-1 div.sk-toggleable {background-color: white;}#sk-container-id-1 label.sk-toggleable__label {cursor: pointer;display: block;width: 100%;margin-bottom: 0;padding: 0.3em;box-sizing: border-box;text-align: center;}#sk-container-id-1 label.sk-toggleable__label-arrow:before {content: \"▸\";float: left;margin-right: 0.25em;color: #696969;}#sk-container-id-1 label.sk-toggleable__label-arrow:hover:before {color: black;}#sk-container-id-1 div.sk-estimator:hover label.sk-toggleable__label-arrow:before {color: black;}#sk-container-id-1 div.sk-toggleable__content {max-height: 0;max-width: 0;overflow: hidden;text-align: left;background-color: #f0f8ff;}#sk-container-id-1 div.sk-toggleable__content pre {margin: 0.2em;color: black;border-radius: 0.25em;background-color: #f0f8ff;}#sk-container-id-1 input.sk-toggleable__control:checked~div.sk-toggleable__content {max-height: 200px;max-width: 100%;overflow: auto;}#sk-container-id-1 input.sk-toggleable__control:checked~label.sk-toggleable__label-arrow:before {content: \"▾\";}#sk-container-id-1 div.sk-estimator input.sk-toggleable__control:checked~label.sk-toggleable__label {background-color: #d4ebff;}#sk-container-id-1 div.sk-label input.sk-toggleable__control:checked~label.sk-toggleable__label {background-color: #d4ebff;}#sk-container-id-1 input.sk-hidden--visually {border: 0;clip: rect(1px 1px 1px 1px);clip: rect(1px, 1px, 1px, 1px);height: 1px;margin: -1px;overflow: hidden;padding: 0;position: absolute;width: 1px;}#sk-container-id-1 div.sk-estimator {font-family: monospace;background-color: #f0f8ff;border: 1px dotted black;border-radius: 0.25em;box-sizing: border-box;margin-bottom: 0.5em;}#sk-container-id-1 div.sk-estimator:hover {background-color: #d4ebff;}#sk-container-id-1 div.sk-parallel-item::after {content: \"\";width: 100%;border-bottom: 1px solid gray;flex-grow: 1;}#sk-container-id-1 div.sk-label:hover label.sk-toggleable__label {background-color: #d4ebff;}#sk-container-id-1 div.sk-serial::before {content: \"\";position: absolute;border-left: 1px solid gray;box-sizing: border-box;top: 0;bottom: 0;left: 50%;z-index: 0;}#sk-container-id-1 div.sk-serial {display: flex;flex-direction: column;align-items: center;background-color: white;padding-right: 0.2em;padding-left: 0.2em;position: relative;}#sk-container-id-1 div.sk-item {position: relative;z-index: 1;}#sk-container-id-1 div.sk-parallel {display: flex;align-items: stretch;justify-content: center;background-color: white;position: relative;}#sk-container-id-1 div.sk-item::before, #sk-container-id-1 div.sk-parallel-item::before {content: \"\";position: absolute;border-left: 1px solid gray;box-sizing: border-box;top: 0;bottom: 0;left: 50%;z-index: -1;}#sk-container-id-1 div.sk-parallel-item {display: flex;flex-direction: column;z-index: 1;position: relative;background-color: white;}#sk-container-id-1 div.sk-parallel-item:first-child::after {align-self: flex-end;width: 50%;}#sk-container-id-1 div.sk-parallel-item:last-child::after {align-self: flex-start;width: 50%;}#sk-container-id-1 div.sk-parallel-item:only-child::after {width: 0;}#sk-container-id-1 div.sk-dashed-wrapped {border: 1px dashed gray;margin: 0 0.4em 0.5em 0.4em;box-sizing: border-box;padding-bottom: 0.4em;background-color: white;}#sk-container-id-1 div.sk-label label {font-family: monospace;font-weight: bold;display: inline-block;line-height: 1.2em;}#sk-container-id-1 div.sk-label-container {text-align: center;}#sk-container-id-1 div.sk-container {/* jupyter's `normalize.less` sets `[hidden] { display: none; }` but bootstrap.min.css set `[hidden] { display: none !important; }` so we also need the `!important` here to be able to override the default hidden behavior on the sphinx rendered scikit-learn.org. See: https://github.com/scikit-learn/scikit-learn/issues/21755 */display: inline-block !important;position: relative;}#sk-container-id-1 div.sk-text-repr-fallback {display: none;}</style><div id=\"sk-container-id-1\" class=\"sk-top-container\"><div class=\"sk-text-repr-fallback\"><pre>RandomizedSearchCV(cv=3,\n",
       "                   estimator=&lt;keras.wrappers.scikit_learn.KerasClassifier object at 0x0000015BA91B7C10&gt;,\n",
       "                   param_distributions={&#x27;learning_rate&#x27;: array([0.0003]),\n",
       "                                        &#x27;n_hidden&#x27;: array([1, 2, 3, 4, 5, 6, 7, 8, 9]),\n",
       "                                        &#x27;n_neurons&#x27;: array([  1,   2,   3,   4,   5,   6,   7,   8,   9,  10,  11,  12,  13,\n",
       "        14,  15,  16,  17,  18,  19,  20,  21,  22,  23,  24,  25,  26,\n",
       "        27,  28,  29,  30,  31,  32,  33,  34,  35,  36,  37,  38,  39,\n",
       "        40,  41,  42,  43,  44,  45,  46,  47,  48...\n",
       "       209, 210, 211, 212, 213, 214, 215, 216, 217, 218, 219, 220, 221,\n",
       "       222, 223, 224, 225, 226, 227, 228, 229, 230, 231, 232, 233, 234,\n",
       "       235, 236, 237, 238, 239, 240, 241, 242, 243, 244, 245, 246, 247,\n",
       "       248, 249, 250, 251, 252, 253, 254, 255, 256, 257, 258, 259, 260,\n",
       "       261, 262, 263, 264, 265, 266, 267, 268, 269, 270, 271, 272, 273,\n",
       "       274, 275, 276, 277, 278, 279, 280, 281, 282, 283, 284, 285, 286,\n",
       "       287, 288, 289, 290, 291, 292, 293, 294, 295, 296, 297, 298, 299])})</pre><b>In a Jupyter environment, please rerun this cell to show the HTML representation or trust the notebook. <br />On GitHub, the HTML representation is unable to render, please try loading this page with nbviewer.org.</b></div><div class=\"sk-container\" hidden><div class=\"sk-item sk-dashed-wrapped\"><div class=\"sk-label-container\"><div class=\"sk-label sk-toggleable\"><input class=\"sk-toggleable__control sk-hidden--visually\" id=\"sk-estimator-id-1\" type=\"checkbox\" ><label for=\"sk-estimator-id-1\" class=\"sk-toggleable__label sk-toggleable__label-arrow\">RandomizedSearchCV</label><div class=\"sk-toggleable__content\"><pre>RandomizedSearchCV(cv=3,\n",
       "                   estimator=&lt;keras.wrappers.scikit_learn.KerasClassifier object at 0x0000015BA91B7C10&gt;,\n",
       "                   param_distributions={&#x27;learning_rate&#x27;: array([0.0003]),\n",
       "                                        &#x27;n_hidden&#x27;: array([1, 2, 3, 4, 5, 6, 7, 8, 9]),\n",
       "                                        &#x27;n_neurons&#x27;: array([  1,   2,   3,   4,   5,   6,   7,   8,   9,  10,  11,  12,  13,\n",
       "        14,  15,  16,  17,  18,  19,  20,  21,  22,  23,  24,  25,  26,\n",
       "        27,  28,  29,  30,  31,  32,  33,  34,  35,  36,  37,  38,  39,\n",
       "        40,  41,  42,  43,  44,  45,  46,  47,  48...\n",
       "       209, 210, 211, 212, 213, 214, 215, 216, 217, 218, 219, 220, 221,\n",
       "       222, 223, 224, 225, 226, 227, 228, 229, 230, 231, 232, 233, 234,\n",
       "       235, 236, 237, 238, 239, 240, 241, 242, 243, 244, 245, 246, 247,\n",
       "       248, 249, 250, 251, 252, 253, 254, 255, 256, 257, 258, 259, 260,\n",
       "       261, 262, 263, 264, 265, 266, 267, 268, 269, 270, 271, 272, 273,\n",
       "       274, 275, 276, 277, 278, 279, 280, 281, 282, 283, 284, 285, 286,\n",
       "       287, 288, 289, 290, 291, 292, 293, 294, 295, 296, 297, 298, 299])})</pre></div></div></div><div class=\"sk-parallel\"><div class=\"sk-parallel-item\"><div class=\"sk-item\"><div class=\"sk-label-container\"><div class=\"sk-label sk-toggleable\"><input class=\"sk-toggleable__control sk-hidden--visually\" id=\"sk-estimator-id-2\" type=\"checkbox\" ><label for=\"sk-estimator-id-2\" class=\"sk-toggleable__label sk-toggleable__label-arrow\">estimator: KerasClassifier</label><div class=\"sk-toggleable__content\"><pre>&lt;keras.wrappers.scikit_learn.KerasClassifier object at 0x0000015BA91B7C10&gt;</pre></div></div></div><div class=\"sk-serial\"><div class=\"sk-item\"><div class=\"sk-estimator sk-toggleable\"><input class=\"sk-toggleable__control sk-hidden--visually\" id=\"sk-estimator-id-3\" type=\"checkbox\" ><label for=\"sk-estimator-id-3\" class=\"sk-toggleable__label sk-toggleable__label-arrow\">KerasClassifier</label><div class=\"sk-toggleable__content\"><pre>&lt;keras.wrappers.scikit_learn.KerasClassifier object at 0x0000015BA91B7C10&gt;</pre></div></div></div></div></div></div></div></div></div></div>"
      ],
      "text/plain": [
       "RandomizedSearchCV(cv=3,\n",
       "                   estimator=<keras.wrappers.scikit_learn.KerasClassifier object at 0x0000015BA91B7C10>,\n",
       "                   param_distributions={'learning_rate': array([0.0003]),\n",
       "                                        'n_hidden': array([1, 2, 3, 4, 5, 6, 7, 8, 9]),\n",
       "                                        'n_neurons': array([  1,   2,   3,   4,   5,   6,   7,   8,   9,  10,  11,  12,  13,\n",
       "        14,  15,  16,  17,  18,  19,  20,  21,  22,  23,  24,  25,  26,\n",
       "        27,  28,  29,  30,  31,  32,  33,  34,  35,  36,  37,  38,  39,\n",
       "        40,  41,  42,  43,  44,  45,  46,  47,  48...\n",
       "       209, 210, 211, 212, 213, 214, 215, 216, 217, 218, 219, 220, 221,\n",
       "       222, 223, 224, 225, 226, 227, 228, 229, 230, 231, 232, 233, 234,\n",
       "       235, 236, 237, 238, 239, 240, 241, 242, 243, 244, 245, 246, 247,\n",
       "       248, 249, 250, 251, 252, 253, 254, 255, 256, 257, 258, 259, 260,\n",
       "       261, 262, 263, 264, 265, 266, 267, 268, 269, 270, 271, 272, 273,\n",
       "       274, 275, 276, 277, 278, 279, 280, 281, 282, 283, 284, 285, 286,\n",
       "       287, 288, 289, 290, 291, 292, 293, 294, 295, 296, 297, 298, 299])})"
      ]
     },
     "execution_count": 98,
     "metadata": {},
     "output_type": "execute_result"
    }
   ],
   "source": [
    "random_search.fit(X_train, y_train, batch_size=32, epochs=100, validation_split=0.33,\n",
    "                  callbacks=[keras.callbacks.EarlyStopping(monitor='acc', patience=10)])"
   ]
  },
  {
   "cell_type": "code",
   "execution_count": 99,
   "id": "ad702af1",
   "metadata": {},
   "outputs": [
    {
     "data": {
      "text/plain": [
       "{'n_neurons': 250, 'n_hidden': 9, 'learning_rate': 0.0003}"
      ]
     },
     "execution_count": 99,
     "metadata": {},
     "output_type": "execute_result"
    }
   ],
   "source": [
    "random_search.best_params_"
   ]
  },
  {
   "cell_type": "code",
   "execution_count": 100,
   "id": "537d2f92",
   "metadata": {},
   "outputs": [
    {
     "name": "stderr",
     "output_type": "stream",
     "text": [
      "WARNING:absl:`lr` is deprecated in Keras optimizer, please use `learning_rate` or use the legacy optimizer, e.g.,tf.keras.optimizers.legacy.Adam.\n"
     ]
    },
    {
     "name": "stdout",
     "output_type": "stream",
     "text": [
      "Model: \"sequential_34\"\n",
      "_________________________________________________________________\n",
      " Layer (type)                Output Shape              Param #   \n",
      "=================================================================\n",
      " dense_220 (Dense)           (None, 166)               5810      \n",
      "                                                                 \n",
      " dense_221 (Dense)           (None, 166)               27722     \n",
      "                                                                 \n",
      " dense_222 (Dense)           (None, 166)               27722     \n",
      "                                                                 \n",
      " dense_223 (Dense)           (None, 166)               27722     \n",
      "                                                                 \n",
      " dense_224 (Dense)           (None, 166)               27722     \n",
      "                                                                 \n",
      " dense_225 (Dense)           (None, 166)               27722     \n",
      "                                                                 \n",
      " dense_226 (Dense)           (None, 1)                 167       \n",
      "                                                                 \n",
      "=================================================================\n",
      "Total params: 144,587\n",
      "Trainable params: 144,587\n",
      "Non-trainable params: 0\n",
      "_________________________________________________________________\n"
     ]
    }
   ],
   "source": [
    "model = keras.models.Sequential()\n",
    "model.add(keras.layers.Input(shape=X_train.shape[1]))\n",
    "model.add(keras.layers.Dense(166, activation='relu'))\n",
    "model.add(keras.layers.Dense(166, activation='relu'))\n",
    "model.add(keras.layers.Dense(166, activation='relu'))\n",
    "model.add(keras.layers.Dense(166, activation='relu'))\n",
    "model.add(keras.layers.Dense(166, activation='relu'))\n",
    "model.add(keras.layers.Dense(166, activation='relu'))\n",
    "model.add(keras.layers.Dense(1, activation='sigmoid'))\n",
    "\n",
    "model.compile(loss='binary_crossentropy',\n",
    "              optimizer=keras.optimizers.Adam(lr=0.0003),metrics=['acc', 'AUC'])\n",
    "model.summary()"
   ]
  },
  {
   "cell_type": "code",
   "execution_count": 101,
   "id": "6ea4a1b0",
   "metadata": {
    "scrolled": true
   },
   "outputs": [
    {
     "name": "stdout",
     "output_type": "stream",
     "text": [
      "Epoch 1/100\n",
      "5/5 [==============================] - 2s 64ms/step - loss: 0.6910 - acc: 0.5000 - auc: 0.5371 - val_loss: 0.6562 - val_acc: 0.7576 - val_auc: 0.8816\n",
      "Epoch 2/100\n",
      "5/5 [==============================] - 0s 13ms/step - loss: 0.6181 - acc: 0.8258 - auc: 0.9386 - val_loss: 0.5602 - val_acc: 0.8333 - val_auc: 0.9623\n",
      "Epoch 3/100\n",
      "5/5 [==============================] - 0s 14ms/step - loss: 0.4652 - acc: 0.9470 - auc: 0.9893 - val_loss: 0.3636 - val_acc: 0.9091 - val_auc: 0.9828\n",
      "Epoch 4/100\n",
      "5/5 [==============================] - 0s 14ms/step - loss: 0.2177 - acc: 0.9773 - auc: 0.9962 - val_loss: 0.2120 - val_acc: 0.9091 - val_auc: 0.9944\n",
      "Epoch 5/100\n",
      "5/5 [==============================] - 0s 13ms/step - loss: 0.0443 - acc: 0.9924 - auc: 1.0000 - val_loss: 0.0864 - val_acc: 0.9697 - val_auc: 0.9939\n",
      "Epoch 6/100\n",
      "5/5 [==============================] - 0s 13ms/step - loss: 0.0117 - acc: 0.9924 - auc: 1.0000 - val_loss: 0.1148 - val_acc: 0.9394 - val_auc: 0.9972\n",
      "Epoch 7/100\n",
      "5/5 [==============================] - 0s 13ms/step - loss: 7.0008e-04 - acc: 1.0000 - auc: 1.0000 - val_loss: 0.2525 - val_acc: 0.8939 - val_auc: 0.9972\n",
      "Epoch 8/100\n",
      "5/5 [==============================] - 0s 13ms/step - loss: 0.0350 - acc: 0.9924 - auc: 1.0000 - val_loss: 0.1221 - val_acc: 0.9848 - val_auc: 0.9823\n",
      "Epoch 9/100\n",
      "5/5 [==============================] - 0s 13ms/step - loss: 0.0480 - acc: 0.9924 - auc: 0.9926 - val_loss: 0.0576 - val_acc: 0.9697 - val_auc: 0.9991\n",
      "Epoch 10/100\n",
      "5/5 [==============================] - 0s 13ms/step - loss: 2.8981e-05 - acc: 1.0000 - auc: 1.0000 - val_loss: 0.6746 - val_acc: 0.8788 - val_auc: 0.9459\n",
      "Epoch 11/100\n",
      "5/5 [==============================] - 0s 14ms/step - loss: 0.0062 - acc: 1.0000 - auc: 1.0000 - val_loss: 0.3230 - val_acc: 0.9091 - val_auc: 0.9865\n",
      "Epoch 12/100\n",
      "5/5 [==============================] - 0s 14ms/step - loss: 4.7293e-05 - acc: 1.0000 - auc: 1.0000 - val_loss: 0.1003 - val_acc: 0.9848 - val_auc: 0.9860\n",
      "Epoch 13/100\n",
      "5/5 [==============================] - 0s 13ms/step - loss: 1.7251e-05 - acc: 1.0000 - auc: 1.0000 - val_loss: 0.0654 - val_acc: 0.9848 - val_auc: 0.9991\n",
      "Epoch 14/100\n",
      "5/5 [==============================] - 0s 13ms/step - loss: 1.4988e-05 - acc: 1.0000 - auc: 1.0000 - val_loss: 0.0534 - val_acc: 0.9848 - val_auc: 0.9991\n",
      "Epoch 15/100\n",
      "5/5 [==============================] - 0s 13ms/step - loss: 2.1851e-05 - acc: 1.0000 - auc: 1.0000 - val_loss: 0.0489 - val_acc: 0.9848 - val_auc: 0.9991\n",
      "Epoch 16/100\n",
      "5/5 [==============================] - 0s 13ms/step - loss: 5.8748e-05 - acc: 1.0000 - auc: 1.0000 - val_loss: 0.0476 - val_acc: 0.9697 - val_auc: 0.9991\n",
      "Epoch 17/100\n",
      "5/5 [==============================] - 0s 14ms/step - loss: 7.5340e-05 - acc: 1.0000 - auc: 1.0000 - val_loss: 0.0470 - val_acc: 0.9697 - val_auc: 0.9991\n"
     ]
    }
   ],
   "source": [
    "history = model.fit(X_train, y_train, batch_size=32, epochs=100, validation_split=0.33,\n",
    "                  callbacks=[keras.callbacks.EarlyStopping(monitor='acc', patience=10)])"
   ]
  },
  {
   "cell_type": "code",
   "execution_count": 102,
   "id": "ff761c80",
   "metadata": {},
   "outputs": [
    {
     "name": "stdout",
     "output_type": "stream",
     "text": [
      "dict_keys(['loss', 'acc', 'auc', 'val_loss', 'val_acc', 'val_auc'])\n"
     ]
    },
    {
     "data": {
      "image/png": "[encoded data removed]",
      "text/plain": [
       "<Figure size 800x550 with 1 Axes>"
      ]
     },
     "metadata": {},
     "output_type": "display_data"
    },
    {
     "name": "stdout",
     "output_type": "stream",
     "text": [
      "dict_keys(['loss', 'acc', 'auc', 'val_loss', 'val_acc', 'val_auc'])\n"
     ]
    },
    {
     "data": {
      "image/png": "[encoded data removed]",
      "text/plain": [
       "<Figure size 800x550 with 1 Axes>"
      ]
     },
     "metadata": {},
     "output_type": "display_data"
    }
   ],
   "source": [
    "print(history.history.keys())\n",
    "# \"Loss\"\n",
    "plt.plot(history.history['acc'])\n",
    "plt.plot(history.history['val_acc'])\n",
    "plt.title('model loss')\n",
    "plt.ylabel('AUC')\n",
    "plt.xlabel('epoch')\n",
    "plt.legend(['train', 'validation'], loc='upper left')\n",
    "plt.show()\n",
    "\n",
    "print(history.history.keys())\n",
    "# \"Loss\"\n",
    "plt.plot(history.history['auc'])\n",
    "plt.plot(history.history['val_auc'])\n",
    "plt.title('model loss')\n",
    "plt.ylabel('AUC')\n",
    "plt.xlabel('epoch')\n",
    "plt.legend(['train', 'validation'], loc='upper left')\n",
    "plt.show()"
   ]
  },
  {
   "cell_type": "code",
   "execution_count": 103,
   "id": "32ae2cbd",
   "metadata": {},
   "outputs": [
    {
     "name": "stdout",
     "output_type": "stream",
     "text": [
      "4/4 [==============================] - 0s 2ms/step\n"
     ]
    },
    {
     "data": {
      "image/png": "[encoded data removed]",
      "text/plain": [
       "<Figure size 1500x600 with 1 Axes>"
      ]
     },
     "metadata": {},
     "output_type": "display_data"
    }
   ],
   "source": [
    "y_pred = model.predict(X_test) \n",
    "\n",
    "plt.figure(figsize=(15,6))\n",
    "\n",
    "for res, c, name in zip([0,1], ['r', 'b'], ['False', 'True']):\n",
    "    plt.scatter(X_train[:,0][y_train==res],X_train[:,1][y_train==res],c=c, label=name+' train', alpha=.3)\n",
    "#color_mapping = [{0:'red',1:'green',2:'blue'}[i] for i in y_pred]\n",
    "\n",
    "\n",
    "for res, c, name in zip([0,1], ['r', 'b'], ['False', 'True']):\n",
    "    plt.scatter(X_test[:,0][y_test==res],X_test[:,1][y_test==res],c=c, label=name+' test')\n",
    "\n",
    "plt.legend()\n",
    "plt.title('Classification ANN');"
   ]
  },
  {
   "cell_type": "code",
   "execution_count": 104,
   "id": "49391ad7",
   "metadata": {},
   "outputs": [
    {
     "data": {
      "text/plain": [
       "0.98989898989899"
      ]
     },
     "execution_count": 104,
     "metadata": {},
     "output_type": "execute_result"
    }
   ],
   "source": [
    "accuracy_score(y_test, y_pred.round())"
   ]
  },
  {
   "cell_type": "markdown",
   "id": "c87f4f14",
   "metadata": {},
   "source": [
    "Increase of 0.009 accuracy."
   ]
  },
  {
   "cell_type": "code",
   "execution_count": 105,
   "id": "6bd2d12d",
   "metadata": {},
   "outputs": [
    {
     "name": "stdout",
     "output_type": "stream",
     "text": [
      "              precision    recall  f1-score   support\n",
      "\n",
      "         0.0       1.00      0.98      0.99        41\n",
      "         1.0       0.98      1.00      0.99        58\n",
      "\n",
      "    accuracy                           0.99        99\n",
      "   macro avg       0.99      0.99      0.99        99\n",
      "weighted avg       0.99      0.99      0.99        99\n",
      "\n"
     ]
    }
   ],
   "source": [
    "print(classification_report(y_test, y_pred.round()))"
   ]
  },
  {
   "cell_type": "markdown",
   "id": "37f3146a",
   "metadata": {},
   "source": [
    "## ANN - Regression\n",
    "In the following section, we will present the creation of an ANN that is used for regression.\n",
    "A large part of the development is much the same as with the creation of ANN for classification.\n",
    "\n",
    "For this example I have found a dataset made for regression on Kaggle: winequality-red.csv\n",
    "https://www.kaggle.com/datasets/sh6147782/winequalityred"
   ]
  },
  {
   "cell_type": "code",
   "execution_count": 106,
   "id": "9eb85bf3",
   "metadata": {},
   "outputs": [
    {
     "ename": "FileNotFoundError",
     "evalue": "[Errno 2] No such file or directory: 'winequality-red.csv'",
     "output_type": "error",
     "traceback": [
      "\u001b[1;31m---------------------------------------------------------------------------\u001b[0m",
      "\u001b[1;31mFileNotFoundError\u001b[0m                         Traceback (most recent call last)",
      "Cell \u001b[1;32mIn[106], line 1\u001b[0m\n\u001b[1;32m----> 1\u001b[0m df \u001b[39m=\u001b[39m pd\u001b[39m.\u001b[39;49mread_csv(\u001b[39m'\u001b[39;49m\u001b[39mwinequality-red.csv\u001b[39;49m\u001b[39m'\u001b[39;49m)\n\u001b[0;32m      2\u001b[0m df\n",
      "File \u001b[1;32mc:\\Users\\Simon Andersen\\AppData\\Local\\Programs\\Python\\Python311\\Lib\\site-packages\\pandas\\io\\parsers\\readers.py:912\u001b[0m, in \u001b[0;36mread_csv\u001b[1;34m(filepath_or_buffer, sep, delimiter, header, names, index_col, usecols, dtype, engine, converters, true_values, false_values, skipinitialspace, skiprows, skipfooter, nrows, na_values, keep_default_na, na_filter, verbose, skip_blank_lines, parse_dates, infer_datetime_format, keep_date_col, date_parser, date_format, dayfirst, cache_dates, iterator, chunksize, compression, thousands, decimal, lineterminator, quotechar, quoting, doublequote, escapechar, comment, encoding, encoding_errors, dialect, on_bad_lines, delim_whitespace, low_memory, memory_map, float_precision, storage_options, dtype_backend)\u001b[0m\n\u001b[0;32m    899\u001b[0m kwds_defaults \u001b[39m=\u001b[39m _refine_defaults_read(\n\u001b[0;32m    900\u001b[0m     dialect,\n\u001b[0;32m    901\u001b[0m     delimiter,\n\u001b[1;32m   (...)\u001b[0m\n\u001b[0;32m    908\u001b[0m     dtype_backend\u001b[39m=\u001b[39mdtype_backend,\n\u001b[0;32m    909\u001b[0m )\n\u001b[0;32m    910\u001b[0m kwds\u001b[39m.\u001b[39mupdate(kwds_defaults)\n\u001b[1;32m--> 912\u001b[0m \u001b[39mreturn\u001b[39;00m _read(filepath_or_buffer, kwds)\n",
      "File \u001b[1;32mc:\\Users\\Simon Andersen\\AppData\\Local\\Programs\\Python\\Python311\\Lib\\site-packages\\pandas\\io\\parsers\\readers.py:577\u001b[0m, in \u001b[0;36m_read\u001b[1;34m(filepath_or_buffer, kwds)\u001b[0m\n\u001b[0;32m    574\u001b[0m _validate_names(kwds\u001b[39m.\u001b[39mget(\u001b[39m\"\u001b[39m\u001b[39mnames\u001b[39m\u001b[39m\"\u001b[39m, \u001b[39mNone\u001b[39;00m))\n\u001b[0;32m    576\u001b[0m \u001b[39m# Create the parser.\u001b[39;00m\n\u001b[1;32m--> 577\u001b[0m parser \u001b[39m=\u001b[39m TextFileReader(filepath_or_buffer, \u001b[39m*\u001b[39;49m\u001b[39m*\u001b[39;49mkwds)\n\u001b[0;32m    579\u001b[0m \u001b[39mif\u001b[39;00m chunksize \u001b[39mor\u001b[39;00m iterator:\n\u001b[0;32m    580\u001b[0m     \u001b[39mreturn\u001b[39;00m parser\n",
      "File \u001b[1;32mc:\\Users\\Simon Andersen\\AppData\\Local\\Programs\\Python\\Python311\\Lib\\site-packages\\pandas\\io\\parsers\\readers.py:1407\u001b[0m, in \u001b[0;36mTextFileReader.__init__\u001b[1;34m(self, f, engine, **kwds)\u001b[0m\n\u001b[0;32m   1404\u001b[0m     \u001b[39mself\u001b[39m\u001b[39m.\u001b[39moptions[\u001b[39m\"\u001b[39m\u001b[39mhas_index_names\u001b[39m\u001b[39m\"\u001b[39m] \u001b[39m=\u001b[39m kwds[\u001b[39m\"\u001b[39m\u001b[39mhas_index_names\u001b[39m\u001b[39m\"\u001b[39m]\n\u001b[0;32m   1406\u001b[0m \u001b[39mself\u001b[39m\u001b[39m.\u001b[39mhandles: IOHandles \u001b[39m|\u001b[39m \u001b[39mNone\u001b[39;00m \u001b[39m=\u001b[39m \u001b[39mNone\u001b[39;00m\n\u001b[1;32m-> 1407\u001b[0m \u001b[39mself\u001b[39m\u001b[39m.\u001b[39m_engine \u001b[39m=\u001b[39m \u001b[39mself\u001b[39;49m\u001b[39m.\u001b[39;49m_make_engine(f, \u001b[39mself\u001b[39;49m\u001b[39m.\u001b[39;49mengine)\n",
      "File \u001b[1;32mc:\\Users\\Simon Andersen\\AppData\\Local\\Programs\\Python\\Python311\\Lib\\site-packages\\pandas\\io\\parsers\\readers.py:1661\u001b[0m, in \u001b[0;36mTextFileReader._make_engine\u001b[1;34m(self, f, engine)\u001b[0m\n\u001b[0;32m   1659\u001b[0m     \u001b[39mif\u001b[39;00m \u001b[39m\"\u001b[39m\u001b[39mb\u001b[39m\u001b[39m\"\u001b[39m \u001b[39mnot\u001b[39;00m \u001b[39min\u001b[39;00m mode:\n\u001b[0;32m   1660\u001b[0m         mode \u001b[39m+\u001b[39m\u001b[39m=\u001b[39m \u001b[39m\"\u001b[39m\u001b[39mb\u001b[39m\u001b[39m\"\u001b[39m\n\u001b[1;32m-> 1661\u001b[0m \u001b[39mself\u001b[39m\u001b[39m.\u001b[39mhandles \u001b[39m=\u001b[39m get_handle(\n\u001b[0;32m   1662\u001b[0m     f,\n\u001b[0;32m   1663\u001b[0m     mode,\n\u001b[0;32m   1664\u001b[0m     encoding\u001b[39m=\u001b[39;49m\u001b[39mself\u001b[39;49m\u001b[39m.\u001b[39;49moptions\u001b[39m.\u001b[39;49mget(\u001b[39m\"\u001b[39;49m\u001b[39mencoding\u001b[39;49m\u001b[39m\"\u001b[39;49m, \u001b[39mNone\u001b[39;49;00m),\n\u001b[0;32m   1665\u001b[0m     compression\u001b[39m=\u001b[39;49m\u001b[39mself\u001b[39;49m\u001b[39m.\u001b[39;49moptions\u001b[39m.\u001b[39;49mget(\u001b[39m\"\u001b[39;49m\u001b[39mcompression\u001b[39;49m\u001b[39m\"\u001b[39;49m, \u001b[39mNone\u001b[39;49;00m),\n\u001b[0;32m   1666\u001b[0m     memory_map\u001b[39m=\u001b[39;49m\u001b[39mself\u001b[39;49m\u001b[39m.\u001b[39;49moptions\u001b[39m.\u001b[39;49mget(\u001b[39m\"\u001b[39;49m\u001b[39mmemory_map\u001b[39;49m\u001b[39m\"\u001b[39;49m, \u001b[39mFalse\u001b[39;49;00m),\n\u001b[0;32m   1667\u001b[0m     is_text\u001b[39m=\u001b[39;49mis_text,\n\u001b[0;32m   1668\u001b[0m     errors\u001b[39m=\u001b[39;49m\u001b[39mself\u001b[39;49m\u001b[39m.\u001b[39;49moptions\u001b[39m.\u001b[39;49mget(\u001b[39m\"\u001b[39;49m\u001b[39mencoding_errors\u001b[39;49m\u001b[39m\"\u001b[39;49m, \u001b[39m\"\u001b[39;49m\u001b[39mstrict\u001b[39;49m\u001b[39m\"\u001b[39;49m),\n\u001b[0;32m   1669\u001b[0m     storage_options\u001b[39m=\u001b[39;49m\u001b[39mself\u001b[39;49m\u001b[39m.\u001b[39;49moptions\u001b[39m.\u001b[39;49mget(\u001b[39m\"\u001b[39;49m\u001b[39mstorage_options\u001b[39;49m\u001b[39m\"\u001b[39;49m, \u001b[39mNone\u001b[39;49;00m),\n\u001b[0;32m   1670\u001b[0m )\n\u001b[0;32m   1671\u001b[0m \u001b[39massert\u001b[39;00m \u001b[39mself\u001b[39m\u001b[39m.\u001b[39mhandles \u001b[39mis\u001b[39;00m \u001b[39mnot\u001b[39;00m \u001b[39mNone\u001b[39;00m\n\u001b[0;32m   1672\u001b[0m f \u001b[39m=\u001b[39m \u001b[39mself\u001b[39m\u001b[39m.\u001b[39mhandles\u001b[39m.\u001b[39mhandle\n",
      "File \u001b[1;32mc:\\Users\\Simon Andersen\\AppData\\Local\\Programs\\Python\\Python311\\Lib\\site-packages\\pandas\\io\\common.py:859\u001b[0m, in \u001b[0;36mget_handle\u001b[1;34m(path_or_buf, mode, encoding, compression, memory_map, is_text, errors, storage_options)\u001b[0m\n\u001b[0;32m    854\u001b[0m \u001b[39melif\u001b[39;00m \u001b[39misinstance\u001b[39m(handle, \u001b[39mstr\u001b[39m):\n\u001b[0;32m    855\u001b[0m     \u001b[39m# Check whether the filename is to be opened in binary mode.\u001b[39;00m\n\u001b[0;32m    856\u001b[0m     \u001b[39m# Binary mode does not support 'encoding' and 'newline'.\u001b[39;00m\n\u001b[0;32m    857\u001b[0m     \u001b[39mif\u001b[39;00m ioargs\u001b[39m.\u001b[39mencoding \u001b[39mand\u001b[39;00m \u001b[39m\"\u001b[39m\u001b[39mb\u001b[39m\u001b[39m\"\u001b[39m \u001b[39mnot\u001b[39;00m \u001b[39min\u001b[39;00m ioargs\u001b[39m.\u001b[39mmode:\n\u001b[0;32m    858\u001b[0m         \u001b[39m# Encoding\u001b[39;00m\n\u001b[1;32m--> 859\u001b[0m         handle \u001b[39m=\u001b[39m \u001b[39mopen\u001b[39m(\n\u001b[0;32m    860\u001b[0m             handle,\n\u001b[0;32m    861\u001b[0m             ioargs\u001b[39m.\u001b[39mmode,\n\u001b[0;32m    862\u001b[0m             encoding\u001b[39m=\u001b[39mioargs\u001b[39m.\u001b[39mencoding,\n\u001b[0;32m    863\u001b[0m             errors\u001b[39m=\u001b[39merrors,\n\u001b[0;32m    864\u001b[0m             newline\u001b[39m=\u001b[39m\u001b[39m\"\u001b[39m\u001b[39m\"\u001b[39m,\n\u001b[0;32m    865\u001b[0m         )\n\u001b[0;32m    866\u001b[0m     \u001b[39melse\u001b[39;00m:\n\u001b[0;32m    867\u001b[0m         \u001b[39m# Binary mode\u001b[39;00m\n\u001b[0;32m    868\u001b[0m         handle \u001b[39m=\u001b[39m \u001b[39mopen\u001b[39m(handle, ioargs\u001b[39m.\u001b[39mmode)\n",
      "\u001b[1;31mFileNotFoundError\u001b[0m: [Errno 2] No such file or directory: 'winequality-red.csv'"
     ]
    }
   ],
   "source": [
    "df = pd.read_csv('winequality-red.csv')\n",
    "df"
   ]
  },
  {
   "cell_type": "code",
   "execution_count": null,
   "id": "c6ff3f35",
   "metadata": {},
   "outputs": [],
   "source": [
    "X = df.drop(['quality'],axis=1).values\n",
    "y = df['quality'].values\n",
    "\n",
    "X = StandardScaler().fit_transform(X)   "
   ]
  },
  {
   "cell_type": "code",
   "execution_count": null,
   "id": "be5b0aff",
   "metadata": {},
   "outputs": [],
   "source": [
    "X_train, X_test, y_train, y_test = train_test_split(X, y, test_size=0.33, random_state=42)"
   ]
  },
  {
   "cell_type": "code",
   "execution_count": null,
   "id": "ad3fdcf2",
   "metadata": {},
   "outputs": [
    {
     "name": "stdout",
     "output_type": "stream",
     "text": [
      "X_train.shape: (1071, 11)\n",
      "X_test.shape: (528, 11)\n",
      "y_train.shape: (1071,)\n",
      "y_test.shape: (528,)\n"
     ]
    }
   ],
   "source": [
    "print('X_train.shape:',X_train.shape)\n",
    "print('X_test.shape:',X_test.shape)\n",
    "print('y_train.shape:',y_train.shape)\n",
    "print('y_test.shape:',y_test.shape)"
   ]
  },
  {
   "cell_type": "markdown",
   "id": "422f017e",
   "metadata": {},
   "source": [
    "To investigate regression issues we will change the architecture so that loss will look at mean_squared_error to evaluate the model.\n",
    "\n",
    "For regression there is only a need to use the activation function of 'relu'"
   ]
  },
  {
   "cell_type": "code",
   "execution_count": null,
   "id": "9e9782a3",
   "metadata": {},
   "outputs": [
    {
     "name": "stdout",
     "output_type": "stream",
     "text": [
      "Model: \"sequential_34\"\n",
      "_________________________________________________________________\n",
      " Layer (type)                Output Shape              Param #   \n",
      "=================================================================\n",
      " dense_212 (Dense)           (None, 30)                360       \n",
      "                                                                 \n",
      " dense_213 (Dense)           (None, 15)                465       \n",
      "                                                                 \n",
      " dense_214 (Dense)           (None, 1)                 16        \n",
      "                                                                 \n",
      "=================================================================\n",
      "Total params: 841\n",
      "Trainable params: 841\n",
      "Non-trainable params: 0\n",
      "_________________________________________________________________\n"
     ]
    }
   ],
   "source": [
    "model = keras.models.Sequential()\n",
    "model.add(keras.layers.Input(shape=X_train.shape[1])) #input layer\n",
    "model.add(keras.layers.Dense(30, activation='relu')) #Hidden layer 1\n",
    "model.add(keras.layers.Dense(15, activation='relu')) #Hidden layer 2\n",
    "model.add(keras.layers.Dense(1)) #Activation='relu' #output layer - can use activation relu but it is not needed to have an activation function within output layer for regression\n",
    "model.summary()\n",
    "model.compile(loss='mse',optimizer='adam',metrics=['mse'])"
   ]
  },
  {
   "cell_type": "code",
   "execution_count": null,
   "id": "2a61a0c8",
   "metadata": {
    "scrolled": true
   },
   "outputs": [
    {
     "name": "stdout",
     "output_type": "stream",
     "text": [
      "Epoch 1/100\n",
      "23/23 [==============================] - 0s 5ms/step - loss: 0.3834 - mse: 0.3834 - val_loss: 0.4715 - val_mse: 0.4715\n",
      "Epoch 2/100\n",
      "23/23 [==============================] - 0s 4ms/step - loss: 0.3852 - mse: 0.3852 - val_loss: 0.4834 - val_mse: 0.4834\n",
      "Epoch 3/100\n",
      "23/23 [==============================] - 0s 4ms/step - loss: 0.3795 - mse: 0.3795 - val_loss: 0.4722 - val_mse: 0.4722\n",
      "Epoch 4/100\n",
      "23/23 [==============================] - 0s 6ms/step - loss: 0.3833 - mse: 0.3833 - val_loss: 0.4689 - val_mse: 0.4689\n",
      "Epoch 5/100\n",
      "23/23 [==============================] - 0s 4ms/step - loss: 0.3777 - mse: 0.3777 - val_loss: 0.5070 - val_mse: 0.5070\n",
      "Epoch 6/100\n",
      "23/23 [==============================] - 0s 5ms/step - loss: 0.3776 - mse: 0.3776 - val_loss: 0.4628 - val_mse: 0.4628\n",
      "Epoch 7/100\n",
      "23/23 [==============================] - 0s 5ms/step - loss: 0.3743 - mse: 0.3743 - val_loss: 0.4704 - val_mse: 0.4704\n",
      "Epoch 8/100\n",
      "23/23 [==============================] - 0s 5ms/step - loss: 0.3791 - mse: 0.3791 - val_loss: 0.4783 - val_mse: 0.4783\n",
      "Epoch 9/100\n",
      "23/23 [==============================] - 0s 6ms/step - loss: 0.3679 - mse: 0.3679 - val_loss: 0.4585 - val_mse: 0.4585\n",
      "Epoch 10/100\n",
      "23/23 [==============================] - 0s 5ms/step - loss: 0.3725 - mse: 0.3725 - val_loss: 0.4618 - val_mse: 0.4618\n",
      "Epoch 11/100\n",
      "23/23 [==============================] - 0s 5ms/step - loss: 0.3722 - mse: 0.3722 - val_loss: 0.4686 - val_mse: 0.4686\n",
      "Epoch 12/100\n",
      "23/23 [==============================] - 0s 4ms/step - loss: 0.3631 - mse: 0.3631 - val_loss: 0.4552 - val_mse: 0.4552\n",
      "Epoch 13/100\n",
      "23/23 [==============================] - 0s 4ms/step - loss: 0.3661 - mse: 0.3661 - val_loss: 0.4508 - val_mse: 0.4508\n",
      "Epoch 14/100\n",
      "23/23 [==============================] - 0s 5ms/step - loss: 0.3599 - mse: 0.3599 - val_loss: 0.4580 - val_mse: 0.4580\n",
      "Epoch 15/100\n",
      "23/23 [==============================] - 0s 4ms/step - loss: 0.3594 - mse: 0.3594 - val_loss: 0.4637 - val_mse: 0.4637\n",
      "Epoch 16/100\n",
      "23/23 [==============================] - 0s 5ms/step - loss: 0.3557 - mse: 0.3557 - val_loss: 0.4455 - val_mse: 0.4455\n",
      "Epoch 17/100\n",
      "23/23 [==============================] - 0s 4ms/step - loss: 0.3573 - mse: 0.3573 - val_loss: 0.4501 - val_mse: 0.4501\n",
      "Epoch 18/100\n",
      "23/23 [==============================] - 0s 4ms/step - loss: 0.3621 - mse: 0.3621 - val_loss: 0.4497 - val_mse: 0.4497\n",
      "Epoch 19/100\n",
      "23/23 [==============================] - 0s 4ms/step - loss: 0.3542 - mse: 0.3542 - val_loss: 0.4451 - val_mse: 0.4451\n",
      "Epoch 20/100\n",
      "23/23 [==============================] - 0s 4ms/step - loss: 0.3501 - mse: 0.3501 - val_loss: 0.4560 - val_mse: 0.4560\n",
      "Epoch 21/100\n",
      "23/23 [==============================] - 0s 4ms/step - loss: 0.3492 - mse: 0.3492 - val_loss: 0.4451 - val_mse: 0.4451\n",
      "Epoch 22/100\n",
      "23/23 [==============================] - 0s 4ms/step - loss: 0.3483 - mse: 0.3483 - val_loss: 0.4427 - val_mse: 0.4427\n",
      "Epoch 23/100\n",
      "23/23 [==============================] - 0s 4ms/step - loss: 0.3511 - mse: 0.3511 - val_loss: 0.4669 - val_mse: 0.4669\n",
      "Epoch 24/100\n",
      "23/23 [==============================] - 0s 5ms/step - loss: 0.3514 - mse: 0.3514 - val_loss: 0.4391 - val_mse: 0.4391\n",
      "Epoch 25/100\n",
      "23/23 [==============================] - 0s 5ms/step - loss: 0.3434 - mse: 0.3434 - val_loss: 0.4624 - val_mse: 0.4624\n",
      "Epoch 26/100\n",
      "23/23 [==============================] - 0s 5ms/step - loss: 0.3407 - mse: 0.3407 - val_loss: 0.4369 - val_mse: 0.4369\n",
      "Epoch 27/100\n",
      "23/23 [==============================] - 0s 4ms/step - loss: 0.3463 - mse: 0.3463 - val_loss: 0.4440 - val_mse: 0.4440\n",
      "Epoch 28/100\n",
      "23/23 [==============================] - 0s 5ms/step - loss: 0.3453 - mse: 0.3453 - val_loss: 0.4352 - val_mse: 0.4352\n",
      "Epoch 29/100\n",
      "23/23 [==============================] - 0s 4ms/step - loss: 0.3416 - mse: 0.3416 - val_loss: 0.4404 - val_mse: 0.4404\n",
      "Epoch 30/100\n",
      "23/23 [==============================] - 0s 4ms/step - loss: 0.3394 - mse: 0.3394 - val_loss: 0.4383 - val_mse: 0.4383\n",
      "Epoch 31/100\n",
      "23/23 [==============================] - 0s 5ms/step - loss: 0.3385 - mse: 0.3385 - val_loss: 0.4399 - val_mse: 0.4399\n",
      "Epoch 32/100\n",
      "23/23 [==============================] - 0s 5ms/step - loss: 0.3366 - mse: 0.3366 - val_loss: 0.4419 - val_mse: 0.4419\n",
      "Epoch 33/100\n",
      "23/23 [==============================] - 0s 5ms/step - loss: 0.3371 - mse: 0.3371 - val_loss: 0.4356 - val_mse: 0.4356\n",
      "Epoch 34/100\n",
      "23/23 [==============================] - 0s 5ms/step - loss: 0.3374 - mse: 0.3374 - val_loss: 0.4284 - val_mse: 0.4284\n",
      "Epoch 35/100\n",
      "23/23 [==============================] - 0s 5ms/step - loss: 0.3346 - mse: 0.3346 - val_loss: 0.4350 - val_mse: 0.4350\n",
      "Epoch 36/100\n",
      "23/23 [==============================] - 0s 4ms/step - loss: 0.3355 - mse: 0.3355 - val_loss: 0.4325 - val_mse: 0.4325\n",
      "Epoch 37/100\n",
      "23/23 [==============================] - 0s 5ms/step - loss: 0.3321 - mse: 0.3321 - val_loss: 0.4313 - val_mse: 0.4313\n",
      "Epoch 38/100\n",
      "23/23 [==============================] - 0s 4ms/step - loss: 0.3344 - mse: 0.3344 - val_loss: 0.4316 - val_mse: 0.4316\n",
      "Epoch 39/100\n",
      "23/23 [==============================] - 0s 5ms/step - loss: 0.3280 - mse: 0.3280 - val_loss: 0.4366 - val_mse: 0.4366\n",
      "Epoch 40/100\n",
      "23/23 [==============================] - 0s 4ms/step - loss: 0.3305 - mse: 0.3305 - val_loss: 0.4295 - val_mse: 0.4295\n",
      "Epoch 41/100\n",
      "23/23 [==============================] - 0s 4ms/step - loss: 0.3307 - mse: 0.3307 - val_loss: 0.4265 - val_mse: 0.4265\n",
      "Epoch 42/100\n",
      "23/23 [==============================] - 0s 4ms/step - loss: 0.3321 - mse: 0.3321 - val_loss: 0.4277 - val_mse: 0.4277\n",
      "Epoch 43/100\n",
      "23/23 [==============================] - 0s 4ms/step - loss: 0.3329 - mse: 0.3329 - val_loss: 0.4595 - val_mse: 0.4595\n",
      "Epoch 44/100\n",
      "23/23 [==============================] - 0s 5ms/step - loss: 0.3283 - mse: 0.3283 - val_loss: 0.4180 - val_mse: 0.4180\n",
      "Epoch 45/100\n",
      "23/23 [==============================] - 0s 4ms/step - loss: 0.3283 - mse: 0.3283 - val_loss: 0.4351 - val_mse: 0.4351\n",
      "Epoch 46/100\n",
      "23/23 [==============================] - 0s 5ms/step - loss: 0.3271 - mse: 0.3271 - val_loss: 0.4238 - val_mse: 0.4238\n",
      "Epoch 47/100\n",
      "23/23 [==============================] - 0s 5ms/step - loss: 0.3259 - mse: 0.3259 - val_loss: 0.4350 - val_mse: 0.4350\n",
      "Epoch 48/100\n",
      "23/23 [==============================] - 0s 4ms/step - loss: 0.3239 - mse: 0.3239 - val_loss: 0.4430 - val_mse: 0.4430\n",
      "Epoch 49/100\n",
      "23/23 [==============================] - 0s 5ms/step - loss: 0.3294 - mse: 0.3294 - val_loss: 0.4293 - val_mse: 0.4293\n",
      "Epoch 50/100\n",
      "23/23 [==============================] - 0s 4ms/step - loss: 0.3253 - mse: 0.3253 - val_loss: 0.4268 - val_mse: 0.4268\n",
      "Epoch 51/100\n",
      "23/23 [==============================] - 0s 5ms/step - loss: 0.3239 - mse: 0.3239 - val_loss: 0.4230 - val_mse: 0.4230\n",
      "Epoch 52/100\n",
      "23/23 [==============================] - 0s 5ms/step - loss: 0.3197 - mse: 0.3197 - val_loss: 0.4313 - val_mse: 0.4313\n",
      "Epoch 53/100\n",
      "23/23 [==============================] - 0s 5ms/step - loss: 0.3192 - mse: 0.3192 - val_loss: 0.4230 - val_mse: 0.4230\n",
      "Epoch 54/100\n",
      "23/23 [==============================] - 0s 4ms/step - loss: 0.3189 - mse: 0.3189 - val_loss: 0.4312 - val_mse: 0.4312\n",
      "Epoch 55/100\n",
      "23/23 [==============================] - 0s 5ms/step - loss: 0.3163 - mse: 0.3163 - val_loss: 0.4302 - val_mse: 0.4302\n",
      "Epoch 56/100\n",
      "23/23 [==============================] - 0s 5ms/step - loss: 0.3214 - mse: 0.3214 - val_loss: 0.4270 - val_mse: 0.4270\n",
      "Epoch 57/100\n",
      "23/23 [==============================] - 0s 5ms/step - loss: 0.3171 - mse: 0.3171 - val_loss: 0.4276 - val_mse: 0.4276\n",
      "Epoch 58/100\n",
      "23/23 [==============================] - 0s 5ms/step - loss: 0.3180 - mse: 0.3180 - val_loss: 0.4252 - val_mse: 0.4252\n",
      "Epoch 59/100\n",
      "23/23 [==============================] - 0s 4ms/step - loss: 0.3157 - mse: 0.3157 - val_loss: 0.4230 - val_mse: 0.4230\n",
      "Epoch 60/100\n",
      "23/23 [==============================] - 0s 5ms/step - loss: 0.3175 - mse: 0.3175 - val_loss: 0.4273 - val_mse: 0.4273\n",
      "Epoch 61/100\n",
      "23/23 [==============================] - 0s 4ms/step - loss: 0.3180 - mse: 0.3180 - val_loss: 0.4330 - val_mse: 0.4330\n",
      "Epoch 62/100\n",
      "23/23 [==============================] - 0s 5ms/step - loss: 0.3149 - mse: 0.3149 - val_loss: 0.4156 - val_mse: 0.4156\n",
      "Epoch 63/100\n",
      "23/23 [==============================] - 0s 4ms/step - loss: 0.3119 - mse: 0.3119 - val_loss: 0.4289 - val_mse: 0.4289\n",
      "Epoch 64/100\n",
      "23/23 [==============================] - 0s 4ms/step - loss: 0.3120 - mse: 0.3120 - val_loss: 0.4467 - val_mse: 0.4467\n",
      "Epoch 65/100\n",
      "23/23 [==============================] - 0s 4ms/step - loss: 0.3102 - mse: 0.3102 - val_loss: 0.4232 - val_mse: 0.4232\n",
      "Epoch 66/100\n",
      "23/23 [==============================] - 0s 4ms/step - loss: 0.3077 - mse: 0.3077 - val_loss: 0.4204 - val_mse: 0.4204\n",
      "Epoch 67/100\n",
      "23/23 [==============================] - 0s 4ms/step - loss: 0.3092 - mse: 0.3092 - val_loss: 0.4244 - val_mse: 0.4244\n",
      "Epoch 68/100\n",
      "23/23 [==============================] - 0s 4ms/step - loss: 0.3136 - mse: 0.3136 - val_loss: 0.4268 - val_mse: 0.4268\n",
      "Epoch 69/100\n",
      "23/23 [==============================] - 0s 4ms/step - loss: 0.3099 - mse: 0.3099 - val_loss: 0.4266 - val_mse: 0.4266\n",
      "Epoch 70/100\n",
      "23/23 [==============================] - 0s 5ms/step - loss: 0.3099 - mse: 0.3099 - val_loss: 0.4166 - val_mse: 0.4166\n",
      "Epoch 71/100\n",
      "23/23 [==============================] - 0s 5ms/step - loss: 0.3144 - mse: 0.3144 - val_loss: 0.4210 - val_mse: 0.4210\n",
      "Epoch 72/100\n",
      "23/23 [==============================] - 0s 5ms/step - loss: 0.3094 - mse: 0.3094 - val_loss: 0.4511 - val_mse: 0.4511\n",
      "Epoch 73/100\n",
      "23/23 [==============================] - 0s 5ms/step - loss: 0.3117 - mse: 0.3117 - val_loss: 0.4379 - val_mse: 0.4379\n",
      "Epoch 74/100\n",
      "23/23 [==============================] - 0s 6ms/step - loss: 0.3072 - mse: 0.3072 - val_loss: 0.4250 - val_mse: 0.4250\n",
      "Epoch 75/100\n",
      "23/23 [==============================] - 0s 5ms/step - loss: 0.3052 - mse: 0.3052 - val_loss: 0.4327 - val_mse: 0.4327\n",
      "Epoch 76/100\n",
      "23/23 [==============================] - 0s 5ms/step - loss: 0.3086 - mse: 0.3086 - val_loss: 0.4184 - val_mse: 0.4184\n",
      "Epoch 77/100\n",
      "23/23 [==============================] - 0s 5ms/step - loss: 0.3086 - mse: 0.3086 - val_loss: 0.4168 - val_mse: 0.4168\n",
      "Epoch 78/100\n",
      "23/23 [==============================] - 0s 5ms/step - loss: 0.3112 - mse: 0.3112 - val_loss: 0.4227 - val_mse: 0.4227\n",
      "Epoch 79/100\n",
      "23/23 [==============================] - 0s 6ms/step - loss: 0.3123 - mse: 0.3123 - val_loss: 0.4243 - val_mse: 0.4243\n",
      "Epoch 80/100\n",
      "23/23 [==============================] - 0s 5ms/step - loss: 0.3045 - mse: 0.3045 - val_loss: 0.4190 - val_mse: 0.4190\n",
      "Epoch 81/100\n",
      "23/23 [==============================] - 0s 5ms/step - loss: 0.3044 - mse: 0.3044 - val_loss: 0.4252 - val_mse: 0.4252\n",
      "Epoch 82/100\n",
      "23/23 [==============================] - 0s 4ms/step - loss: 0.3071 - mse: 0.3071 - val_loss: 0.4221 - val_mse: 0.4221\n",
      "Epoch 83/100\n",
      "23/23 [==============================] - 0s 5ms/step - loss: 0.3002 - mse: 0.3002 - val_loss: 0.4177 - val_mse: 0.4177\n",
      "Epoch 84/100\n",
      "23/23 [==============================] - 0s 4ms/step - loss: 0.2977 - mse: 0.2977 - val_loss: 0.4361 - val_mse: 0.4361\n",
      "Epoch 85/100\n",
      "23/23 [==============================] - 0s 4ms/step - loss: 0.2994 - mse: 0.2994 - val_loss: 0.4212 - val_mse: 0.4212\n",
      "Epoch 86/100\n",
      "23/23 [==============================] - 0s 5ms/step - loss: 0.2980 - mse: 0.2980 - val_loss: 0.4250 - val_mse: 0.4250\n",
      "Epoch 87/100\n",
      "23/23 [==============================] - 0s 5ms/step - loss: 0.2996 - mse: 0.2996 - val_loss: 0.4217 - val_mse: 0.4217\n",
      "Epoch 88/100\n",
      "23/23 [==============================] - 0s 5ms/step - loss: 0.2956 - mse: 0.2956 - val_loss: 0.4185 - val_mse: 0.4185\n",
      "Epoch 89/100\n",
      "23/23 [==============================] - 0s 5ms/step - loss: 0.2949 - mse: 0.2949 - val_loss: 0.4207 - val_mse: 0.4207\n",
      "Epoch 90/100\n",
      "23/23 [==============================] - 0s 7ms/step - loss: 0.2955 - mse: 0.2955 - val_loss: 0.4097 - val_mse: 0.4097\n",
      "Epoch 91/100\n",
      "23/23 [==============================] - 0s 5ms/step - loss: 0.2928 - mse: 0.2928 - val_loss: 0.4241 - val_mse: 0.4241\n",
      "Epoch 92/100\n",
      "23/23 [==============================] - 0s 5ms/step - loss: 0.2946 - mse: 0.2946 - val_loss: 0.4152 - val_mse: 0.4152\n",
      "Epoch 93/100\n",
      "23/23 [==============================] - 0s 5ms/step - loss: 0.2940 - mse: 0.2940 - val_loss: 0.4142 - val_mse: 0.4142\n",
      "Epoch 94/100\n",
      "23/23 [==============================] - 0s 5ms/step - loss: 0.2922 - mse: 0.2922 - val_loss: 0.4282 - val_mse: 0.4282\n",
      "Epoch 95/100\n",
      "23/23 [==============================] - 0s 4ms/step - loss: 0.2955 - mse: 0.2955 - val_loss: 0.4228 - val_mse: 0.4228\n",
      "Epoch 96/100\n",
      "23/23 [==============================] - 0s 4ms/step - loss: 0.2875 - mse: 0.2875 - val_loss: 0.4118 - val_mse: 0.4118\n",
      "Epoch 97/100\n",
      "23/23 [==============================] - 0s 4ms/step - loss: 0.2927 - mse: 0.2927 - val_loss: 0.4225 - val_mse: 0.4225\n",
      "Epoch 98/100\n",
      "23/23 [==============================] - 0s 4ms/step - loss: 0.2930 - mse: 0.2930 - val_loss: 0.4376 - val_mse: 0.4376\n",
      "Epoch 99/100\n",
      "23/23 [==============================] - 0s 5ms/step - loss: 0.2923 - mse: 0.2923 - val_loss: 0.4440 - val_mse: 0.4440\n",
      "Epoch 100/100\n",
      "23/23 [==============================] - 0s 4ms/step - loss: 0.2970 - mse: 0.2970 - val_loss: 0.4211 - val_mse: 0.4211\n"
     ]
    }
   ],
   "source": [
    "history = model.fit(X_train, y_train, batch_size=32, epochs=100, validation_split=0.33,\n",
    "                  callbacks=[keras.callbacks.EarlyStopping(monitor='mse', patience=10)])"
   ]
  },
  {
   "cell_type": "code",
   "execution_count": null,
   "id": "73479d72",
   "metadata": {},
   "outputs": [
    {
     "name": "stdout",
     "output_type": "stream",
     "text": [
      "dict_keys(['loss', 'mse', 'val_loss', 'val_mse'])\n"
     ]
    },
    {
     "data": {
      "image/png": "[encoded data removed]",
      "text/plain": [
       "<Figure size 640x480 with 1 Axes>"
      ]
     },
     "metadata": {},
     "output_type": "display_data"
    }
   ],
   "source": [
    "print(history.history.keys())\n",
    "# \"Loss\"\n",
    "plt.plot(history.history['loss'])\n",
    "plt.plot(history.history['val_loss'])\n",
    "plt.title('model loss')\n",
    "plt.ylabel('loss')\n",
    "plt.xlabel('epoch')\n",
    "plt.legend(['train', 'validation'], loc='upper left')\n",
    "plt.show()"
   ]
  },
  {
   "cell_type": "code",
   "execution_count": null,
   "id": "c75cfbb6",
   "metadata": {},
   "outputs": [
    {
     "name": "stdout",
     "output_type": "stream",
     "text": [
      "17/17 [==============================] - 0s 2ms/step - loss: 0.4318 - mse: 0.4318\n"
     ]
    }
   ],
   "source": [
    "test_loss = model.evaluate(X_test, y_test)"
   ]
  }
 ],
 "metadata": {
  "kernelspec": {
   "display_name": "Python 3 (ipykernel)",
   "language": "python",
   "name": "python3"
  },
  "language_info": {
   "codemirror_mode": {
    "name": "ipython",
    "version": 3
   },
   "file_extension": ".py",
   "mimetype": "text/x-python",
   "name": "python",
   "nbconvert_exporter": "python",
   "pygments_lexer": "ipython3",
   "version": "3.11.3"
  }
 },
 "nbformat": 4,
 "nbformat_minor": 5
}
