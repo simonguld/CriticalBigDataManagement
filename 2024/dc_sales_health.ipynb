{
 "cells": [
  {
   "cell_type": "code",
   "execution_count": 1,
   "id": "daf7bd60",
   "metadata": {},
   "outputs": [],
   "source": [
    "import os\n",
    "\n",
    "# Data handling and manipulation library\n",
    "import pandas as pd\n",
    "\n",
    "# Library for numerical operations in Python\n",
    "import numpy as np"
   ]
  },
  {
   "cell_type": "code",
   "execution_count": 2,
   "id": "8f2a81db",
   "metadata": {},
   "outputs": [
    {
     "name": "stdout",
     "output_type": "stream",
     "text": [
      "<class 'pandas.core.frame.DataFrame'>\n",
      "RangeIndex: 60 entries, 0 to 59\n",
      "Data columns (total 10 columns):\n",
      " #   Column                  Non-Null Count  Dtype \n",
      "---  ------                  --------------  ----- \n",
      " 0   brick_nr                60 non-null     int64 \n",
      " 1   brick                   60 non-null     object\n",
      " 2   blood clot in heart     60 non-null     object\n",
      " 3   absence                 60 non-null     object\n",
      " 4   life_expectancy_years   60 non-null     object\n",
      " 5   longterm_disease_andel  60 non-null     object\n",
      " 6   overweight_andel        60 non-null     object\n",
      " 7   t2d_patients            60 non-null     object\n",
      " 8   uddannelse_lang_amount  60 non-null     object\n",
      " 9   physical_activity       60 non-null     object\n",
      "dtypes: int64(1), object(9)\n",
      "memory usage: 4.8+ KB\n"
     ]
    }
   ],
   "source": [
    "#brick_data_dir = 'Market Data-20240909'\n",
    "data_dir = 'Market Data - Municipality Level-20240909'\n",
    "\n",
    "\n",
    "andel = pd.read_csv(os.path.join(data_dir,'andel_blodprop_i_hjertet.csv'), sep=';',encoding='iso-8859-1')\n",
    "andel.rename(columns={'Andel med blodprop i hjertet': 'blood clot in heart'}, inplace=True)\n",
    "\n",
    "fravaer = pd.read_csv(os.path.join(data_dir, 'fravaer.csv'), sep=';',encoding='iso-8859-1')\n",
    "fravaer.rename(columns={'fravær': 'absence'}, inplace=True)\n",
    "fravaer.head()\n",
    "\n",
    "life_expectancy = pd.read_csv(os.path.join(data_dir, 'life_expectancy.csv'), sep=';',encoding='iso-8859-1')\n",
    "life_expectancy.rename(columns={'år': 'life_expectancy_years'}, inplace=True)\n",
    "life_expectancy = life_expectancy[['brick_nr','brick','life_expectancy_years']]\n",
    "\n",
    "longterm_disease = pd.read_csv(os.path.join(data_dir, 'longterm_disease_.csv'), sep=';',encoding='iso-8859-1')\n",
    "longterm_disease.rename(columns={'anddel': 'longterm_disease_andel'}, inplace=True)\n",
    "longterm_disease = longterm_disease[['brick_nr','brick','longterm_disease_andel']]\n",
    "\n",
    "svaert_overvaegt = pd.read_csv(os.path.join(data_dir, 'svaert_overvaegt.csv'), sep=';',encoding='iso-8859-1')\n",
    "svaert_overvaegt.rename(columns={'Andel': 'overweight_andel'}, inplace=True)\n",
    "svaert_overvaegt = svaert_overvaegt[['brick_nr','brick','overweight_andel']]\n",
    "\n",
    "t2d = pd.read_csv(os.path.join(data_dir, 'T2D.csv'), sep=';',encoding='iso-8859-1')\n",
    "t2d.rename(columns={'patients': 't2d_patients'}, inplace=True)\n",
    "t2d = t2d[['brick_nr','brick','t2d_patients']]\n",
    "\n",
    "uddannelse_lang = pd.read_csv(os.path.join(data_dir, 'uddannelse_lang.csv'), sep=';',encoding='iso-8859-1')\n",
    "uddannelse_lang.rename(columns={'antal': 'uddannelse_lang_amount'}, inplace=True)\n",
    "uddannelse_lang = uddannelse_lang[['brick_nr','brick','uddannelse_lang_amount']]\n",
    "\n",
    "who_minimums_fysisk_aktivitet = pd.read_csv(os.path.join(data_dir, 'who_minimums_fysisk_aktivitet.csv'), sep=';',encoding='iso-8859-1')\n",
    "who_minimums_fysisk_aktivitet.rename(columns={'Andel': 'physical_activity'}, inplace=True)\n",
    "\n",
    "df = pd.concat([andel,fravaer,life_expectancy,longterm_disease,svaert_overvaegt,t2d,uddannelse_lang,who_minimums_fysisk_aktivitet], axis=1, ignore_index=False)\n",
    "df = df.loc[:,~df.columns.duplicated()].copy()\n",
    "df.info()"
   ]
  },
  {
   "cell_type": "code",
   "execution_count": 3,
   "id": "01e4a4db",
   "metadata": {},
   "outputs": [
    {
     "data": {
      "text/html": [
       "<div>\n",
       "<style scoped>\n",
       "    .dataframe tbody tr th:only-of-type {\n",
       "        vertical-align: middle;\n",
       "    }\n",
       "\n",
       "    .dataframe tbody tr th {\n",
       "        vertical-align: top;\n",
       "    }\n",
       "\n",
       "    .dataframe thead th {\n",
       "        text-align: right;\n",
       "    }\n",
       "</style>\n",
       "<table border=\"1\" class=\"dataframe\">\n",
       "  <thead>\n",
       "    <tr style=\"text-align: right;\">\n",
       "      <th></th>\n",
       "      <th>YEAR_MONTH</th>\n",
       "      <th>SECTOR_CODE</th>\n",
       "      <th>VOLUME</th>\n",
       "      <th>VALUE</th>\n",
       "      <th>WHO_ATC_CODE</th>\n",
       "      <th>brick</th>\n",
       "    </tr>\n",
       "  </thead>\n",
       "  <tbody>\n",
       "    <tr>\n",
       "      <th>0</th>\n",
       "      <td>202008</td>\n",
       "      <td>P</td>\n",
       "      <td>2</td>\n",
       "      <td>1910.00</td>\n",
       "      <td>A10BD20</td>\n",
       "      <td>Allerød</td>\n",
       "    </tr>\n",
       "    <tr>\n",
       "      <th>1</th>\n",
       "      <td>202008</td>\n",
       "      <td>P</td>\n",
       "      <td>5</td>\n",
       "      <td>1562.70</td>\n",
       "      <td>A10AE04</td>\n",
       "      <td>Hillerød</td>\n",
       "    </tr>\n",
       "    <tr>\n",
       "      <th>2</th>\n",
       "      <td>202008</td>\n",
       "      <td>P</td>\n",
       "      <td>-1</td>\n",
       "      <td>-737.87</td>\n",
       "      <td>A10BJ01</td>\n",
       "      <td>Haderslev</td>\n",
       "    </tr>\n",
       "    <tr>\n",
       "      <th>3</th>\n",
       "      <td>202008</td>\n",
       "      <td>P</td>\n",
       "      <td>1</td>\n",
       "      <td>347.86</td>\n",
       "      <td>A10BK03</td>\n",
       "      <td>Dragør</td>\n",
       "    </tr>\n",
       "    <tr>\n",
       "      <th>4</th>\n",
       "      <td>202008</td>\n",
       "      <td>P</td>\n",
       "      <td>75</td>\n",
       "      <td>50091.00</td>\n",
       "      <td>A10BJ06</td>\n",
       "      <td>Høje-Taastrup</td>\n",
       "    </tr>\n",
       "    <tr>\n",
       "      <th>...</th>\n",
       "      <td>...</td>\n",
       "      <td>...</td>\n",
       "      <td>...</td>\n",
       "      <td>...</td>\n",
       "      <td>...</td>\n",
       "      <td>...</td>\n",
       "    </tr>\n",
       "    <tr>\n",
       "      <th>223668</th>\n",
       "      <td>202012</td>\n",
       "      <td>P</td>\n",
       "      <td>52</td>\n",
       "      <td>702.00</td>\n",
       "      <td>A10BA02</td>\n",
       "      <td>Guldborgsund</td>\n",
       "    </tr>\n",
       "    <tr>\n",
       "      <th>223669</th>\n",
       "      <td>202012</td>\n",
       "      <td>P</td>\n",
       "      <td>2</td>\n",
       "      <td>439.82</td>\n",
       "      <td>A10BD13</td>\n",
       "      <td>Ringkøbing-Skjern</td>\n",
       "    </tr>\n",
       "    <tr>\n",
       "      <th>223670</th>\n",
       "      <td>202012</td>\n",
       "      <td>P</td>\n",
       "      <td>23</td>\n",
       "      <td>10632.75</td>\n",
       "      <td>A10AE06</td>\n",
       "      <td>Frederiksberg</td>\n",
       "    </tr>\n",
       "    <tr>\n",
       "      <th>223671</th>\n",
       "      <td>202012</td>\n",
       "      <td>P</td>\n",
       "      <td>5</td>\n",
       "      <td>1696.00</td>\n",
       "      <td>A10AE04</td>\n",
       "      <td>Næstved</td>\n",
       "    </tr>\n",
       "    <tr>\n",
       "      <th>223672</th>\n",
       "      <td>202012</td>\n",
       "      <td>P</td>\n",
       "      <td>1</td>\n",
       "      <td>371.00</td>\n",
       "      <td>A10AD05</td>\n",
       "      <td>Rebild</td>\n",
       "    </tr>\n",
       "  </tbody>\n",
       "</table>\n",
       "<p>223673 rows × 6 columns</p>\n",
       "</div>"
      ],
      "text/plain": [
       "        YEAR_MONTH SECTOR_CODE  VOLUME     VALUE WHO_ATC_CODE  \\\n",
       "0           202008           P       2   1910.00      A10BD20   \n",
       "1           202008           P       5   1562.70      A10AE04   \n",
       "2           202008           P      -1   -737.87      A10BJ01   \n",
       "3           202008           P       1    347.86      A10BK03   \n",
       "4           202008           P      75  50091.00      A10BJ06   \n",
       "...            ...         ...     ...       ...          ...   \n",
       "223668      202012           P      52    702.00      A10BA02   \n",
       "223669      202012           P       2    439.82      A10BD13   \n",
       "223670      202012           P      23  10632.75      A10AE06   \n",
       "223671      202012           P       5   1696.00      A10AE04   \n",
       "223672      202012           P       1    371.00      A10AD05   \n",
       "\n",
       "                    brick  \n",
       "0                 Allerød  \n",
       "1                Hillerød  \n",
       "2               Haderslev  \n",
       "3                  Dragør  \n",
       "4           Høje-Taastrup  \n",
       "...                   ...  \n",
       "223668       Guldborgsund  \n",
       "223669  Ringkøbing-Skjern  \n",
       "223670      Frederiksberg  \n",
       "223671            Næstved  \n",
       "223672             Rebild  \n",
       "\n",
       "[223673 rows x 6 columns]"
      ]
     },
     "execution_count": 3,
     "metadata": {},
     "output_type": "execute_result"
    }
   ],
   "source": [
    "sales = pd.read_csv(os.path.join(data_dir, 'SALES.csv'), sep=',',encoding='iso-8859-1')\n",
    "sales.rename(columns={'MUNICIPALITY': 'brick'}, inplace=True)\n",
    "\n",
    "# replace with 'ø'\n",
    "sales['brick'] = sales['brick'].apply(lambda x: x.replace('Ã¸','ø'))\n",
    "# replace with 'æ'\n",
    "sales['brick'] = sales['brick'].apply(lambda x: x.replace('Ã¦','æ'))\n",
    "# replace with 'å'\n",
    "sales['brick'] = sales['brick'].apply(lambda x: x.replace('Ã¥','å'))\n",
    "sales #['brick'].values[-40:] #.replace('Ã¸','ø')  "
   ]
  },
  {
   "cell_type": "markdown",
   "id": "257e4d0f",
   "metadata": {},
   "source": [
    "## Data cleaning and preprocessing\n",
    "In the first part of this notebook, the focus will be on preparing and cleaning the data for subsequent analysis. This is an example dataset, and does not provide a full picture of all the datasets."
   ]
  },
  {
   "cell_type": "markdown",
   "id": "091b018e",
   "metadata": {},
   "source": [
    "#### 1. Get an overview\n",
    "We will first investigate the dataframe and look at the value frequency of each column.\n",
    "\n",
    "This can be used for understanding which column provide enough date to be relevant. Or the correct data type.\n",
    "\n",
    "Understanding which columns need to be dropped."
   ]
  },
  {
   "cell_type": "code",
   "execution_count": 4,
   "id": "29b75608",
   "metadata": {},
   "outputs": [
    {
     "data": {
      "text/plain": [
       "(brick_nr                  0\n",
       " brick                     0\n",
       " blood clot in heart       0\n",
       " absence                   0\n",
       " life_expectancy_years     0\n",
       " longterm_disease_andel    0\n",
       " overweight_andel          0\n",
       " t2d_patients              0\n",
       " uddannelse_lang_amount    0\n",
       " physical_activity         0\n",
       " dtype: int64,\n",
       " YEAR_MONTH      0\n",
       " SECTOR_CODE     0\n",
       " VOLUME          0\n",
       " VALUE           0\n",
       " WHO_ATC_CODE    0\n",
       " brick           0\n",
       " dtype: int64)"
      ]
     },
     "execution_count": 4,
     "metadata": {},
     "output_type": "execute_result"
    }
   ],
   "source": [
    "df.isna().sum(), sales.isna().sum()"
   ]
  },
  {
   "cell_type": "markdown",
   "id": "7b7303ef",
   "metadata": {},
   "source": [
    "#### 2. Convert features with potential to be numeric into numeric features\n",
    "from the investigation of the features we can see that a number of features can be converted from object data types into integers or floats."
   ]
  },
  {
   "cell_type": "code",
   "execution_count": 5,
   "id": "c5e43bc6",
   "metadata": {},
   "outputs": [
    {
     "name": "stdout",
     "output_type": "stream",
     "text": [
      "<class 'pandas.core.frame.DataFrame'>\n",
      "RangeIndex: 60 entries, 0 to 59\n",
      "Data columns (total 10 columns):\n",
      " #   Column                  Non-Null Count  Dtype  \n",
      "---  ------                  --------------  -----  \n",
      " 0   brick_nr                60 non-null     int64  \n",
      " 1   brick                   60 non-null     object \n",
      " 2   blood clot in heart     60 non-null     float64\n",
      " 3   absence                 60 non-null     float64\n",
      " 4   life_expectancy_years   60 non-null     float64\n",
      " 5   longterm_disease_andel  60 non-null     float64\n",
      " 6   overweight_andel        60 non-null     float64\n",
      " 7   t2d_patients            60 non-null     float64\n",
      " 8   uddannelse_lang_amount  60 non-null     float64\n",
      " 9   physical_activity       60 non-null     float64\n",
      "dtypes: float64(8), int64(1), object(1)\n",
      "memory usage: 4.8+ KB\n"
     ]
    }
   ],
   "source": [
    "df = df.apply(lambda x: x.replace(',', '.', regex=True))\n",
    "to_numeric = [\n",
    "    'blood clot in heart', \n",
    "    'absence', \n",
    "    'life_expectancy_years', \n",
    "    'longterm_disease_andel',\n",
    "    'overweight_andel',\n",
    "    't2d_patients',\n",
    "    'uddannelse_lang_amount',\n",
    "    'physical_activity'\n",
    "]\n",
    "\n",
    "df[to_numeric] = df[to_numeric].astype(float)\n",
    "df.info()"
   ]
  },
  {
   "cell_type": "markdown",
   "id": "38ef7c09",
   "metadata": {},
   "source": [
    "Another interesting column is the column of YEAR_MONTH."
   ]
  },
  {
   "cell_type": "markdown",
   "id": "9433f37f",
   "metadata": {},
   "source": [
    "Looking at the column we can see that it combines both year and month into one as a float. Possible in the future it might be interesting to look at each year or each month. So lets split it and make it into two columns; one for year and one for month"
   ]
  },
  {
   "cell_type": "code",
   "execution_count": 6,
   "id": "36b9a8cf",
   "metadata": {},
   "outputs": [
    {
     "data": {
      "text/html": [
       "<div>\n",
       "<style scoped>\n",
       "    .dataframe tbody tr th:only-of-type {\n",
       "        vertical-align: middle;\n",
       "    }\n",
       "\n",
       "    .dataframe tbody tr th {\n",
       "        vertical-align: top;\n",
       "    }\n",
       "\n",
       "    .dataframe thead th {\n",
       "        text-align: right;\n",
       "    }\n",
       "</style>\n",
       "<table border=\"1\" class=\"dataframe\">\n",
       "  <thead>\n",
       "    <tr style=\"text-align: right;\">\n",
       "      <th></th>\n",
       "      <th>YEAR_MONTH</th>\n",
       "      <th>SECTOR_CODE</th>\n",
       "      <th>VOLUME</th>\n",
       "      <th>VALUE</th>\n",
       "      <th>WHO_ATC_CODE</th>\n",
       "      <th>brick</th>\n",
       "      <th>year</th>\n",
       "      <th>month</th>\n",
       "    </tr>\n",
       "  </thead>\n",
       "  <tbody>\n",
       "    <tr>\n",
       "      <th>0</th>\n",
       "      <td>202008</td>\n",
       "      <td>P</td>\n",
       "      <td>2</td>\n",
       "      <td>1910.00</td>\n",
       "      <td>A10BD20</td>\n",
       "      <td>Allerød</td>\n",
       "      <td>2020</td>\n",
       "      <td>08</td>\n",
       "    </tr>\n",
       "    <tr>\n",
       "      <th>1</th>\n",
       "      <td>202008</td>\n",
       "      <td>P</td>\n",
       "      <td>5</td>\n",
       "      <td>1562.70</td>\n",
       "      <td>A10AE04</td>\n",
       "      <td>Hillerød</td>\n",
       "      <td>2020</td>\n",
       "      <td>08</td>\n",
       "    </tr>\n",
       "    <tr>\n",
       "      <th>2</th>\n",
       "      <td>202008</td>\n",
       "      <td>P</td>\n",
       "      <td>-1</td>\n",
       "      <td>-737.87</td>\n",
       "      <td>A10BJ01</td>\n",
       "      <td>Haderslev</td>\n",
       "      <td>2020</td>\n",
       "      <td>08</td>\n",
       "    </tr>\n",
       "    <tr>\n",
       "      <th>3</th>\n",
       "      <td>202008</td>\n",
       "      <td>P</td>\n",
       "      <td>1</td>\n",
       "      <td>347.86</td>\n",
       "      <td>A10BK03</td>\n",
       "      <td>Dragør</td>\n",
       "      <td>2020</td>\n",
       "      <td>08</td>\n",
       "    </tr>\n",
       "    <tr>\n",
       "      <th>4</th>\n",
       "      <td>202008</td>\n",
       "      <td>P</td>\n",
       "      <td>75</td>\n",
       "      <td>50091.00</td>\n",
       "      <td>A10BJ06</td>\n",
       "      <td>Høje-Taastrup</td>\n",
       "      <td>2020</td>\n",
       "      <td>08</td>\n",
       "    </tr>\n",
       "    <tr>\n",
       "      <th>...</th>\n",
       "      <td>...</td>\n",
       "      <td>...</td>\n",
       "      <td>...</td>\n",
       "      <td>...</td>\n",
       "      <td>...</td>\n",
       "      <td>...</td>\n",
       "      <td>...</td>\n",
       "      <td>...</td>\n",
       "    </tr>\n",
       "    <tr>\n",
       "      <th>223668</th>\n",
       "      <td>202012</td>\n",
       "      <td>P</td>\n",
       "      <td>52</td>\n",
       "      <td>702.00</td>\n",
       "      <td>A10BA02</td>\n",
       "      <td>Guldborgsund</td>\n",
       "      <td>2020</td>\n",
       "      <td>12</td>\n",
       "    </tr>\n",
       "    <tr>\n",
       "      <th>223669</th>\n",
       "      <td>202012</td>\n",
       "      <td>P</td>\n",
       "      <td>2</td>\n",
       "      <td>439.82</td>\n",
       "      <td>A10BD13</td>\n",
       "      <td>Ringkøbing-Skjern</td>\n",
       "      <td>2020</td>\n",
       "      <td>12</td>\n",
       "    </tr>\n",
       "    <tr>\n",
       "      <th>223670</th>\n",
       "      <td>202012</td>\n",
       "      <td>P</td>\n",
       "      <td>23</td>\n",
       "      <td>10632.75</td>\n",
       "      <td>A10AE06</td>\n",
       "      <td>Frederiksberg</td>\n",
       "      <td>2020</td>\n",
       "      <td>12</td>\n",
       "    </tr>\n",
       "    <tr>\n",
       "      <th>223671</th>\n",
       "      <td>202012</td>\n",
       "      <td>P</td>\n",
       "      <td>5</td>\n",
       "      <td>1696.00</td>\n",
       "      <td>A10AE04</td>\n",
       "      <td>Næstved</td>\n",
       "      <td>2020</td>\n",
       "      <td>12</td>\n",
       "    </tr>\n",
       "    <tr>\n",
       "      <th>223672</th>\n",
       "      <td>202012</td>\n",
       "      <td>P</td>\n",
       "      <td>1</td>\n",
       "      <td>371.00</td>\n",
       "      <td>A10AD05</td>\n",
       "      <td>Rebild</td>\n",
       "      <td>2020</td>\n",
       "      <td>12</td>\n",
       "    </tr>\n",
       "  </tbody>\n",
       "</table>\n",
       "<p>223673 rows × 8 columns</p>\n",
       "</div>"
      ],
      "text/plain": [
       "       YEAR_MONTH SECTOR_CODE  VOLUME     VALUE WHO_ATC_CODE  \\\n",
       "0          202008           P       2   1910.00      A10BD20   \n",
       "1          202008           P       5   1562.70      A10AE04   \n",
       "2          202008           P      -1   -737.87      A10BJ01   \n",
       "3          202008           P       1    347.86      A10BK03   \n",
       "4          202008           P      75  50091.00      A10BJ06   \n",
       "...           ...         ...     ...       ...          ...   \n",
       "223668     202012           P      52    702.00      A10BA02   \n",
       "223669     202012           P       2    439.82      A10BD13   \n",
       "223670     202012           P      23  10632.75      A10AE06   \n",
       "223671     202012           P       5   1696.00      A10AE04   \n",
       "223672     202012           P       1    371.00      A10AD05   \n",
       "\n",
       "                    brick  year month  \n",
       "0                 Allerød  2020    08  \n",
       "1                Hillerød  2020    08  \n",
       "2               Haderslev  2020    08  \n",
       "3                  Dragør  2020    08  \n",
       "4           Høje-Taastrup  2020    08  \n",
       "...                   ...   ...   ...  \n",
       "223668       Guldborgsund  2020    12  \n",
       "223669  Ringkøbing-Skjern  2020    12  \n",
       "223670      Frederiksberg  2020    12  \n",
       "223671            Næstved  2020    12  \n",
       "223672             Rebild  2020    12  \n",
       "\n",
       "[223673 rows x 8 columns]"
      ]
     },
     "execution_count": 6,
     "metadata": {},
     "output_type": "execute_result"
    }
   ],
   "source": [
    "# We start by making the column into a string to make it easier to slice\n",
    "sales['YEAR_MONTH'] = sales['YEAR_MONTH'].astype(str)\n",
    "\n",
    "# We then slice the year from the first 4 digits\n",
    "sales['year'] = sales['YEAR_MONTH'].str[:4]  \n",
    "# We then slice the year from the 4th digit to the 6th digit\n",
    "sales['month'] = sales['YEAR_MONTH'].str[4:6]\n",
    "sales"
   ]
  },
  {
   "cell_type": "markdown",
   "id": "2b6108a9",
   "metadata": {},
   "source": [
    "#### 3. Another way to handle missing values\n",
    "if we go back to the dataset from before we dropped nan values.\n",
    "\n",
    "Here we can see that there are a number of missing values"
   ]
  },
  {
   "cell_type": "markdown",
   "id": "3e5828f5",
   "metadata": {},
   "source": [
    "Because of this we are not gonna focus on those values. But what about 'volume' and 'value'. Both columns are from the SALES dataset and are both contain float values. As such we are able to use a imputer to fill the missing value.\n",
    "\n",
    "This method allows us to make a predictive model that predicts the missing values."
   ]
  },
  {
   "cell_type": "markdown",
   "id": "bed0d447",
   "metadata": {},
   "source": [
    "Here an example is shown that a prediction is made of \"16.63\" for VOLUME, and \"4946.722\" for VALUE"
   ]
  },
  {
   "cell_type": "markdown",
   "id": "1a7461ea",
   "metadata": {},
   "source": [
    "#### 4. Convert categorical features to numeric ones\n",
    "- Convert features with two values to boolean features\n",
    "- Label encode features with order\n",
    "- One hot encoding"
   ]
  },
  {
   "cell_type": "markdown",
   "id": "e614f3b3",
   "metadata": {},
   "source": [
    "In our dataset we have the column SECTOR_CODE with *P* and *S*\n",
    "this represent XXX.\n"
   ]
  },
  {
   "cell_type": "code",
   "execution_count": 7,
   "id": "90c04aeb",
   "metadata": {},
   "outputs": [],
   "source": [
    "# First we describe the numeric representation\n",
    "sector_code_rep = {'P': 0, 'S': 1}\n",
    "sales['SECTOR_CODE'] = sales['SECTOR_CODE'].map(sector_code_rep).astype(int)\n"
   ]
  },
  {
   "cell_type": "code",
   "execution_count": null,
   "id": "8d1dd9d8",
   "metadata": {},
   "outputs": [],
   "source": []
  },
  {
   "cell_type": "code",
   "execution_count": 69,
   "id": "2b185dfc",
   "metadata": {},
   "outputs": [],
   "source": [
    "# save the data\n",
    "output_dir = 'data_processed'\n",
    "df.to_csv(os.path.join(output_dir, 'data_processhealth_data_cleaneed.csv'), index=False)\n",
    "sales.to_csv(os.path.join(output_dir, 'sales_cleaned.csv'), index=False)"
   ]
  },
  {
   "cell_type": "markdown",
   "id": "57acf18b",
   "metadata": {},
   "source": [
    "If we wish to utilise this function for predictive modelling then we would have to change it into a numeric representation.\n",
    "As there are only two different values it would be perfect to convert it into a boolean (0,1)"
   ]
  },
  {
   "cell_type": "markdown",
   "id": "8e7619f8",
   "metadata": {},
   "source": [
    "#### Ranking ordered features (ordinal features) using label encoding:\n",
    "\n",
    "Since one-hot encoding can increase the no. of features dramatically,\n",
    "we will show another method of changing categorical features into numeric - LabelEncoding. Import to note here is that if we just use LabelEncoding then the categorical feature will be label in order of frequency. However, when we utilise this feature for training machine learning models, it will count the ones with higher values as being more important. This is not necessarily the truth. We wish for a way so that the order of numbers is representative. Thus we need to make an order to base our labeling on. Sometimes, the order is very clear (e.g. low, mid, high, very high), and sometimes we have to be\n",
    "a bit creative.\n",
    "\n",
    "\n",
    "In the following, we'll convert the brick and brick_nr by finding a metric for the order and then using label encoding. Looking at the dataframe there are many different features that could be the basis for creating the order. Just as an example we will use the number of type 2 diabetes (t2d_patients)"
   ]
  },
  {
   "cell_type": "code",
   "execution_count": 8,
   "id": "49955c60",
   "metadata": {},
   "outputs": [
    {
     "data": {
      "text/html": [
       "<div>\n",
       "<style scoped>\n",
       "    .dataframe tbody tr th:only-of-type {\n",
       "        vertical-align: middle;\n",
       "    }\n",
       "\n",
       "    .dataframe tbody tr th {\n",
       "        vertical-align: top;\n",
       "    }\n",
       "\n",
       "    .dataframe thead th {\n",
       "        text-align: right;\n",
       "    }\n",
       "</style>\n",
       "<table border=\"1\" class=\"dataframe\">\n",
       "  <thead>\n",
       "    <tr style=\"text-align: right;\">\n",
       "      <th></th>\n",
       "      <th>YEAR_MONTH</th>\n",
       "      <th>SECTOR_CODE</th>\n",
       "      <th>VOLUME</th>\n",
       "      <th>VALUE</th>\n",
       "      <th>WHO_ATC_CODE</th>\n",
       "      <th>brick</th>\n",
       "      <th>year</th>\n",
       "      <th>month</th>\n",
       "    </tr>\n",
       "  </thead>\n",
       "  <tbody>\n",
       "    <tr>\n",
       "      <th>0</th>\n",
       "      <td>202008</td>\n",
       "      <td>0</td>\n",
       "      <td>2</td>\n",
       "      <td>1910.00</td>\n",
       "      <td>A10BD20</td>\n",
       "      <td>Allerød</td>\n",
       "      <td>2020</td>\n",
       "      <td>08</td>\n",
       "    </tr>\n",
       "    <tr>\n",
       "      <th>1</th>\n",
       "      <td>202008</td>\n",
       "      <td>0</td>\n",
       "      <td>5</td>\n",
       "      <td>1562.70</td>\n",
       "      <td>A10AE04</td>\n",
       "      <td>Hillerød</td>\n",
       "      <td>2020</td>\n",
       "      <td>08</td>\n",
       "    </tr>\n",
       "    <tr>\n",
       "      <th>2</th>\n",
       "      <td>202008</td>\n",
       "      <td>0</td>\n",
       "      <td>-1</td>\n",
       "      <td>-737.87</td>\n",
       "      <td>A10BJ01</td>\n",
       "      <td>Haderslev</td>\n",
       "      <td>2020</td>\n",
       "      <td>08</td>\n",
       "    </tr>\n",
       "    <tr>\n",
       "      <th>3</th>\n",
       "      <td>202008</td>\n",
       "      <td>0</td>\n",
       "      <td>1</td>\n",
       "      <td>347.86</td>\n",
       "      <td>A10BK03</td>\n",
       "      <td>Dragør</td>\n",
       "      <td>2020</td>\n",
       "      <td>08</td>\n",
       "    </tr>\n",
       "    <tr>\n",
       "      <th>4</th>\n",
       "      <td>202008</td>\n",
       "      <td>0</td>\n",
       "      <td>75</td>\n",
       "      <td>50091.00</td>\n",
       "      <td>A10BJ06</td>\n",
       "      <td>Høje-Taastrup</td>\n",
       "      <td>2020</td>\n",
       "      <td>08</td>\n",
       "    </tr>\n",
       "    <tr>\n",
       "      <th>...</th>\n",
       "      <td>...</td>\n",
       "      <td>...</td>\n",
       "      <td>...</td>\n",
       "      <td>...</td>\n",
       "      <td>...</td>\n",
       "      <td>...</td>\n",
       "      <td>...</td>\n",
       "      <td>...</td>\n",
       "    </tr>\n",
       "    <tr>\n",
       "      <th>223668</th>\n",
       "      <td>202012</td>\n",
       "      <td>0</td>\n",
       "      <td>52</td>\n",
       "      <td>702.00</td>\n",
       "      <td>A10BA02</td>\n",
       "      <td>Guldborgsund</td>\n",
       "      <td>2020</td>\n",
       "      <td>12</td>\n",
       "    </tr>\n",
       "    <tr>\n",
       "      <th>223669</th>\n",
       "      <td>202012</td>\n",
       "      <td>0</td>\n",
       "      <td>2</td>\n",
       "      <td>439.82</td>\n",
       "      <td>A10BD13</td>\n",
       "      <td>Ringkøbing-Skjern</td>\n",
       "      <td>2020</td>\n",
       "      <td>12</td>\n",
       "    </tr>\n",
       "    <tr>\n",
       "      <th>223670</th>\n",
       "      <td>202012</td>\n",
       "      <td>0</td>\n",
       "      <td>23</td>\n",
       "      <td>10632.75</td>\n",
       "      <td>A10AE06</td>\n",
       "      <td>Frederiksberg</td>\n",
       "      <td>2020</td>\n",
       "      <td>12</td>\n",
       "    </tr>\n",
       "    <tr>\n",
       "      <th>223671</th>\n",
       "      <td>202012</td>\n",
       "      <td>0</td>\n",
       "      <td>5</td>\n",
       "      <td>1696.00</td>\n",
       "      <td>A10AE04</td>\n",
       "      <td>Næstved</td>\n",
       "      <td>2020</td>\n",
       "      <td>12</td>\n",
       "    </tr>\n",
       "    <tr>\n",
       "      <th>223672</th>\n",
       "      <td>202012</td>\n",
       "      <td>0</td>\n",
       "      <td>1</td>\n",
       "      <td>371.00</td>\n",
       "      <td>A10AD05</td>\n",
       "      <td>Rebild</td>\n",
       "      <td>2020</td>\n",
       "      <td>12</td>\n",
       "    </tr>\n",
       "  </tbody>\n",
       "</table>\n",
       "<p>223673 rows × 8 columns</p>\n",
       "</div>"
      ],
      "text/plain": [
       "       YEAR_MONTH  SECTOR_CODE  VOLUME     VALUE WHO_ATC_CODE  \\\n",
       "0          202008            0       2   1910.00      A10BD20   \n",
       "1          202008            0       5   1562.70      A10AE04   \n",
       "2          202008            0      -1   -737.87      A10BJ01   \n",
       "3          202008            0       1    347.86      A10BK03   \n",
       "4          202008            0      75  50091.00      A10BJ06   \n",
       "...           ...          ...     ...       ...          ...   \n",
       "223668     202012            0      52    702.00      A10BA02   \n",
       "223669     202012            0       2    439.82      A10BD13   \n",
       "223670     202012            0      23  10632.75      A10AE06   \n",
       "223671     202012            0       5   1696.00      A10AE04   \n",
       "223672     202012            0       1    371.00      A10AD05   \n",
       "\n",
       "                    brick  year month  \n",
       "0                 Allerød  2020    08  \n",
       "1                Hillerød  2020    08  \n",
       "2               Haderslev  2020    08  \n",
       "3                  Dragør  2020    08  \n",
       "4           Høje-Taastrup  2020    08  \n",
       "...                   ...   ...   ...  \n",
       "223668       Guldborgsund  2020    12  \n",
       "223669  Ringkøbing-Skjern  2020    12  \n",
       "223670      Frederiksberg  2020    12  \n",
       "223671            Næstved  2020    12  \n",
       "223672             Rebild  2020    12  \n",
       "\n",
       "[223673 rows x 8 columns]"
      ]
     },
     "execution_count": 8,
     "metadata": {},
     "output_type": "execute_result"
    }
   ],
   "source": [
    "sales"
   ]
  },
  {
   "cell_type": "code",
   "execution_count": null,
   "id": "e72640fe",
   "metadata": {},
   "outputs": [],
   "source": [
    "sales['WHO_ATC_CODE'].value_counts()"
   ]
  },
  {
   "cell_type": "code",
   "execution_count": 26,
   "id": "e1f185d8",
   "metadata": {},
   "outputs": [
    {
     "data": {
      "text/plain": [
       "(18104, 15074)"
      ]
     },
     "execution_count": 26,
     "metadata": {},
     "output_type": "execute_result"
    }
   ],
   "source": [
    "maskA = (sales['WHO_ATC_CODE']  == 'A10BA02')\n",
    "maskB = (sales['WHO_ATC_CODE']   == 'A10BJ06')"
   ]
  },
  {
   "cell_type": "code",
   "execution_count": 57,
   "id": "ad46a77f",
   "metadata": {},
   "outputs": [],
   "source": [
    "maskB = (sales['WHO_ATC_CODE'].str[:4]   == 'A10B')\n",
    "TT= sales[maskB]['WHO_ATC_CODE'].value_counts()"
   ]
  },
  {
   "cell_type": "code",
   "execution_count": 39,
   "id": "e7c3d153",
   "metadata": {},
   "outputs": [],
   "source": [
    "TT= sales[maskB]['WHO_ATC_CODE'].value_counts()"
   ]
  },
  {
   "cell_type": "code",
   "execution_count": 62,
   "id": "9ed8d5a2",
   "metadata": {},
   "outputs": [
    {
     "data": {
      "text/plain": [
       "(33,)"
      ]
     },
     "execution_count": 62,
     "metadata": {},
     "output_type": "execute_result"
    }
   ],
   "source": [
    "TT.shape"
   ]
  },
  {
   "cell_type": "code",
   "execution_count": 69,
   "id": "95f16998",
   "metadata": {},
   "outputs": [
    {
     "data": {
      "text/plain": [
       "(0.0, 300.0)"
      ]
     },
     "execution_count": 69,
     "metadata": {},
     "output_type": "execute_result"
    },
    {
     "data": {
      "image/png": "[encoded data removed]",
      "text/plain": [
       "<Figure size 640x480 with 1 Axes>"
      ]
     },
     "metadata": {},
     "output_type": "display_data"
    }
   ],
   "source": [
    "import matplotlib.pyplot as plt\n",
    "\n",
    "cutoff = 13_000\n",
    "vol = sales['VOLUME'][maskB].values\n",
    "val = sales['VALUE'][maskB].values\n",
    "\n",
    "for idx in range(TT.shape[0]):\n",
    "    if TT[idx] < cutoff:\n",
    "        break\n",
    "    mask = (sales['WHO_ATC_CODE'] == TT.index[idx])\n",
    "    plt.scatter(sales['VOLUME'][mask], sales['VALUE'][mask], marker='.', label=TT.index[idx], alpha=.2)\n",
    "\n",
    "plt.legend()\n",
    "plt.xlim(0, 300)\n",
    "# color maskA with red and maskB with blue\n",
    "#plt.scatter(vol[maskA], val[maskA], marker='.', c='red', alpha=.4)\n",
    "#plt.scatter(vol[maskB], val[maskB], marker='.', c='blue', alpha=.4)\n",
    "\n",
    "#plt.scatter(vol, val)"
   ]
  },
  {
   "cell_type": "code",
   "execution_count": 32,
   "id": "1b0e9d8c",
   "metadata": {},
   "outputs": [
    {
     "data": {
      "text/plain": [
       "<matplotlib.collections.PathCollection at 0x189765561d0>"
      ]
     },
     "execution_count": 32,
     "metadata": {},
     "output_type": "execute_result"
    },
    {
     "data": {
      "image/png": "[encoded data removed]",
      "text/plain": [
       "<Figure size 640x480 with 1 Axes>"
      ]
     },
     "metadata": {},
     "output_type": "display_data"
    }
   ],
   "source": [
    "import matplotlib.pyplot as plt\n",
    "vol = sales['VOLUME'].values\n",
    "val = sales['VALUE'].values\n",
    "\n",
    "# color maskA with red and maskB with blue\n",
    "plt.scatter(vol[maskA], val[maskA], marker='.', c='red', alpha=.4)\n",
    "plt.scatter(vol[maskB], val[maskB], marker='.', c='blue', alpha=.4)\n",
    "\n",
    "#plt.scatter(vol, val)\n"
   ]
  },
  {
   "cell_type": "markdown",
   "id": "58c5020b",
   "metadata": {},
   "source": [
    "#### One-hot encoding\n",
    "\n",
    "One-hot encoding has the advantage that is does not introduce any order between features like label encoding does, but the drawback that K different categories of a feature will be transformed into K or K-1 new features, and so the total number of features can become very large, which can hurt performance. For this reasons, if a feature has many categories, these categories are often grouped in straightforward (simply group rare categories) or clever (use domain knowledge to make groups)"
   ]
  },
  {
   "cell_type": "markdown",
   "id": "fe488f6f",
   "metadata": {},
   "source": [
    "We will one-hot encode the column 'WHO_ATC_CODE'\n",
    "ATC: The Anatomical Therapeutic Chemical code - a code assigned to medicine based on it organic structure and/or system"
   ]
  },
  {
   "cell_type": "code",
   "execution_count": 30,
   "id": "1a72a1bf",
   "metadata": {},
   "outputs": [],
   "source": [
    "## We need this function to do one-hot (or dummy) encoding\n",
    "def do_dummy_encoding(dataframe, target_columns, prefix_list, drop_first = False):\n",
    "    \"\"\"\n",
    "    For each cateogrical column with categories (l1,...,ln), this function transform the category into n ( if drop_first = False)\n",
    "    or n-1 columns, where [0,0,...,0] represents l1,\n",
    "    [1,0,...,0] rep. l2, [0,1,0,...,0] rep l3 etc\n",
    "    \"\"\"\n",
    "    data = dataframe.copy()\n",
    "    # Build dummy index dataframe\n",
    "    dummy_columns = pd.get_dummies(data[target_columns], prefix = prefix_list, drop_first=drop_first)\n",
    "\n",
    "    ## Append new columns to dataframe\n",
    "    data = pd.concat([data, dummy_columns], axis = 1)\n",
    "\n",
    "    ## Drop original columns\n",
    "    data.drop(columns = target_columns, inplace=True)\n",
    "    return data"
   ]
  },
  {
   "cell_type": "code",
   "execution_count": 31,
   "id": "122f8163",
   "metadata": {},
   "outputs": [],
   "source": [
    "onehot_cols = ['WHO_ATC_CODE']\n",
    "\n",
    "for i, col in enumerate(onehot_cols):\n",
    "    # Use onehot_cols[i] as prefix for the new columns\n",
    "    # If drop_first = False, the first category will be included in the new columns\n",
    "    # If drop_first = True, the first category will be dropped, meaning that\n",
    "    #  if all new columns are 0, the category is the first one. This is the most\n",
    "    #  efficient way of doing it, but it has the price that we have to remember that\n",
    "    # the first category is represented like this\n",
    "    df_dropped = do_dummy_encoding(df_dropped, col, onehot_cols[i], drop_first = False)\n"
   ]
  }
 ],
 "metadata": {
  "kernelspec": {
   "display_name": "Python 3 (ipykernel)",
   "language": "python",
   "name": "python3"
  },
  "language_info": {
   "codemirror_mode": {
    "name": "ipython",
    "version": 3
   },
   "file_extension": ".py",
   "mimetype": "text/x-python",
   "name": "python",
   "nbconvert_exporter": "python",
   "pygments_lexer": "ipython3",
   "version": "3.10.12"
  }
 },
 "nbformat": 4,
 "nbformat_minor": 5
}
